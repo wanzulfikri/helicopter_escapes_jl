{
 "cells": [
  {
   "cell_type": "markdown",
   "id": "53704600",
   "metadata": {},
   "source": [
    "# On Countries, Prisoners, and the Power of ❤️: An Analysis of Helicopter Escape Attempts and Success Chance"
   ]
  },
  {
   "cell_type": "markdown",
   "id": "fde57f00",
   "metadata": {},
   "source": [
    "Helicopter escape is a rare event, yet when it happens, it normally involves high-profile criminals who have the resources and network to organise the risky attempt. These criminals are very dangerous if they're at large, thus it's important to reduce or prevent any further helicopter escapes. \n",
    "\n",
    "The first few steps in accomplishing that would be the identification of the following:\n",
    "\n",
    "1. Which countries have the highest helicopter escape attempts?\n",
    "2. Which countries have the highest helicopter escape success chance?\n",
    "\n",
    "Also, we recently read the [story](https://apnews.com/article/d9df3592a19041822a3c4055f9536505) of Michel Vaujour's wife who took flying lessons for months and attempted to free her husband by piloting a helicopter on her own. Inspired by the story, we would like to additionally investigate if the power of love has an impact on success chance."
   ]
  },
  {
   "cell_type": "markdown",
   "id": "ef07e844",
   "metadata": {},
   "source": [
    "### Summary of Results\n",
    "\n",
    "TODO: Write after everything else"
   ]
  },
  {
   "cell_type": "markdown",
   "id": "e2858fc8",
   "metadata": {},
   "source": [
    "## Tools and Methodologies\n",
    "\n",
    "### Programming Language \n",
    "\n",
    "We'll be using [Julia](https://julialang.org/) — a relatively new general-purpose language but with strong emphasis numerical analysis and computational science. Frankly, we are quite new to Julia so the codes we'll write for the rest of this project do not reflect Julia's actual calibre as a data science programming language.\n",
    "\n",
    "Aside from that, unlike Python, Julia's ecosystem are fairly small. Thus, the libraries we use are not necessarily the best, but they are what's currently available. Julia can interoperate with Python as well, though in this project, we choose to stick to Julia's packages.\n",
    "\n",
    "### Type of Analysis\n",
    "\n",
    "Our analysis will be simple in this project e.g bar charts, summary statistics, because our intention is to get an overview rather than a deep dive into the issue."
   ]
  },
  {
   "cell_type": "markdown",
   "id": "61ce1410",
   "metadata": {},
   "source": [
    "## Source of data\n",
    "\n",
    "The data for this project is based on the [list of helicopter prison escapes](https://en.wikipedia.org/wiki/List_of_helicopter_prison_escapes) on Wikipedia. Wikipedia's content is crowd-sourced thus the quality of the article can vary depending on the contributors. Since we are not aware of any other sources that track helicopter escapes, we decided to use the stated Wikipedia's article while acknowledging the possible data quality issue.\n",
    "\n",
    "The article is shared under the [Creative Commons Attribution-ShareAlike License 3.0](https://en.wikipedia.org/wiki/Wikipedia:Text_of_Creative_Commons_Attribution-ShareAlike_3.0_Unported_License) which permits the copying of content from the article. "
   ]
  },
  {
   "cell_type": "markdown",
   "id": "6a5a1521",
   "metadata": {},
   "source": [
    "### Sections Relevancy\n",
    "\n",
    "The first two sections, Getting the Data and Cleaning Up, are mostly technical and meant for setting up the data for easier and proper analysis. Feel free to skip them if you're only interested in the analyses and their results. "
   ]
  },
  {
   "cell_type": "markdown",
   "id": "886813a6",
   "metadata": {},
   "source": [
    "# Getting the Data"
   ]
  },
  {
   "cell_type": "markdown",
   "id": "bd088f27",
   "metadata": {},
   "source": [
    "## The How\n",
    "\n",
    "The Wikipedia article doesn't provide a downloadable dataset for us to use. Because of this, we have to resort to web-scraping. Considering that all our data is on one page, we can web-scrape with a single function call thus we avoid overloading Wikipedia's server. Even if Wikipedia can withstand repeated visits, it's always good manners to consider if we're being respectful rather than assuming that we can do anything we want.\n",
    "\n",
    "We also reviewed Wikipedia's [robots.txt](https://en.wikipedia.org/robots.txt) and found no line indicating that the article is disallowed for scraping. Another alternative we should consider when we use Wikipedia again in other projects is to use its [REST API](https://en.wikipedia.org/api/rest_v1/).\n",
    "\n"
   ]
  },
  {
   "cell_type": "code",
   "execution_count": 1,
   "id": "3bc97e9f",
   "metadata": {},
   "outputs": [
    {
     "data": {
      "application/vnd.webio.node+json": {
       "children": [],
       "instanceArgs": {
        "namespace": "html",
        "tag": "div"
       },
       "nodeType": "DOM",
       "props": {},
       "type": "node"
      },
      "text/html": [
       "<div style=\"padding: 1em; background-color: #f8d6da; border: 1px solid #f5c6cb; font-weight: bold;\">\n",
       "<p>The WebIO Jupyter extension was not detected. See the\n",
       "<a href=\"https://juliagizmos.github.io/WebIO.jl/latest/providers/ijulia/\" target=\"_blank\">\n",
       "    WebIO Jupyter integration documentation\n",
       "</a>\n",
       "for more information.\n",
       "</div>\n"
      ],
      "text/plain": [
       "WebIO._IJuliaInit()"
      ]
     },
     "metadata": {
      "application/vnd.webio.node+json": {
       "kernelId": "892b8c52-46ac-48df-bfff-769eaa11b300"
      }
     },
     "output_type": "display_data"
    },
    {
     "data": {
      "text/plain": [
       "10000"
      ]
     },
     "execution_count": 1,
     "metadata": {},
     "output_type": "execute_result"
    }
   ],
   "source": [
    "# import all the necessary packages for the whole project\n",
    "using HTTP, Gumbo, DataFrames, Statistics, FreqTables, PlotlyJS, Colors, ColorSchemes\n",
    "\n",
    "import AbstractTrees as AT, Plots as PLT, StatsBase as SB\n",
    "\n",
    "#=\n",
    "Notes on packages\n",
    "\n",
    "HTTP          - handles GET requests\n",
    "Gumbo         - an HTML parser based on Google's Gumbo parser\n",
    "Statistics    - Julia's built-in statistics package containing only the essential statictical operations\n",
    "FreqTables    - converts DataFrames, Vectors, etc into a frequency table\n",
    "AbstractTrees - needed to iterate through the HTML elements\n",
    "Plots         - Julia's built-in plotting package\n",
    "StatsBase     - to provide some statistics operations not available in Statistics\n",
    "\n",
    "=#\n",
    "\n",
    "# by default, Jupyter won't display all columns in a dataframe\n",
    "#\n",
    "# we set the environment variable to override that behaviour, \n",
    "# thus displaying all columns (assuming column numbers <= 10000)\n",
    "ENV[\"COLUMNS\"]=10000"
   ]
  },
  {
   "cell_type": "code",
   "execution_count": 2,
   "id": "49792326",
   "metadata": {},
   "outputs": [],
   "source": [
    "# PLT.plotlyjs()"
   ]
  },
  {
   "cell_type": "markdown",
   "id": "49631ece",
   "metadata": {},
   "source": [
    "### Web-scrape the article and store the result locally for reusability"
   ]
  },
  {
   "cell_type": "markdown",
   "id": "df1aa25c",
   "metadata": {},
   "source": [
    "We start by sending a GET request to the article url. From there, we can store the response and then extract the response body.\n",
    "\n",
    "Note that we've already scraped the article before writing this, but we've provided the relevant code for reference. "
   ]
  },
  {
   "cell_type": "code",
   "execution_count": 3,
   "id": "f8432b30",
   "metadata": {},
   "outputs": [
    {
     "data": {
      "text/plain": [
       "\"<!DOCTYPE html>\\n<html class=\\\"client-nojs\\\" lang=\\\"en\\\" dir=\\\"ltr\\\">\\n<head>\\n<meta charset=\\\"UTF-8\\\"/>\\n<title>List of helicopter prison escapes - Wikipedia</title>\\n<script>document.documentElement.className=\\\"client-js\\\";RLCONF={\\\"wgBreakFrames\\\":false,\\\"wgSeparatorTransformTable\\\":[\\\"\\\",\\\"\\\"],\\\"wgDigitTransformTable\\\":[\\\"\\\",\\\"\\\"],\\\"wgDefaultDateFormat\\\":\\\"dmy\\\",\\\"wgMonthNames\\\":[\\\"\\\",\\\"January\\\",\\\"February\\\",\\\"March\\\",\\\"April\\\",\\\"May\\\",\\\"June\\\",\\\"July\\\",\\\"August\\\",\\\"September\\\",\\\"October\\\",\\\"November\\\",\\\"December\\\"],\\\"wgRequestId\\\":\\\"6e0b92a5-42ff-47b4-94a5-92063aec8ef0\\\",\\\"wgCSPNonce\\\":false,\\\"wgCanonicalNamespace\\\":\\\"\\\",\\\"wgCanonicalSpecialPageName\\\":false,\\\"wgNamespaceNumber\\\":0,\\\"wgPageName\\\":\\\"List_of_helicopter_prison_escapes\\\",\\\"wgTitle\\\":\\\"List of helicopter prison escapes\\\",\\\"wgCurRevisionId\\\":1104271511,\\\"wgRevisionId\\\":1104271511,\\\"wgArticleId\\\":5531650,\\\"wgIsArticle\\\":true,\\\"wgIsRedirect\\\":false,\\\"wgAction\\\":\\\"view\\\",\\\"wgUserName\\\":null,\\\"wgUserGroups\\\":[\\\"*\\\"],\\\"wgCategories\\\":[\\\"CS1 Italian-language sources (it)\\\",\\\"All articles with dead external links\\\",\\\"Articles with dead external links from January 2018\\\",\\\"Articles with permanently dead external links\\\",\\\"Articles with dead external links from August 2021\\\",\\n\\\"Articles with dead external links from December 2017\\\",\\\"CS1 errors: generic name\\\",\\\"Articles with short description\\\",\\\"Short description is different from Wikidata\\\",\\\"Articles using small message boxes\\\",\\\"Incomplete lists from December 2010\\\",\\\"Articles with hCards\\\",\\\"Helicopters\\\",\\\"Prison escapes\\\",\\\"Escapes\\\",\\\"Lists of events\\\"],\\\"wgPageContentLanguage\\\":\\\"en\\\",\\\"wgPageContentModel\\\":\\\"wikitext\\\",\\\"wgRelevantPageName\\\":\\\"List_of_helicopter_prison_escapes\\\",\\\"wgRelevantArticleId\\\":5531650,\\\"wgIsProbablyEditable\\\":true,\\\"wgRelevantPageIsProbablyEditable\\\":true,\\\"wgRestrictionEdit\\\":[],\\\"wgRestrictionMove\\\":[],\\\"wgFlaggedRevsParams\\\":{\\\"tags\\\":{\\\"status\\\":{\\\"levels\\\":1}}},\\\"wgVisualEditor\\\":{\\\"pageLanguageCode\\\":\\\"en\\\",\\\"pageLanguageDir\\\":\\\"ltr\\\",\\\"pageVariantFallbacks\\\":\\\"en\\\"},\\\"wgMFDisplayWikibaseDescriptions\\\":{\\\"search\\\":true,\\\"nearby\\\":true,\\\"watchlist\\\":true,\\\"tagline\\\":false},\\\"wgWMESchemaEditAttemptStepOversample\\\":false,\\\"wgWMEPageLength\\\":70000,\\\"wgNoticeProject\\\":\\\"wikipedia\\\",\\\"wgVector2022PreviewPages\\\":[],\\\"wgMediaViewerOnClick\\\":true,\\n\\\"wgMediaViewerEnabledByDefault\\\":true,\\\"wgPopupsFlags\\\":10,\\\"wgULSCurrentAutonym\\\":\\\"English\\\",\\\"wgEditSubmitButtonLabelPublish\\\":true,\\\"wgCentralAuthMobileDomain\\\":false,\\\"wgULSPosition\\\":\\\"interlanguage\\\",\\\"wgULSisCompactLinksEnabled\\\":true,\\\"wgWikibaseItemId\\\":\\\"Q3592745\\\",\\\"GEHomepageSuggestedEditsEnableTopics\\\":true,\\\"wgGETopicsMatchModeEnabled\\\":false,\\\"wgGEStructuredTaskRejectionReasonTextInputEnabled\\\":false};RLSTATE={\\\"ext.globalCssJs.user.styles\\\":\\\"ready\\\",\\\"site.styles\\\":\\\"ready\\\",\\\"user.styles\\\":\\\"ready\\\",\\\"ext.globalCssJs.user\\\":\\\"ready\\\",\\\"user\\\":\\\"ready\\\",\\\"user.options\\\":\\\"loading\\\",\\\"ext.cite.styles\\\":\\\"ready\\\",\\\"skins.vector.styles.legacy\\\":\\\"ready\\\",\\\"jquery.tablesorter.styles\\\":\\\"ready\\\",\\\"jquery.makeCollapsible.styles\\\":\\\"ready\\\",\\\"ext.visualEditor.desktopArticleTarget.noscript\\\":\\\"ready\\\",\\\"ext.wikimediaBadges\\\":\\\"ready\\\",\\\"ext.uls.interlanguage\\\":\\\"ready\\\",\\\"wikibase.client.init\\\":\\\"ready\\\"};RLPAGEMODULES=[\\\"ext.cite.ux-enhancements\\\",\\\"site\\\",\\\"mediawiki.page.ready\\\",\\\"jquery.tablesorter\\\",\\\"jquery.makeCollapsible\\\",\\\"mediawiki.toc\\\",\\n\\\"skins.vector.legacy.js\\\",\\\"mmv.head\\\",\\\"mmv.bootstrap.autostart\\\",\\\"ext.visualEditor.desktopArticleTarget.init\\\",\\\"ext.visualEditor.targetLoader\\\",\\\"ext.eventLogging\\\",\\\"ext.wikimediaEvents\\\",\\\"ext.navigationTiming\\\",\\\"ext.cx.eventlogging.campaigns\\\",\\\"ext.centralNotice.geoIP\\\",\\\"ext.centralNotice.startUp\\\",\\\"ext.gadget.ReferenceTooltips\\\",\\\"ext.gadget.charinsert\\\",\\\"ext.gadget.extra-toolbar-buttons\\\",\\\"ext.gadget.switcher\\\",\\\"ext.centralauth.centralautologin\\\",\\\"ext.popups\\\",\\\"ext.uls.compactlinks\\\",\\\"ext.uls.interface\\\",\\\"ext.growthExperiments.SuggestedEditSession\\\"];</script>\\n<script>(RLQ=window.RLQ||[]).push(function(){mw.loader.implement(\\\"user.options@12s5i\\\",function(\\$,jQuery,require,module){mw.user.tokens.set({\\\"patrolToken\\\":\\\"+\\\\\\\\\\\",\\\"watchToken\\\":\\\"+\\\\\\\\\\\",\\\"csrfToken\\\":\\\"+\\\\\\\\\\\"});});});</script>\\n<link rel=\\\"stylesheet\\\" href=\\\"/w/load.php?lang=en&amp;modules=ext.cite.styles%7Cext.uls.interlanguage%7Cext.visualEditor.desktopArticleTarget.noscript%7Cext.wikimediaBadges%7Cjquery.makeCollapsible.styles%7Cjquery.tablesorter.styles%7Cskins.vector.styles.legacy%7Cwikibase.client.init&amp;only=styles&amp;skin=vector\\\"/>\\n<script async=\\\"\\\" src=\\\"/w/load.php?lang=en&amp;modules=startup&amp;only=scripts&amp;raw=1&amp;skin=vector\\\"></script>\\n<meta name=\\\"ResourceLoaderDynamicStyles\\\" content=\\\"\\\"/>\\n<link rel=\\\"stylesheet\\\" href=\\\"/w/load.php?lang=en&amp;modules=site.styles&amp;only=styles&amp;skin=vector\\\"/>\\n<meta name=\\\"generator\\\" content=\\\"MediaWiki 1.40.0-wmf.1\\\"/>\\n<meta name=\\\"referrer\\\" content=\\\"origin\\\"/>\\n<meta name=\\\"referrer\\\" content=\\\"origin-when-crossorigin\\\"/>\\n<meta name=\\\"referrer\\\" content=\\\"origin-when-cross-origin\\\"/>\\n<meta name=\\\"format-detection\\\" content=\\\"telephone=no\\\"/>\\n<meta property=\\\"og:image\\\" content=\\\"https://upload.wikimedia.org/wikipedia/commons/4/40/Mountjoy_Prison.jpg\\\"/>\\n<meta property=\\\"og:image:width\\\" content=\\\"1200\\\"/>\\n<meta property=\\\"og:image:height\\\" content=\\\"745\\\"/>\\n<meta property=\\\"og:image\\\" content=\\\"https://upload.wikimedia.org/wikipedia/commons/4/40/Mountjoy_Prison.jpg\\\"/>\\n<meta property=\\\"og:image:width\\\" content=\\\"800\\\"/>\\n<meta property=\\\"og:image:height\\\" content=\\\"497\\\"/>\\n<meta property=\\\"og:image:width\\\" content=\\\"640\\\"/>\\n<meta property=\\\"og:image:height\\\" content=\\\"397\\\"/>\\n<meta name=\\\"viewport\\\" content=\\\"width=1000\\\"/>\\n<meta property=\\\"og:title\\\" content=\\\"List of helicopter prison escapes - Wikipedia\\\"/>\\n<meta property=\\\"og:type\\\" content=\\\"website\\\"/>\\n<link rel=\\\"preconnect\\\" href=\\\"//upload.wikimedia.org\\\"/>\\n<link rel=\\\"alternate\\\" media=\\\"only screen and (max-width: 720px)\\\" href=\\\"//en.m.wikipedia.org/wiki/List_of_helicopter_prison_escapes\\\"/>\\n<link rel=\\\"alternate\\\" type=\\\"application/x-wiki\\\" title=\\\"Edit this page\\\" href=\\\"/w/index.php?title=List_of_helicopter_prison_escapes&amp;action=edit\\\"/>\\n<link rel=\\\"apple-touch-icon\\\" href=\\\"/static/apple-touch/wikipedia.png\\\"/>\\n<link rel=\\\"icon\\\" href=\\\"/static/favicon/wikipedia.ico\\\"/>\\n<link rel=\\\"search\\\" type=\\\"application/opensearchdescription+xml\\\" href=\\\"/w/opensearch_desc.php\\\" title=\\\"Wikipedia (en)\\\"/>\\n<link rel=\\\"EditURI\\\" type=\\\"application/rsd+xml\\\" href=\\\"//en.wikipedia.org/w/api.php?action=rsd\\\"/>\\n<link rel=\\\"license\\\" href=\\\"https://creativecommons.org/licenses/by-sa/3.0/\\\"/>\\n<link rel=\\\"canonical\\\" href=\\\"https://en.wikipedia.org/wiki/List_of_helicopter_prison_escapes\\\"/>\\n<link rel=\\\"dns-prefetch\\\" href=\\\"//meta.wikimedia.org\\\" />\\n<link rel=\\\"dns-prefetch\\\" href=\\\"//login.wikimedia.org\\\"/>\\n</head>\\n<body class=\\\"mediawiki ltr sitedir-ltr mw-hide-empty-elt ns-0 ns-subject mw-editable page-List_of_helicopter_prison_escapes rootpage-List_of_helicopter_prison_escapes skin-vector action-view skin-vector-legacy vector-toc-not-collapsed vector-feature-language-in-header-enabled vector-feature-language-in-main-page-header-disabled vector-feature-language-alert-in-sidebar-enabled vector-feature-sticky-header-disabled vector-feature-sticky-header-edit-disabled vector-feature-table-of-contents-disabled vector-feature-visual-enhancement-next-disabled\\\"><div id=\\\"mw-page-base\\\" class=\\\"noprint\\\"></div>\\n<div id=\\\"mw-head-base\\\" class=\\\"noprint\\\"></div>\\n<div id=\\\"content\\\" class=\\\"mw-body\\\" role=\\\"main\\\">\\n\\t<a id=\\\"top\\\"></a>\\n\\t<div id=\\\"siteNotice\\\"><!-- CentralNotice --></div>\\n\\t<div class=\\\"mw-indicators\\\">\\n\\t</div>\\n\\t<h1 id=\\\"firstHeading\\\" class=\\\"firstHeading mw-first-heading\\\"><span class=\\\"mw-page-title-main\\\">List of helicopter prison escapes</span></h1>\\n\\t<div id=\\\"bodyContent\\\" class=\\\"vector-body\\\">\\n\\t\\t<div id=\\\"siteSub\\\" class=\\\"noprint\\\">From Wikipedia, the free encyclopedia</div>\\n\\t\\t<div id=\\\"contentSub\\\"></div>\\n\\t\\t<div id=\\\"contentSub2\\\"></div>\\n\\t\\t\\n\\t\\t<div id=\\\"jump-to-nav\\\"></div>\\n\\t\\t<a class=\\\"mw-jump-link\\\" href=\\\"#mw-head\\\">Jump to navigation</a>\\n\\t\\t<a class=\\\"mw-jump-link\\\" href=\\\"#searchInput\\\">Jump to search</a>\\n\\t\\t<div id=\\\"mw-content-text\\\" class=\\\"mw-body-content mw-content-ltr\\\" lang=\\\"en\\\" dir=\\\"ltr\\\"><div class=\\\"mw-parser-output\\\"><p class=\\\"mw-empty-elt\\\">\\n</p>\\n<div class=\\\"thumb tright\\\"><div class=\\\"thumbinner\\\" style=\\\"width:222px;\\\"><a href=\\\"/wiki/File:Mountjoy_Prison.jpg\\\" class=\\\"image\\\"><img alt=\\\"\\\" src=\\\"//upload.wikimedia.org/wikipedia/commons/thumb/4/40/Mountjoy_Prison.jpg/220px-Mountjoy_Prison.jpg\\\" decoding=\\\"async\\\" width=\\\"220\\\" height=\\\"137\\\" class=\\\"thumbimage\\\" srcset=\\\"//upload.wikimedia.org/wikipedia/commons/thumb/4/40/Mountjoy_Prison.jpg/330px-Mountjoy_Prison.jpg 1.5x, //upload.wikimedia.org/wikipedia/commons/thumb/4/40/Mountjoy_Prison.jpg/440px-Mountjoy_Prison.jpg 2x\\\" data-file-width=\\\"636\\\" data-file-height=\\\"395\\\" /></a>  <div class=\\\"thumbcaption\\\"><div class=\\\"magnify\\\"><a href=\\\"/wiki/File:Mountjoy_Prison.jpg\\\" class=\\\"internal\\\" title=\\\"Enlarge\\\"></a></div><a href=\\\"/wiki/Mountjoy_Prison\\\" title=\\\"Mountjoy Prison\\\">Mountjoy Prison</a> where on October 31, 1973 three IRA members escaped in a hijacked helicopter.<sup id=\\\"cite_ref-mountjoy_1-0\\\" class=\\\"reference\\\"><a href=\\\"#cite_note-mountjoy-1\\\">&#91;1&#93;</a></sup></div></div></div>\\n<div class=\\\"thumb tright\\\"><div class=\\\"thumbinner\\\" style=\\\"width:222px;\\\"><a href=\\\"/wiki/File:La-Sante-Prison-MCB.jpg\\\" class=\\\"image\\\"><img alt=\\\"\\\" src=\\\"//upload.wikimedia.org/wikipedia/commons/thumb/8/85/La-Sante-Prison-MCB.jpg/220px-La-Sante-Prison-MCB.jpg\\\" decoding=\\\"async\\\" width=\\\"220\\\" height=\\\"165\\\" class=\\\"thumbimage\\\" srcset=\\\"//upload.wikimedia.org/wikipedia/commons/thumb/8/85/La-Sante-Prison-MCB.jpg/330px-La-Sante-Prison-MCB.jpg 1.5x, //upload.wikimedia.org/wikipedia/commons/thumb/8/85/La-Sante-Prison-MCB.jpg/440px-La-Sante-Prison-MCB.jpg 2x\\\" data-file-width=\\\"1249\\\" data-file-height=\\\"936\\\" /></a>  <div class=\\\"thumbcaption\\\"><div class=\\\"magnify\\\"><a href=\\\"/wiki/File:La-Sante-Prison-MCB.jpg\\\" class=\\\"internal\\\" title=\\\"Enlarge\\\"></a></div><a href=\\\"/wiki/Prison_de_la_Sant%C3%A9\\\" class=\\\"mw-redirect\\\" title=\\\"Prison de la Santé\\\">Prison de la Santé</a> where on May 26, 1986 Michel Vaujour was flown out of the prison by his wife.<sup id=\\\"cite_ref-lesante_2-0\\\" class=\\\"reference\\\"><a href=\\\"#cite_note-lesante-2\\\">&#91;2&#93;</a></sup></div></div></div>\\n<p>There have been multiple <a href=\\\"/wiki/Prison_escape\\\" title=\\\"Prison escape\\\">prison escapes</a> where an inmate escapes by means of a <a href=\\\"/wiki/Helicopter\\\" title=\\\"Helicopter\\\">helicopter</a>.  One of the earliest instances  was the escape of Joel David Kaplan, nicknamed \\\"Man Fan\\\", on August 19, 1971, from the Santa Martha Acatitla in Mexico.<sup id=\\\"cite_ref-Kaplan_3-0\\\" class=\\\"reference\\\"><a href=\\\"#cite_note-Kaplan-3\\\">&#91;3&#93;</a></sup> Kaplan was a New York businessman who not only escaped the prison but eventually got out of Mexico and went on to write a book about his experience, <i>The 10-Second Jailbreak</i>.<sup id=\\\"cite_ref-Kaplan_book_4-0\\\" class=\\\"reference\\\"><a href=\\\"#cite_note-Kaplan_book-4\\\">&#91;4&#93;</a></sup>\\n</p><p>France has had more recorded helicopter escape attempts than any other country, with at least 11.<sup id=\\\"cite_ref-aiton_2005_5-0\\\" class=\\\"reference\\\"><a href=\\\"#cite_note-aiton_2005-5\\\">&#91;5&#93;</a></sup> One of the most notable French jail breaks occurred in 1986, when the wife of bank robber Michel Vaujour studied for months to learn how to fly a helicopter. Using her newly acquired skills, she rented a white helicopter and flew low over Paris to pluck her husband off the roof of his fortress prison. Vaujour was later seriously wounded in a shootout with police, and his pilot wife was arrested.<sup id=\\\"cite_ref-lesante_2-1\\\" class=\\\"reference\\\"><a href=\\\"#cite_note-lesante-2\\\">&#91;2&#93;</a></sup>\\n</p><p>The record for most helicopter escapes goes to convicted murderer <a href=\\\"/wiki/Pascal_Payet\\\" title=\\\"Pascal Payet\\\">Pascal Payet</a>, who has used helicopters to escape from prisons in 2001, 2003, and most recently 2007.<sup id=\\\"cite_ref-Grasse_6-0\\\" class=\\\"reference\\\"><a href=\\\"#cite_note-Grasse-6\\\">&#91;6&#93;</a></sup>\\n</p><p>Another multiple helicopter escapee is <a href=\\\"/wiki/Vasilis_Paleokostas\\\" class=\\\"mw-redirect\\\" title=\\\"Vasilis Paleokostas\\\">Vasilis Paleokostas</a>, who on February 22, 2009, escaped for the second time from the <a href=\\\"/wiki/Korydallos_Prison\\\" title=\\\"Korydallos Prison\\\">same prison</a>.<sup id=\\\"cite_ref-korydallos_7-0\\\" class=\\\"reference\\\"><a href=\\\"#cite_note-korydallos-7\\\">&#91;7&#93;</a></sup>\\n</p><p>To thwart attempts of this nature, many prisons have taken precautions such as nets or cables strung over open prison courtyards.<sup id=\\\"cite_ref-Blade_1988_8-0\\\" class=\\\"reference\\\"><a href=\\\"#cite_note-Blade_1988-8\\\">&#91;8&#93;</a></sup>\\n</p><p>This list includes prisoner escapes where a helicopter was used in an attempt to free prisoners from a place of internment, a prison or correctional facility.\\n</p>\\n<div id=\\\"toc\\\" class=\\\"toc\\\" role=\\\"navigation\\\" aria-labelledby=\\\"mw-toc-heading\\\"><input type=\\\"checkbox\\\" role=\\\"button\\\" id=\\\"toctogglecheckbox\\\" class=\\\"toctogglecheckbox\\\" style=\\\"display:none\\\" /><div class=\\\"toctitle\\\" lang=\\\"en\\\" dir=\\\"ltr\\\"><h2 id=\\\"mw-toc-heading\\\">Contents</h2><span class=\\\"toctogglespan\\\"><label class=\\\"toctogglelabel\\\" for=\\\"toctogglecheckbox\\\"></label></span></div>\\n<ul>\\n<li class=\\\"toclevel-1 tocsection-1\\\"><a href=\\\"#Actual_attempts\\\"><span class=\\\"tocnumber\\\">1</span> <span class=\\\"toctext\\\">Actual attempts</span></a></li>\\n<li class=\\\"toclevel-1 tocsection-2\\\"><a href=\\\"#Escapes_in_fiction\\\"><span class=\\\"tocnumber\\\">2</span> <span class=\\\"toctext\\\">Escapes in fiction</span></a></li>\\n<li class=\\\"toclevel-1 tocsection-3\\\"><a href=\\\"#See_also\\\"><span class=\\\"tocnumber\\\">3</span> <span class=\\\"toctext\\\">See also</span></a></li>\\n<li class=\\\"toclevel-1 tocsection-4\\\"><a href=\\\"#References\\\"><span class=\\\"tocnumber\\\">4</span> <span class=\\\"toctext\\\">References</span></a></li>\\n</ul>\\n</div>\\n\\n<h2><span class=\\\"mw-headline\\\" id=\\\"Actual_attempts\\\">Actual attempts</span><span class=\\\"mw-editsection\\\"><span class=\\\"mw-editsection-bracket\\\">[</span><a href=\\\"/w/index.php?title=List_of_helicopter_prison_escapes&amp;action=edit&amp;section=1\\\" title=\\\"Edit section: Actual attempts\\\">edit</a><span class=\\\"mw-editsection-bracket\\\">]</span></span></h2>\\n<style data-mw-deduplicate=\\\"TemplateStyles:r1097763485\\\">.mw-parser-output .ambox{border:1px solid #a2a9b1;border-left:10px solid #36c;background-color:#fbfbfb;box-sizing:border-box}.mw-parser-output .ambox+link+.ambox,.mw-parser-output .ambox+link+style+.ambox,.mw-parser-output .ambox+link+link+.ambox,.mw-parser-output .ambox+.mw-empty-elt+link+.ambox,.mw-parser-output .ambox+.mw-empty-elt+link+style+.ambox,.mw-parser-output .ambox+.mw-empty-elt+link+link+.ambox{margin-top:-1px}html body.mediawiki .mw-parser-output .ambox.mbox-small-left{margin:4px 1em 4px 0;overflow:hidden;width:238px;border-collapse:collapse;font-size:88%;line-height:1.25em}.mw-parser-output .ambox-speedy{border-left:10px solid #b32424;background-color:#fee7e6}.mw-parser-output .ambox-delete{border-left:10px solid #b32424}.mw-parser-output .ambox-content{border-left:10px solid #f28500}.mw-parser-output .ambox-style{border-left:10px solid #fc3}.mw-parser-output .ambox-move{border-left:10px solid #9932cc}.mw-parser-output .ambox-protection{border-left:10px solid #a2a9b1}.mw-parser-output .ambox .mbox-text{border:none;padding:0.25em 0.5em;width:100%}.mw-parser-output .ambox .mbox-image{border:none;padding:2px 0 2px 0.5em;text-align:center}.mw-parser-output .ambox .mbox-imageright{border:none;padding:2px 0.5em 2px 0;text-align:center}.mw-parser-output .ambox .mbox-empty-cell{border:none;padding:0;width:1px}.mw-parser-output .ambox .mbox-image-div{width:52px}html.client-js body.skin-minerva .mw-parser-output .mbox-text-span{margin-left:23px!important}@media(min-width:720px){.mw-parser-output .ambox{margin:0 10%}}</style><table class=\\\"plainlinks metadata ambox mbox-small-left ambox-notice\\\" role=\\\"presentation\\\" style=\\\"width: auto;\\\"><tbody><tr><td class=\\\"mbox-image\\\"><img alt=\\\"\\\" src=\\\"//upload.wikimedia.org/wikipedia/en/thumb/1/1d/Information_icon4.svg/20px-Information_icon4.svg.png\\\" decoding=\\\"async\\\" width=\\\"20\\\" height=\\\"20\\\" srcset=\\\"//upload.wikimedia.org/wikipedia/en/thumb/1/1d/Information_icon4.svg/30px-Information_icon4.svg.png 1.5x, //upload.wikimedia.org/wikipedia/en/thumb/1/1d/Information_icon4.svg/40px-Information_icon4.svg.png 2x\\\" data-file-width=\\\"620\\\" data-file-height=\\\"620\\\" /></td><td class=\\\"mbox-text\\\" style=\\\"width: auto;\\\"><div class=\\\"mbox-text-span\\\">This list is <a href=\\\"/wiki/Wikipedia:WikiProject_Lists#Incomplete_lists\\\" title=\\\"Wikipedia:WikiProject Lists\\\">incomplete</a>; you can help by <a class=\\\"external text\\\" href=\\\"https://en.wikipedia.org/w/index.php?title=List_of_helicopter_prison_escapes&amp;action=edit\\\">adding missing items</a>.  <span class=\\\"date-container\\\"><i>(<span class=\\\"date\\\">December 2010</span>)</i></span></div></td></tr></tbody></table>\\n<table class=\\\"wikitable sortable\\\" style=\\\"width:100%;\\\">\\n<tbody><tr>\\n<th style=\\\"width:11%;\\\">Date</th>\\n<th style=\\\"width:14%;\\\">Prison name</th>\\n<th style=\\\"width:5%;\\\">Country</th>\\n<th style=\\\"width:5%;\\\">Succeeded</th>\\n<th style=\\\"width:15%;\\\" class=\\\"unsortable\\\">Escapee(s)</th>\\n<th style=\\\"width:55%;\\\" class=\\\"unsortable\\\">Details\\n</th></tr>\\n<tr>\\n<td><span data-sort-value=\\\"1971-07-19&#160;!\\\">August 19, 1971</span>\\n</td>\\n<td>Santa Martha Acatitla\\n</td>\\n<td><span class=\\\"flagicon\\\"><img alt=\\\"\\\" src=\\\"//upload.wikimedia.org/wikipedia/commons/thumb/f/fc/Flag_of_Mexico.svg/23px-Flag_of_Mexico.svg.png\\\" decoding=\\\"async\\\" width=\\\"23\\\" height=\\\"13\\\" class=\\\"thumbborder\\\" srcset=\\\"//upload.wikimedia.org/wikipedia/commons/thumb/f/fc/Flag_of_Mexico.svg/35px-Flag_of_Mexico.svg.png 1.5x, //upload.wikimedia.org/wikipedia/commons/thumb/f/fc/Flag_of_Mexico.svg/46px-Flag_of_Mexico.svg.png 2x\\\" data-file-width=\\\"980\\\" data-file-height=\\\"560\\\" />&#160;</span><a href=\\\"/wiki/Mexico\\\" title=\\\"Mexico\\\">Mexico</a>\\n</td>\\n<td style=\\\"background-color: #CEF2CE;\\\">Yes\\n</td>\\n<td><span data-sort-value=\\\"Kaplan, Joel David\\\"><span class=\\\"vcard\\\"><span class=\\\"fn\\\">Joel David Kaplan</span></span></span>\\n<p><span data-sort-value=\\\"Contreras Castro, Carlos Antonio\\\"><span class=\\\"vcard\\\"><span class=\\\"fn\\\">Carlos Antonio Contreras Castro</span></span></span>\\n</p>\\n</td>\\n<td>Joel David Kaplan was a <a href=\\\"/wiki/New_York_City\\\" title=\\\"New York City\\\">New York</a> businessman who had been arrested for murder in 1962 in <a href=\\\"/wiki/Mexico_City\\\" title=\\\"Mexico City\\\">Mexico City</a> and was incarcerated at the Santa Martha Acatitla prison in the <a href=\\\"/wiki/Iztapalapa\\\" title=\\\"Iztapalapa\\\">Iztapalapa</a> borough of Mexico City.  Joel's sister, Judy Kaplan, arranged the means to help Kaplan escape, and on August 19, 1971, a helicopter landed in the prison yard. The guards mistakenly thought this was an official visit. In two minutes, Kaplan and his cellmate Carlos Antonio Contreras, a <a href=\\\"/wiki/Venezuela\\\" title=\\\"Venezuela\\\">Venezuelan</a> counterfeiter, were able to board the craft and were piloted away, before any shots were fired.<sup id=\\\"cite_ref-TimeMexico_9-0\\\" class=\\\"reference\\\"><a href=\\\"#cite_note-TimeMexico-9\\\">&#91;9&#93;</a></sup> Both men were flown to <a href=\\\"/wiki/Texas\\\" title=\\\"Texas\\\">Texas</a> and then different planes flew Kaplan to <a href=\\\"/wiki/California\\\" title=\\\"California\\\">California</a> and Castro to <a href=\\\"/wiki/Guatemala\\\" title=\\\"Guatemala\\\">Guatemala</a>.<sup id=\\\"cite_ref-Kaplan_3-1\\\" class=\\\"reference\\\"><a href=\\\"#cite_note-Kaplan-3\\\">&#91;3&#93;</a></sup>  The Mexican government never initiated extradition proceedings against Kaplan.<sup id=\\\"cite_ref-TimeMexico_9-1\\\" class=\\\"reference\\\"><a href=\\\"#cite_note-TimeMexico-9\\\">&#91;9&#93;</a></sup> The escape is told in a book, <i>The 10-Second Jailbreak: The Helicopter Escape of Joel David Kaplan</i>.<sup id=\\\"cite_ref-Kaplan_book_4-1\\\" class=\\\"reference\\\"><a href=\\\"#cite_note-Kaplan_book-4\\\">&#91;4&#93;</a></sup> It also inspired the 1975 <a href=\\\"/wiki/Action_film\\\" title=\\\"Action film\\\">action movie</a> <i><a href=\\\"/wiki/Breakout_(1975_film)\\\" title=\\\"Breakout (1975 film)\\\">Breakout</a></i>, which starred <a href=\\\"/wiki/Charles_Bronson\\\" title=\\\"Charles Bronson\\\">Charles Bronson</a> and <a href=\\\"/wiki/Robert_Duvall\\\" title=\\\"Robert Duvall\\\">Robert Duvall</a>.<sup id=\\\"cite_ref-TimeMexico_9-2\\\" class=\\\"reference\\\"><a href=\\\"#cite_note-TimeMexico-9\\\">&#91;9&#93;</a></sup>\\n</td></tr>\\n<tr>\\n<td><span data-sort-value=\\\"1973-10-31&#160;!\\\">October 31, 1973</span>\\n</td>\\n<td><a href=\\\"/wiki/Mountjoy_Jail\\\" class=\\\"mw-redirect\\\" title=\\\"Mountjoy Jail\\\">Mountjoy Jail</a>\\n</td>\\n<td><span class=\\\"flagicon\\\"><img alt=\\\"\\\" src=\\\"//upload.wikimedia.org/wikipedia/commons/thumb/4/45/Flag_of_Ireland.svg/23px-Flag_of_Ireland.svg.png\\\" decoding=\\\"async\\\" width=\\\"23\\\" height=\\\"12\\\" class=\\\"thumbborder\\\" srcset=\\\"//upload.wikimedia.org/wikipedia/commons/thumb/4/45/Flag_of_Ireland.svg/35px-Flag_of_Ireland.svg.png 1.5x, //upload.wikimedia.org/wikipedia/commons/thumb/4/45/Flag_of_Ireland.svg/46px-Flag_of_Ireland.svg.png 2x\\\" data-file-width=\\\"1200\\\" data-file-height=\\\"600\\\" />&#160;</span><a href=\\\"/wiki/Republic_of_Ireland\\\" title=\\\"Republic of Ireland\\\">Ireland</a>\\n</td>\\n<td style=\\\"background-color: #CEF2CE;\\\">Yes\\n</td>\\n<td><span data-sort-value=\\\"O&#39;Hagan, JB\\\"><span class=\\\"vcard\\\"><span class=\\\"fn\\\">JB O'Hagan</span></span></span><br />\\n<p><a href=\\\"/wiki/Seamus_Twomey\\\" title=\\\"Seamus Twomey\\\">Seamus Twomey</a><br />Kevin Mallon\\n</p>\\n</td>\\n<td>On October 31, 1973 an <a href=\\\"/wiki/Provisional_Irish_Republican_Army\\\" title=\\\"Provisional Irish Republican Army\\\">IRA</a> member hijacked a helicopter and forced the pilot to land in the exercise yard of Dublin's <a href=\\\"/wiki/Mountjoy_Jail\\\" class=\\\"mw-redirect\\\" title=\\\"Mountjoy Jail\\\">Mountjoy Jail</a>'s D Wing at 3:40&#160;p.m., October 31, 1973. Three members of the IRA were <a href=\\\"/wiki/1973_Mountjoy_Prison_helicopter_escape\\\" class=\\\"mw-redirect\\\" title=\\\"1973 Mountjoy Prison helicopter escape\\\">able to escape</a>: <a href=\\\"/wiki/JB_O%27Hagan\\\" class=\\\"mw-redirect\\\" title=\\\"JB O&#39;Hagan\\\">JB O'Hagan</a>, <a href=\\\"/wiki/Seamus_Twomey\\\" title=\\\"Seamus Twomey\\\">Seamus Twomey</a> and <a href=\\\"/wiki/Kevin_Mallon_(Irish_republican)\\\" class=\\\"mw-redirect\\\" title=\\\"Kevin Mallon (Irish republican)\\\">Kevin Mallon</a>. Another prisoner who also was in the prison was quoted as saying, \\\"One shamefaced screw apologised to the governor and said he thought it was the new Minister for Defence (<a href=\\\"/wiki/Paddy_Donegan\\\" title=\\\"Paddy Donegan\\\">Paddy Donegan</a>) arriving. I told him it was our Minister of Defence leaving.\\\"\\n<p>The Mountjoy helicopter escape became <a href=\\\"/wiki/Republican_Movement_(Ireland)\\\" class=\\\"mw-redirect\\\" title=\\\"Republican Movement (Ireland)\\\">Republican lore</a> and was immortalized by \\\"<a href=\\\"/wiki/The_Helicopter_Song\\\" title=\\\"The Helicopter Song\\\">The Helicopter Song</a>\\\", which contains the lines \\\"It's up like a bird and over the city. There's three men a'missing I heard the warder say\\\".<sup id=\\\"cite_ref-mountjoy_1-1\\\" class=\\\"reference\\\"><a href=\\\"#cite_note-mountjoy-1\\\">&#91;1&#93;</a></sup>\\n</p>\\n</td></tr>\\n<tr>\\n<td><span data-sort-value=\\\"1978-05-24&#160;!\\\">May 24, 1978</span>\\n</td>\\n<td><a href=\\\"/wiki/United_States_Penitentiary,_Marion\\\" title=\\\"United States Penitentiary, Marion\\\">United States Penitentiary, Marion</a>\\n</td>\\n<td><span class=\\\"flagicon\\\"><img alt=\\\"\\\" src=\\\"//upload.wikimedia.org/wikipedia/en/thumb/a/a4/Flag_of_the_United_States.svg/23px-Flag_of_the_United_States.svg.png\\\" decoding=\\\"async\\\" width=\\\"23\\\" height=\\\"12\\\" class=\\\"thumbborder\\\" srcset=\\\"//upload.wikimedia.org/wikipedia/en/thumb/a/a4/Flag_of_the_United_States.svg/35px-Flag_of_the_United_States.svg.png 1.5x, //upload.wikimedia.org/wikipedia/en/thumb/a/a4/Flag_of_the_United_States.svg/46px-Flag_of_the_United_States.svg.png 2x\\\" data-file-width=\\\"1235\\\" data-file-height=\\\"650\\\" />&#160;</span><a href=\\\"/wiki/United_States\\\" title=\\\"United States\\\">United States</a>\\n</td>\\n<td style=\\\"background-color: #F2CECE;\\\">No\\n</td>\\n<td align=\\\"left\\\"><a href=\\\"/wiki/Garrett_Brock_Trapnell\\\" title=\\\"Garrett Brock Trapnell\\\">Garrett Brock Trapnell</a><br />Martin Joseph McNally<br />James Kenneth Johnson\\n</td>\\n<td>43-year-old Barbara Ann Oswald hijacked a <a href=\\\"/wiki/St._Louis,_Missouri\\\" class=\\\"mw-redirect\\\" title=\\\"St. Louis, Missouri\\\">Saint Louis</a>-based charter helicopter and forced the pilot to land in the yard at USP Marion. While landing the aircraft, the pilot, Allen Barklage, who was a <a href=\\\"/wiki/Vietnam_War\\\" title=\\\"Vietnam War\\\">Vietnam War</a> veteran, struggled with Oswald and managed to wrestle the gun away from her. Barklage then shot and killed Oswald, thwarting the escape.<sup id=\\\"cite_ref-St._Joseph_News-Press_10-0\\\" class=\\\"reference\\\"><a href=\\\"#cite_note-St._Joseph_News-Press-10\\\">&#91;10&#93;</a></sup> A few months later Oswald's daughter <a href=\\\"/wiki/TWA_Flight_541\\\" title=\\\"TWA Flight 541\\\">hijacked TWA Flight 541</a> in an effort to free Trapnell.\\n</td></tr>\\n<tr>\\n<td><span data-sort-value=\\\"1981-02-27&#160;!\\\">February 27, 1981</span>\\n</td>\\n<td>Fleury-Mérogis, Essonne, Ile de France\\n</td>\\n<td><span class=\\\"flagicon\\\"><img alt=\\\"\\\" src=\\\"//upload.wikimedia.org/wikipedia/en/thumb/c/c3/Flag_of_France.svg/23px-Flag_of_France.svg.png\\\" decoding=\\\"async\\\" width=\\\"23\\\" height=\\\"15\\\" class=\\\"thumbborder\\\" srcset=\\\"//upload.wikimedia.org/wikipedia/en/thumb/c/c3/Flag_of_France.svg/35px-Flag_of_France.svg.png 1.5x, //upload.wikimedia.org/wikipedia/en/thumb/c/c3/Flag_of_France.svg/45px-Flag_of_France.svg.png 2x\\\" data-file-width=\\\"900\\\" data-file-height=\\\"600\\\" />&#160;</span><a href=\\\"/wiki/France\\\" title=\\\"France\\\">France</a>\\n</td>\\n<td style=\\\"background-color: #CEF2CE;\\\">Yes\\n</td>\\n<td align=\\\"left\\\">Gérard Dupré<br />Daniel Beaumont\\n</td>\\n<td>With the help of Serge Coutel, Gérard Dupré and Daniel Beaumont, succeed in the first and double helicopter escape of a French prison, in Fleury-Mérogis (Essonne), the best kept prison of France. The men hijacked a helicopter and its pilot that they rented to fly from Paris to Orléans. The pilot, Claude Fourcade, was taken hostage and was told that they were holding his wife and daughter hostage (which was not true) ... The flight turned into Paris - Fleury -Merogis - Porte d'Orléans.<sup id=\\\"cite_ref-11\\\" class=\\\"reference\\\"><a href=\\\"#cite_note-11\\\">&#91;11&#93;</a></sup>\\n</td></tr>\\n<tr>\\n<td><span data-sort-value=\\\"1981-05-7&#160;!\\\">May 7, 1981</span>\\n</td>\\n<td>Orsainville Prison, Quebec City\\n</td>\\n<td><span class=\\\"flagicon\\\"><img alt=\\\"\\\" src=\\\"//upload.wikimedia.org/wikipedia/commons/thumb/d/d9/Flag_of_Canada_%28Pantone%29.svg/23px-Flag_of_Canada_%28Pantone%29.svg.png\\\" decoding=\\\"async\\\" width=\\\"23\\\" height=\\\"12\\\" class=\\\"thumbborder\\\" srcset=\\\"//upload.wikimedia.org/wikipedia/commons/thumb/d/d9/Flag_of_Canada_%28Pantone%29.svg/35px-Flag_of_Canada_%28Pantone%29.svg.png 1.5x, //upload.wikimedia.org/wikipedia/commons/thumb/d/d9/Flag_of_Canada_%28Pantone%29.svg/46px-Flag_of_Canada_%28Pantone%29.svg.png 2x\\\" data-file-width=\\\"1200\\\" data-file-height=\\\"600\\\" />&#160;</span><a href=\\\"/wiki/Canada\\\" title=\\\"Canada\\\">Canada</a>\\n</td>\\n<td style=\\\"background-color: #F2CECE;\\\">No\\n</td>\\n<td align=\\\"left\\\">Marina Paquet (hijacker)<br />Giles Arseneault (prisoner)\\n</td>\\n<td>Marina Paquet held a sawed off shotgun against the back of the head of a helicopter pilot. She demanded that he land in the Orsainville prison courtyard, where her boyfriend (awaiting extradition to California on a murder charge) was set to escape. The pilot, Brian Jenner, feigned a panic attack, put the helicopter through some rough maneuvers and was then able to convince Paquet, in the back seat of the Jet Ranger, to turn over her shotgun and her knife. Jenner then gave her the choice of any landing spot, except the prison. She chose to go back to the airport.\\n<p>The pilot then explained, in great detail, exactly where they were and where they would be landing on arrival at the Quebec City airport. He added that the police would surely be aware by then, that she had hijacked the helicopter but would not yet be aware that she had given up her arms to the pilot. All the time Jenner was squeezing the transmit button on his cyclic stick and the tower was picking up all the details. The moment they touched down at the airport, the woman left the helicopter but the police, who had been advised of the situation by the control tower, were hiding nearby, and captured Paquet within seconds.\\n</p>\\n</td></tr>\\n<tr>\\n<td><span data-sort-value=\\\"1983-01-31&#160;!\\\">January, 1983</span>\\n</td>\\n<td><span data-sort-value=\\\"Pentridge&#160;!\\\"><a href=\\\"/wiki/HM_Prison_Pentridge\\\" title=\\\"HM Prison Pentridge\\\">Pentridge (HM Prison)</a></span>\\n</td>\\n<td><span class=\\\"flagicon\\\"><img alt=\\\"\\\" src=\\\"//upload.wikimedia.org/wikipedia/commons/thumb/8/88/Flag_of_Australia_%28converted%29.svg/23px-Flag_of_Australia_%28converted%29.svg.png\\\" decoding=\\\"async\\\" width=\\\"23\\\" height=\\\"12\\\" class=\\\"thumbborder\\\" srcset=\\\"//upload.wikimedia.org/wikipedia/commons/thumb/8/88/Flag_of_Australia_%28converted%29.svg/35px-Flag_of_Australia_%28converted%29.svg.png 1.5x, //upload.wikimedia.org/wikipedia/commons/thumb/8/88/Flag_of_Australia_%28converted%29.svg/46px-Flag_of_Australia_%28converted%29.svg.png 2x\\\" data-file-width=\\\"1280\\\" data-file-height=\\\"640\\\" />&#160;</span><a href=\\\"/wiki/Australia\\\" title=\\\"Australia\\\">Australia</a>\\n</td>\\n<td style=\\\"background-color: #F2CECE;\\\">No\\n</td>\\n<td><span data-sort-value=\\\"McMillan, David\\\"><span class=\\\"vcard\\\"><span class=\\\"fn\\\"><a href=\\\"/wiki/David_McMillan_(smuggler)\\\" title=\\\"David McMillan (smuggler)\\\">David McMillan</a></span></span></span>\\n</td>\\n<td>Arrests were made for the 1983 attempted helicopter escape from Melbourne’s Pentridge Prison in Australia.<sup id=\\\"cite_ref-melbournecrime_12-0\\\" class=\\\"reference\\\"><a href=\\\"#cite_note-melbournecrime-12\\\">&#91;12&#93;</a></sup> The three, all held on drug-importation charges, had hired a former <a href=\\\"/wiki/Special_Air_Service\\\" title=\\\"Special Air Service\\\">SAS</a> soldier, then living in the <a href=\\\"/wiki/Philippines\\\" title=\\\"Philippines\\\">Philippines</a>, to lift the prisoners from the jail’s tennis court to a nearby van fitted with panels to hide them for the 600 kilometre road trip to Sydney, where a yacht was to take them to <a href=\\\"/wiki/Manila\\\" title=\\\"Manila\\\">Manila</a>.\\n<p>The plan was thwarted when <a href=\\\"/wiki/Antony_Moynihan,_3rd_Baron_Moynihan\\\" title=\\\"Antony Moynihan, 3rd Baron Moynihan\\\">Lord Tony Moynihan</a>, himself an exile in the Philippines, informed the <a href=\\\"/wiki/Australian_Federal_Police\\\" title=\\\"Australian Federal Police\\\">Australian Federal Police</a>, who then ran it as a sting operation. Tony Moynihan would later become an informer against <a href=\\\"/wiki/Howard_Marks\\\" title=\\\"Howard Marks\\\">Howard Marks</a> in a Florida trial.\\n</p><p>Of the accused, only <a href=\\\"/wiki/David_McMillan_(smuggler)\\\" title=\\\"David McMillan (smuggler)\\\">David McMillan</a> and his accountant friend who had visited the prison stood trial. During the hearings, few prosecution witnesses used their real names as they were mostly from Moynihan’s former West African <a href=\\\"/wiki/MI6\\\" title=\\\"MI6\\\">MI6</a> unit. Those on trial were convicted and sentenced.<sup id=\\\"cite_ref-13\\\" class=\\\"reference\\\"><a href=\\\"#cite_note-13\\\">&#91;13&#93;</a></sup>\\n</p>\\n</td></tr>\\n<tr>\\n<td><span data-sort-value=\\\"1985-12-19&#160;!\\\">December 19, 1985</span>\\n</td>\\n<td>Perry Correctional Institution, <a href=\\\"/wiki/Pelzer,_South_Carolina\\\" title=\\\"Pelzer, South Carolina\\\">Pelzer, South Carolina</a>\\n</td>\\n<td><span class=\\\"flagicon\\\"><img alt=\\\"\\\" src=\\\"//upload.wikimedia.org/wikipedia/en/thumb/a/a4/Flag_of_the_United_States.svg/23px-Flag_of_the_United_States.svg.png\\\" decoding=\\\"async\\\" width=\\\"23\\\" height=\\\"12\\\" class=\\\"thumbborder\\\" srcset=\\\"//upload.wikimedia.org/wikipedia/en/thumb/a/a4/Flag_of_the_United_States.svg/35px-Flag_of_the_United_States.svg.png 1.5x, //upload.wikimedia.org/wikipedia/en/thumb/a/a4/Flag_of_the_United_States.svg/46px-Flag_of_the_United_States.svg.png 2x\\\" data-file-width=\\\"1235\\\" data-file-height=\\\"650\\\" />&#160;</span><a href=\\\"/wiki/United_States\\\" title=\\\"United States\\\">United States</a>\\n</td>\\n<td style=\\\"background-color: #CEF2CE;\\\">Yes\\n</td>\\n<td align=\\\"left\\\">James Rodney Leonard<br />William Douglas Ballew<br />Jesse Glenn Smith\\n</td>\\n<td>One murderer, James Rodney Leonard, and two armed robbers, William Douglas Ballew and Jesse Glenn Smith, fled in a helicopter with a pilot and a woman hijacker with a pistol to a getaway car 4 to 5 miles away.<sup id=\\\"cite_ref-14\\\" class=\\\"reference\\\"><a href=\\\"#cite_note-14\\\">&#91;14&#93;</a></sup> The 3-passenger helicopter was so overloaded with 5 occupants that it barely cleared the fence, while flying away in a hail of gunfire that injured one guard. Two other men attempted to escape as well, but either jumped or were pushed off when the pilot told the escapees that the helicopter could not take off.<sup id=\\\"cite_ref-Perry3_15-0\\\" class=\\\"reference\\\"><a href=\\\"#cite_note-Perry3-15\\\">&#91;15&#93;</a></sup> The three escapees were captured on December 23 in <a href=\\\"/wiki/Camden_County,_Georgia\\\" title=\\\"Camden County, Georgia\\\">Camden County</a>, <a href=\\\"/wiki/Georgia_(U.S._state)\\\" title=\\\"Georgia (U.S. state)\\\">Georgia</a>.<sup id=\\\"cite_ref-16\\\" class=\\\"reference\\\"><a href=\\\"#cite_note-16\\\">&#91;16&#93;</a></sup>\\n</td></tr>\\n<tr>\\n<td><span data-sort-value=\\\"1985-12-31&#160;!\\\">December 31, 1985</span>\\n</td>\\n<td>Cândido Mendes penitentiary, <a href=\\\"/wiki/Ilha_Grande\\\" title=\\\"Ilha Grande\\\">Ilha Grande</a>, <a href=\\\"/wiki/Rio_de_Janeiro_(state)\\\" title=\\\"Rio de Janeiro (state)\\\">Rio de Janeiro</a>\\n</td>\\n<td><span class=\\\"flagicon\\\"><img alt=\\\"\\\" src=\\\"//upload.wikimedia.org/wikipedia/en/thumb/0/05/Flag_of_Brazil.svg/22px-Flag_of_Brazil.svg.png\\\" decoding=\\\"async\\\" width=\\\"22\\\" height=\\\"15\\\" class=\\\"thumbborder\\\" srcset=\\\"//upload.wikimedia.org/wikipedia/en/thumb/0/05/Flag_of_Brazil.svg/33px-Flag_of_Brazil.svg.png 1.5x, //upload.wikimedia.org/wikipedia/en/thumb/0/05/Flag_of_Brazil.svg/43px-Flag_of_Brazil.svg.png 2x\\\" data-file-width=\\\"720\\\" data-file-height=\\\"504\\\" />&#160;</span><a href=\\\"/wiki/Brazil\\\" title=\\\"Brazil\\\">Brazil</a>\\n</td>\\n<td style=\\\"background-color: #CEF2CE;\\\">Yes\\n</td>\\n<td align=\\\"left\\\">José Carlos dos Reis Encina, a.k.a. \\\"Escadinha\\\"\\n</td>\\n<td>Drug lord Encina was rescued by José Carlos Gregório, aka \\\"Gordo\\\", who rented the <a href=\\\"/wiki/Bell_47\\\" title=\\\"Bell 47\\\">Bell 47</a> aircraft under the guise of surveying some lands he intended to buy. \\\"Gordo\\\" forced the pilot to land and pick up Encina, who had escaped the prison proper earlier. Encina was recaptured three months later after being shot in a firefight.<sup id=\\\"cite_ref-17\\\" class=\\\"reference\\\"><a href=\\\"#cite_note-17\\\">&#91;17&#93;</a></sup>\\n</td></tr>\\n<tr>\\n<td><span data-sort-value=\\\"1986-05-26&#160;!\\\">May 26, 1986</span>\\n</td>\\n<td><a href=\\\"/wiki/Prison_de_la_Sant%C3%A9\\\" class=\\\"mw-redirect\\\" title=\\\"Prison de la Santé\\\">Prison de la Santé</a>\\n</td>\\n<td><span class=\\\"flagicon\\\"><img alt=\\\"\\\" src=\\\"//upload.wikimedia.org/wikipedia/en/thumb/c/c3/Flag_of_France.svg/23px-Flag_of_France.svg.png\\\" decoding=\\\"async\\\" width=\\\"23\\\" height=\\\"15\\\" class=\\\"thumbborder\\\" srcset=\\\"//upload.wikimedia.org/wikipedia/en/thumb/c/c3/Flag_of_France.svg/35px-Flag_of_France.svg.png 1.5x, //upload.wikimedia.org/wikipedia/en/thumb/c/c3/Flag_of_France.svg/45px-Flag_of_France.svg.png 2x\\\" data-file-width=\\\"900\\\" data-file-height=\\\"600\\\" />&#160;</span><a href=\\\"/wiki/France\\\" title=\\\"France\\\">France</a>\\n</td>\\n<td style=\\\"background-color: #CEF2CE;\\\">Yes\\n</td>\\n<td><span data-sort-value=\\\"Vaujour, Michel\\\"><span class=\\\"vcard\\\"><span class=\\\"fn\\\">Michel Vaujour</span></span></span>\\n</td>\\n<td>Vaujour had 28 years to serve for attempted murder and armed robbery; this was his fourth escape attempt. He made his way to the roof by\" ⋯ 193425 bytes ⋯ \"=\\\"/wiki/Prison_ring\\\" title=\\\"Prison ring\\\">Ring</a></span></li>\\n<li><span class=\\\"nowrap\\\"><a href=\\\"/wiki/Prison_slang\\\" title=\\\"Prison slang\\\">Slang</a></span></li>\\n<li><span class=\\\"nowrap\\\"><a href=\\\"/wiki/Prison_tattooing\\\" title=\\\"Prison tattooing\\\">Tattooing</a></span></li></ul>\\n</div></td></tr><tr><th scope=\\\"row\\\" class=\\\"navbox-group\\\" style=\\\"width:1%\\\">Social issues</th><td class=\\\"navbox-list-with-group navbox-list navbox-even\\\" style=\\\"width:100%;padding:0\\\"><div style=\\\"padding:0 0.25em\\\">\\n<ul><li><span class=\\\"nowrap\\\"><a href=\\\"/wiki/Prisoner_abuse\\\" title=\\\"Prisoner abuse\\\">Abuse</a> </span>\\n<ul><li><span class=\\\"nowrap\\\"><a href=\\\"/wiki/Prisoner_abuse_in_the_United_States\\\" class=\\\"mw-redirect\\\" title=\\\"Prisoner abuse in the United States\\\">United States</a></span></li></ul></li>\\n<li><span class=\\\"nowrap\\\"><a href=\\\"/wiki/Prison_contemplative_programs\\\" title=\\\"Prison contemplative programs\\\">Contemplative programs</a></span></li>\\n<li><span class=\\\"nowrap\\\"><a href=\\\"/wiki/Prison_education\\\" title=\\\"Prison education\\\">Education</a></span></li>\\n<li><span class=\\\"nowrap\\\"><a href=\\\"/wiki/Jailhouse_informants\\\" class=\\\"mw-redirect\\\" title=\\\"Jailhouse informants\\\">Informants</a></span></li>\\n<li><span class=\\\"nowrap\\\"><a href=\\\"/wiki/LGBT_people_in_prison\\\" title=\\\"LGBT people in prison\\\">LGBT</a></span></li>\\n<li><span class=\\\"nowrap\\\"><a href=\\\"/wiki/Mentally_ill_people_in_United_States_jails_and_prisons\\\" title=\\\"Mentally ill people in United States jails and prisons\\\">Mentally ill people in the United States</a></span></li>\\n<li><span class=\\\"nowrap\\\"><a href=\\\"/wiki/Mobile_phones_in_prison\\\" title=\\\"Mobile phones in prison\\\">Mobile phones</a></span></li>\\n<li><span class=\\\"nowrap\\\"><a href=\\\"/wiki/Prison_overcrowding\\\" title=\\\"Prison overcrowding\\\">Overcrowding</a></span></li>\\n<li><span class=\\\"nowrap\\\"><a href=\\\"/wiki/Pay-to-stay_(imprisonment)\\\" title=\\\"Pay-to-stay (imprisonment)\\\">Pay-to-stay</a></span></li>\\n<li><span class=\\\"nowrap\\\"><a href=\\\"/wiki/Private_prison\\\" title=\\\"Private prison\\\">Private prisons</a> </span>\\n<ul><li><span class=\\\"nowrap\\\"><a href=\\\"/wiki/Incarceration_in_the_United_States#Privatization\\\" title=\\\"Incarceration in the United States\\\">United States</a></span></li></ul></li>\\n<li><span class=\\\"nowrap\\\"><a href=\\\"/wiki/Protective_custody\\\" title=\\\"Protective custody\\\">Protective custody</a></span></li>\\n<li><span class=\\\"nowrap\\\"><a href=\\\"/wiki/Prison_rape\\\" title=\\\"Prison rape\\\">Rape</a> </span>\\n<ul><li><span class=\\\"nowrap\\\"><a href=\\\"/wiki/Prison_rape_in_the_United_States\\\" title=\\\"Prison rape in the United States\\\">United States</a></span></li></ul></li>\\n<li><span class=\\\"nowrap\\\"><a href=\\\"/wiki/Prison_religion\\\" title=\\\"Prison religion\\\">Religion</a> </span>\\n<ul><li><span class=\\\"nowrap\\\"><a href=\\\"/wiki/Religion_in_United_States_prisons\\\" title=\\\"Religion in United States prisons\\\">United States</a></span></li></ul></li>\\n<li><span class=\\\"nowrap\\\"><a href=\\\"/wiki/Prison_riot\\\" title=\\\"Prison riot\\\">Riots</a></span></li>\\n<li><span class=\\\"nowrap\\\"><a href=\\\"/wiki/Prison_sexuality\\\" title=\\\"Prison sexuality\\\">Sexuality</a></span></li>\\n<li><span class=\\\"nowrap\\\"><a href=\\\"/wiki/Solitary_confinement\\\" title=\\\"Solitary confinement\\\">Solitary confinement</a></span></li>\\n<li><span class=\\\"nowrap\\\"><a href=\\\"/wiki/Prison_strike\\\" title=\\\"Prison strike\\\">Strikes</a></span></li>\\n<li><span class=\\\"nowrap\\\"><a href=\\\"/wiki/Prisoner_suicide\\\" title=\\\"Prisoner suicide\\\">Suicide</a></span></li>\\n<li><span class=\\\"nowrap\\\"><a href=\\\"/wiki/Prison_violence\\\" title=\\\"Prison violence\\\">Violence</a></span></li>\\n<li><span class=\\\"nowrap\\\"><a href=\\\"/wiki/Incarceration_of_women\\\" title=\\\"Incarceration of women\\\">Women in prison</a> </span>\\n<ul><li><span class=\\\"nowrap\\\"><a href=\\\"/wiki/Incarceration_of_women_in_the_United_States\\\" title=\\\"Incarceration of women in the United States\\\">United States</a></span></li></ul></li></ul>\\n</div></td></tr><tr><th scope=\\\"row\\\" class=\\\"navbox-group\\\" style=\\\"width:1%\\\">Organizations</th><td class=\\\"navbox-list-with-group navbox-list navbox-odd\\\" style=\\\"width:100%;padding:0\\\"><div style=\\\"padding:0 0.25em\\\">\\n<ul><li><span class=\\\"nowrap\\\"><a href=\\\"/wiki/Association_for_the_Protection_and_Assistance_of_the_Convicted\\\" title=\\\"Association for the Protection and Assistance of the Convicted\\\">Association for the Protection and Assistance of the Convicted</a> (Brazil)</span></li>\\n<li><span class=\\\"nowrap\\\"><a href=\\\"/wiki/Black_and_Pink\\\" title=\\\"Black and Pink\\\">Black and Pink</a></span></li>\\n<li><span class=\\\"nowrap\\\"><a href=\\\"/wiki/Florida_Justice_Institute\\\" title=\\\"Florida Justice Institute\\\">Florida Justice Institute</a></span></li>\\n<li><span class=\\\"nowrap\\\"><a href=\\\"/wiki/International_Network_of_Prison_Ministries\\\" title=\\\"International Network of Prison Ministries\\\">International Network of Prison Ministries</a></span></li>\\n<li><span class=\\\"nowrap\\\"><a href=\\\"/wiki/Justice_Action\\\" title=\\\"Justice Action\\\">Justice Action</a></span></li>\\n<li><span class=\\\"nowrap\\\"><a href=\\\"/wiki/Justice_Defenders\\\" title=\\\"Justice Defenders\\\">Justice Defenders</a></span></li>\\n<li><span class=\\\"nowrap\\\"><a href=\\\"/wiki/Mount_Tamalpais_College\\\" title=\\\"Mount Tamalpais College\\\">Mount Tamalpais College</a></span></li>\\n<li><span class=\\\"nowrap\\\"><a href=\\\"/wiki/POA_(trade_union)\\\" title=\\\"POA (trade union)\\\">POA</a></span></li>\\n<li><span class=\\\"nowrap\\\"><a href=\\\"/wiki/Prison_abolition_movement\\\" title=\\\"Prison abolition movement\\\">Prison abolition movement</a></span></li>\\n<li><span class=\\\"nowrap\\\"><a href=\\\"/wiki/Prison_Advice_and_Care_Trust\\\" title=\\\"Prison Advice and Care Trust\\\">Prison Advice and Care Trust</a></span></li>\\n<li><span class=\\\"nowrap\\\"><a href=\\\"/wiki/Prison-Ashram_Project\\\" title=\\\"Prison-Ashram Project\\\">Prison-Ashram Project</a></span></li>\\n<li><span class=\\\"nowrap\\\"><a href=\\\"/wiki/Prison_Fellowship\\\" title=\\\"Prison Fellowship\\\">Prison Fellowship</a></span></li>\\n<li><span class=\\\"nowrap\\\"><a href=\\\"/wiki/Prison_Fellowship_International\\\" title=\\\"Prison Fellowship International\\\">Prison Fellowship International</a></span></li>\\n<li><span class=\\\"nowrap\\\"><i><a href=\\\"/wiki/Prison_Legal_News\\\" title=\\\"Prison Legal News\\\">Prison Legal News</a></i></span></li>\\n<li><span class=\\\"nowrap\\\"><a href=\\\"/wiki/Prison_Officers%27_Association_(Ireland)\\\" title=\\\"Prison Officers&#39; Association (Ireland)\\\">Prison Officers' Association (Ireland)</a></span></li>\\n<li><span class=\\\"nowrap\\\"><a href=\\\"/wiki/The_Prison_Phoenix_Trust\\\" title=\\\"The Prison Phoenix Trust\\\">The Prison Phoenix Trust</a></span></li>\\n<li><span class=\\\"nowrap\\\"><a href=\\\"/wiki/Prison_Radio\\\" title=\\\"Prison Radio\\\">Prison Radio</a></span></li>\\n<li><span class=\\\"nowrap\\\"><a href=\\\"/wiki/Prison_Reform_Trust\\\" title=\\\"Prison Reform Trust\\\">Prison Reform Trust</a></span></li>\\n<li><span class=\\\"nowrap\\\"><a href=\\\"/wiki/WriteAPrisoner.com\\\" title=\\\"WriteAPrisoner.com\\\">WriteAPrisoner.com</a></span></li></ul>\\n</div></td></tr><tr><th scope=\\\"row\\\" class=\\\"navbox-group\\\" style=\\\"width:1%\\\">Leaving prison</th><td class=\\\"navbox-list-with-group navbox-list navbox-even\\\" style=\\\"width:100%;padding:0\\\"><div style=\\\"padding:0 0.25em\\\">\\n<ul><li><span class=\\\"nowrap\\\"><a href=\\\"/wiki/Rehabilitation_(penology)\\\" title=\\\"Rehabilitation (penology)\\\">Rehabilitation</a></span></li>\\n<li><span class=\\\"nowrap\\\"><a href=\\\"/wiki/Work_release\\\" title=\\\"Work release\\\">Work release</a></span></li></ul>\\n</div></td></tr><tr><th scope=\\\"row\\\" class=\\\"navbox-group\\\" style=\\\"width:1%\\\">Lists</th><td class=\\\"navbox-list-with-group navbox-list navbox-odd\\\" style=\\\"width:100%;padding:0\\\"><div style=\\\"padding:0 0.25em\\\">\\n<ul><li><span class=\\\"nowrap\\\"><a href=\\\"/wiki/List_of_countries_by_incarceration_rate\\\" title=\\\"List of countries by incarceration rate\\\">Countries by incarceration rate</a></span></li>\\n<li><span class=\\\"nowrap\\\"><a href=\\\"/wiki/List_of_prisons\\\" title=\\\"List of prisons\\\">Prisons</a></span></li>\\n<li><span class=\\\"nowrap\\\"><a href=\\\"/wiki/List_of_prison_films\\\" title=\\\"List of prison films\\\">Films featuring prisons</a></span></li></ul>\\n</div></td></tr><tr><th scope=\\\"row\\\" class=\\\"navbox-group\\\" style=\\\"width:1%\\\"><a href=\\\"/wiki/Category:Penal_systems_by_country\\\" title=\\\"Category:Penal systems by country\\\">By country</a></th><td class=\\\"navbox-list-with-group navbox-list navbox-even\\\" style=\\\"width:100%;padding:0\\\"><div style=\\\"padding:0 0.25em\\\">\\n<ul><li><span class=\\\"nowrap\\\"><a href=\\\"/wiki/Punishment_in_Australia\\\" title=\\\"Punishment in Australia\\\">Australia</a></span></li>\\n<li><span class=\\\"nowrap\\\"><a href=\\\"/wiki/Prisons_in_Chile\\\" title=\\\"Prisons in Chile\\\">Chile</a></span></li>\\n<li><span class=\\\"nowrap\\\"><a href=\\\"/wiki/Penal_system_in_China\\\" title=\\\"Penal system in China\\\">China</a></span></li>\\n<li><span class=\\\"nowrap\\\"><a href=\\\"/wiki/Prisons_in_Estonia\\\" title=\\\"Prisons in Estonia\\\">Estonia</a></span></li>\\n<li><span class=\\\"nowrap\\\"><a href=\\\"/wiki/Prisons_in_Germany\\\" title=\\\"Prisons in Germany\\\">Germany</a></span></li>\\n<li><span class=\\\"nowrap\\\"><a href=\\\"/wiki/List_of_prisons_in_Iceland\\\" title=\\\"List of prisons in Iceland\\\">Iceland</a></span></li>\\n<li><span class=\\\"nowrap\\\"><a href=\\\"/wiki/Prisons_in_India\\\" title=\\\"Prisons in India\\\">India</a></span></li>\\n<li><span class=\\\"nowrap\\\"><a href=\\\"/wiki/Prisons_in_the_Republic_of_Ireland\\\" title=\\\"Prisons in the Republic of Ireland\\\">Ireland, Republic of</a></span></li>\\n<li><span class=\\\"nowrap\\\"><a href=\\\"/wiki/List_of_prisons_in_Jamaica\\\" title=\\\"List of prisons in Jamaica\\\">Jamaica</a></span></li>\\n<li><span class=\\\"nowrap\\\"><a href=\\\"/wiki/Penal_system_of_Japan\\\" title=\\\"Penal system of Japan\\\">Japan</a></span></li>\\n<li><span class=\\\"nowrap\\\"><a href=\\\"/wiki/List_of_prisons_in_New_Zealand\\\" title=\\\"List of prisons in New Zealand\\\">New Zealand</a></span></li>\\n<li><span class=\\\"nowrap\\\"><a href=\\\"/wiki/Prisons_in_North_Korea\\\" title=\\\"Prisons in North Korea\\\">North Korea</a></span></li>\\n<li><span class=\\\"nowrap\\\"><a href=\\\"/wiki/Incarceration_in_Norway\\\" title=\\\"Incarceration in Norway\\\">Norway</a></span></li>\\n<li><span class=\\\"nowrap\\\"><a href=\\\"/wiki/National_Penitentiary_Institute_(Peru)\\\" title=\\\"National Penitentiary Institute (Peru)\\\">Peru</a></span></li>\\n<li><span class=\\\"nowrap\\\"><a href=\\\"/wiki/Prisons_in_Russia\\\" title=\\\"Prisons in Russia\\\">Russia</a></span></li>\\n<li><span class=\\\"nowrap\\\"><a href=\\\"/wiki/Category:Prisons_in_the_Soviet_Union\\\" title=\\\"Category:Prisons in the Soviet Union\\\">Soviet Union</a></span>\\n<ul><li><span class=\\\"nowrap\\\"><a href=\\\"/wiki/Gulag\\\" title=\\\"Gulag\\\">Gulag</a></span></li></ul></li>\\n<li><span class=\\\"nowrap\\\"><a href=\\\"/wiki/Prisons_in_Turkey\\\" title=\\\"Prisons in Turkey\\\">Turkey</a></span></li>\\n<li><span class=\\\"nowrap\\\"><a href=\\\"/wiki/Prisons_in_Ukraine\\\" title=\\\"Prisons in Ukraine\\\">Ukraine</a></span></li>\\n<li><span class=\\\"nowrap\\\">United Kingdom and British overseas territories </span>\\n<ul><li><span class=\\\"nowrap\\\"><a href=\\\"/wiki/Bermuda_Department_of_Corrections\\\" title=\\\"Bermuda Department of Corrections\\\">Bermuda</a></span></li>\\n<li><span class=\\\"nowrap\\\"><a href=\\\"/wiki/His_Majesty%27s_Prison_Service\\\" title=\\\"His Majesty&#39;s Prison Service\\\">England &amp; Wales</a></span></li>\\n<li><span class=\\\"nowrap\\\"><a href=\\\"/wiki/Northern_Ireland_Prison_Service\\\" title=\\\"Northern Ireland Prison Service\\\">Northern Ireland</a></span></li>\\n<li><span class=\\\"nowrap\\\"><a href=\\\"/wiki/Scottish_Prison_Service\\\" title=\\\"Scottish Prison Service\\\">Scotland</a></span></li></ul></li>\\n<li><span class=\\\"nowrap\\\"><a href=\\\"/wiki/Incarceration_in_the_United_States\\\" title=\\\"Incarceration in the United States\\\">United States</a></span></li></ul>\\n</div></td></tr><tr><td class=\\\"navbox-abovebelow\\\" colspan=\\\"2\\\" style=\\\"font-weight:bold;\\\"><div>\\n<ul><li><span class=\\\"nowrap\\\"><img alt=\\\"\\\" src=\\\"//upload.wikimedia.org/wikipedia/en/thumb/9/96/Symbol_category_class.svg/16px-Symbol_category_class.svg.png\\\" decoding=\\\"async\\\" title=\\\"Category\\\" width=\\\"16\\\" height=\\\"16\\\" class=\\\"noviewer\\\" srcset=\\\"//upload.wikimedia.org/wikipedia/en/thumb/9/96/Symbol_category_class.svg/23px-Symbol_category_class.svg.png 1.5x, //upload.wikimedia.org/wikipedia/en/thumb/9/96/Symbol_category_class.svg/31px-Symbol_category_class.svg.png 2x\\\" data-file-width=\\\"180\\\" data-file-height=\\\"185\\\" /> <a href=\\\"/wiki/Category:Imprisonment_and_detention\\\" title=\\\"Category:Imprisonment and detention\\\">Imprisonment and detention</a></span></li>\\n<li><span class=\\\"nowrap\\\"><img alt=\\\"\\\" src=\\\"//upload.wikimedia.org/wikipedia/en/thumb/4/4a/Commons-logo.svg/12px-Commons-logo.svg.png\\\" decoding=\\\"async\\\" title=\\\"Commons page\\\" width=\\\"12\\\" height=\\\"16\\\" class=\\\"noviewer\\\" srcset=\\\"//upload.wikimedia.org/wikipedia/en/thumb/4/4a/Commons-logo.svg/18px-Commons-logo.svg.png 1.5x, //upload.wikimedia.org/wikipedia/en/thumb/4/4a/Commons-logo.svg/24px-Commons-logo.svg.png 2x\\\" data-file-width=\\\"1024\\\" data-file-height=\\\"1376\\\" /> <a href=\\\"https://commons.wikimedia.org/wiki/Category:Imprisonment_and_detention\\\" class=\\\"extiw\\\" title=\\\"commons:Category:Imprisonment and detention\\\">Commons</a></span></li></ul>\\n</div></td></tr></tbody></table></div>\\n<!-- \\nNewPP limit report\\nParsed by mw2375\\nCached time: 20220915202610\\nCache expiry: 1814400\\nReduced expiry: false\\nComplications: [vary‐revision‐sha1, show‐toc]\\nCPU time usage: 0.890 seconds\\nReal time usage: 1.089 seconds\\nPreprocessor visited node count: 10638/1000000\\nPost‐expand include size: 228621/2097152 bytes\\nTemplate argument size: 12994/2097152 bytes\\nHighest expansion depth: 17/100\\nExpensive parser function count: 4/500\\nUnstrip recursion depth: 1/20\\nUnstrip post‐expand size: 228951/5000000 bytes\\nLua time usage: 0.428/10.000 seconds\\nLua memory usage: 9643155/52428800 bytes\\nNumber of Wikibase entities loaded: 0/400\\n-->\\n<!--\\nTransclusion expansion time report (%,ms,calls,template)\\n100.00%  833.433      1 -total\\n 51.25%  427.116      1 Template:Reflist\\n 19.38%  161.547     48 Template:Cite_news\\n 18.60%  155.013     24 Template:Cite_web\\n  9.40%   78.322     48 Template:Flag\\n  8.09%   67.383      5 Template:Navbox\\n  6.95%   57.894      1 Template:Helicopters_and_rotorcraft\\n  6.83%   56.961      1 Template:Expand_list\\n  6.83%   56.948      1 Template:Short_description\\n  4.77%   39.767     55 Template:Sort\\n-->\\n\\n<!-- Saved in parser cache with key enwiki:pcache:idhash:5531650-0!canonical and timestamp 20220915202609 and revision id 1104271511.\\n -->\\n</div><noscript><img src=\\\"//en.wikipedia.org/wiki/Special:CentralAutoLogin/start?type=1x1\\\" alt=\\\"\\\" title=\\\"\\\" width=\\\"1\\\" height=\\\"1\\\" style=\\\"border: none; position: absolute;\\\" /></noscript>\\n<div class=\\\"printfooter\\\" data-nosnippet=\\\"\\\">Retrieved from \\\"<a dir=\\\"ltr\\\" href=\\\"https://en.wikipedia.org/w/index.php?title=List_of_helicopter_prison_escapes&amp;oldid=1104271511\\\">https://en.wikipedia.org/w/index.php?title=List_of_helicopter_prison_escapes&amp;oldid=1104271511</a>\\\"</div></div>\\n\\t\\t<div id=\\\"catlinks\\\" class=\\\"catlinks\\\" data-mw=\\\"interface\\\"><div id=\\\"mw-normal-catlinks\\\" class=\\\"mw-normal-catlinks\\\"><a href=\\\"/wiki/Help:Category\\\" title=\\\"Help:Category\\\">Categories</a>: <ul><li><a href=\\\"/wiki/Category:Helicopters\\\" title=\\\"Category:Helicopters\\\">Helicopters</a></li><li><a href=\\\"/wiki/Category:Prison_escapes\\\" title=\\\"Category:Prison escapes\\\">Prison escapes</a></li><li><a href=\\\"/wiki/Category:Escapes\\\" title=\\\"Category:Escapes\\\">Escapes</a></li><li><a href=\\\"/wiki/Category:Lists_of_events\\\" title=\\\"Category:Lists of events\\\">Lists of events</a></li></ul></div><div id=\\\"mw-hidden-catlinks\\\" class=\\\"mw-hidden-catlinks mw-hidden-cats-hidden\\\">Hidden categories: <ul><li><a href=\\\"/wiki/Category:CS1_Italian-language_sources_(it)\\\" title=\\\"Category:CS1 Italian-language sources (it)\\\">CS1 Italian-language sources (it)</a></li><li><a href=\\\"/wiki/Category:All_articles_with_dead_external_links\\\" title=\\\"Category:All articles with dead external links\\\">All articles with dead external links</a></li><li><a href=\\\"/wiki/Category:Articles_with_dead_external_links_from_January_2018\\\" title=\\\"Category:Articles with dead external links from January 2018\\\">Articles with dead external links from January 2018</a></li><li><a href=\\\"/wiki/Category:Articles_with_permanently_dead_external_links\\\" title=\\\"Category:Articles with permanently dead external links\\\">Articles with permanently dead external links</a></li><li><a href=\\\"/wiki/Category:Articles_with_dead_external_links_from_August_2021\\\" title=\\\"Category:Articles with dead external links from August 2021\\\">Articles with dead external links from August 2021</a></li><li><a href=\\\"/wiki/Category:Articles_with_dead_external_links_from_December_2017\\\" title=\\\"Category:Articles with dead external links from December 2017\\\">Articles with dead external links from December 2017</a></li><li><a href=\\\"/wiki/Category:CS1_errors:_generic_name\\\" title=\\\"Category:CS1 errors: generic name\\\">CS1 errors: generic name</a></li><li><a href=\\\"/wiki/Category:Articles_with_short_description\\\" title=\\\"Category:Articles with short description\\\">Articles with short description</a></li><li><a href=\\\"/wiki/Category:Short_description_is_different_from_Wikidata\\\" title=\\\"Category:Short description is different from Wikidata\\\">Short description is different from Wikidata</a></li><li><a href=\\\"/wiki/Category:Articles_using_small_message_boxes\\\" title=\\\"Category:Articles using small message boxes\\\">Articles using small message boxes</a></li><li><a href=\\\"/wiki/Category:Incomplete_lists_from_December_2010\\\" title=\\\"Category:Incomplete lists from December 2010\\\">Incomplete lists from December 2010</a></li><li><a href=\\\"/wiki/Category:Articles_with_hCards\\\" title=\\\"Category:Articles with hCards\\\">Articles with hCards</a></li></ul></div></div>\\n\\t</div>\\n</div>\\n\\n<div id=\\\"mw-navigation\\\">\\n\\t<h2>Navigation menu</h2>\\n\\t<div id=\\\"mw-head\\\">\\n\\t\\t\\n\\n<nav id=\\\"p-personal\\\" class=\\\"vector-menu mw-portlet mw-portlet-personal vector-user-menu-legacy\\\" aria-labelledby=\\\"p-personal-label\\\" role=\\\"navigation\\\"  >\\n\\t<h3\\n\\t\\tid=\\\"p-personal-label\\\"\\n\\t\\t\\n\\t\\tclass=\\\"vector-menu-heading \\\"\\n\\t>\\n\\t\\t<span class=\\\"vector-menu-heading-label\\\">Personal tools</span>\\n\\t</h3>\\n\\t<div class=\\\"vector-menu-content\\\">\\n\\t\\t\\n\\t\\t<ul class=\\\"vector-menu-content-list\\\"><li id=\\\"pt-anonuserpage\\\" class=\\\"mw-list-item\\\"><span title=\\\"The user page for the IP address you are editing as\\\">Not logged in</span></li><li id=\\\"pt-anontalk\\\" class=\\\"mw-list-item\\\"><a href=\\\"/wiki/Special:MyTalk\\\" title=\\\"Discussion about edits from this IP address [n]\\\" accesskey=\\\"n\\\"><span>Talk</span></a></li><li id=\\\"pt-anoncontribs\\\" class=\\\"mw-list-item\\\"><a href=\\\"/wiki/Special:MyContributions\\\" title=\\\"A list of edits made from this IP address [y]\\\" accesskey=\\\"y\\\"><span>Contributions</span></a></li><li id=\\\"pt-createaccount\\\" class=\\\"mw-list-item\\\"><a href=\\\"/w/index.php?title=Special:CreateAccount&amp;returnto=List+of+helicopter+prison+escapes\\\" title=\\\"You are encouraged to create an account and log in; however, it is not mandatory\\\"><span>Create account</span></a></li><li id=\\\"pt-login\\\" class=\\\"mw-list-item\\\"><a href=\\\"/w/index.php?title=Special:UserLogin&amp;returnto=List+of+helicopter+prison+escapes\\\" title=\\\"You&#039;re encouraged to log in; however, it&#039;s not mandatory. [o]\\\" accesskey=\\\"o\\\"><span>Log in</span></a></li></ul>\\n\\t\\t\\n\\t</div>\\n</nav>\\n\\n\\t\\t<div id=\\\"left-navigation\\\">\\n\\t\\t\\t\\n\\n<nav id=\\\"p-namespaces\\\" class=\\\"vector-menu mw-portlet mw-portlet-namespaces vector-menu-tabs vector-menu-tabs-legacy\\\" aria-labelledby=\\\"p-namespaces-label\\\" role=\\\"navigation\\\"  >\\n\\t<h3\\n\\t\\tid=\\\"p-namespaces-label\\\"\\n\\t\\t\\n\\t\\tclass=\\\"vector-menu-heading \\\"\\n\\t>\\n\\t\\t<span class=\\\"vector-menu-heading-label\\\">Namespaces</span>\\n\\t</h3>\\n\\t<div class=\\\"vector-menu-content\\\">\\n\\t\\t\\n\\t\\t<ul class=\\\"vector-menu-content-list\\\"><li id=\\\"ca-nstab-main\\\" class=\\\"selected mw-list-item\\\"><a href=\\\"/wiki/List_of_helicopter_prison_escapes\\\" title=\\\"View the content page [c]\\\" accesskey=\\\"c\\\"><span>Article</span></a></li><li id=\\\"ca-talk\\\" class=\\\"mw-list-item\\\"><a href=\\\"/wiki/Talk:List_of_helicopter_prison_escapes\\\" rel=\\\"discussion\\\" title=\\\"Discuss improvements to the content page [t]\\\" accesskey=\\\"t\\\"><span>Talk</span></a></li></ul>\\n\\t\\t\\n\\t</div>\\n</nav>\\n\\n\\t\\t\\t\\n\\n<nav id=\\\"p-variants\\\" class=\\\"vector-menu mw-portlet mw-portlet-variants emptyPortlet vector-menu-dropdown\\\" aria-labelledby=\\\"p-variants-label\\\" role=\\\"navigation\\\"  >\\n\\t<input type=\\\"checkbox\\\"\\n\\t\\tid=\\\"p-variants-checkbox\\\"\\n\\t\\trole=\\\"button\\\"\\n\\t\\taria-haspopup=\\\"true\\\"\\n\\t\\tdata-event-name=\\\"ui.dropdown-p-variants\\\"\\n\\t\\tclass=\\\"vector-menu-checkbox\\\"\\n\\t\\taria-labelledby=\\\"p-variants-label\\\"\\n\\t/>\\n\\t<label\\n\\t\\tid=\\\"p-variants-label\\\"\\n\\t\\t aria-label=\\\"Change language variant\\\"\\n\\t\\tclass=\\\"vector-menu-heading \\\"\\n\\t>\\n\\t\\t<span class=\\\"vector-menu-heading-label\\\">English</span>\\n\\t</label>\\n\\t<div class=\\\"vector-menu-content\\\">\\n\\t\\t\\n\\t\\t<ul class=\\\"vector-menu-content-list\\\"></ul>\\n\\t\\t\\n\\t</div>\\n</nav>\\n\\n\\t\\t</div>\\n\\t\\t<div id=\\\"right-navigation\\\">\\n\\t\\t\\t\\n\\n<nav id=\\\"p-views\\\" class=\\\"vector-menu mw-portlet mw-portlet-views vector-menu-tabs vector-menu-tabs-legacy\\\" aria-labelledby=\\\"p-views-label\\\" role=\\\"navigation\\\"  >\\n\\t<h3\\n\\t\\tid=\\\"p-views-label\\\"\\n\\t\\t\\n\\t\\tclass=\\\"vector-menu-heading \\\"\\n\\t>\\n\\t\\t<span class=\\\"vector-menu-heading-label\\\">Views</span>\\n\\t</h3>\\n\\t<div class=\\\"vector-menu-content\\\">\\n\\t\\t\\n\\t\\t<ul class=\\\"vector-menu-content-list\\\"><li id=\\\"ca-view\\\" class=\\\"selected vector-tab-noicon mw-list-item\\\"><a href=\\\"/wiki/List_of_helicopter_prison_escapes\\\"><span>Read</span></a></li><li id=\\\"ca-edit\\\" class=\\\"vector-tab-noicon mw-list-item\\\"><a href=\\\"/w/index.php?title=List_of_helicopter_prison_escapes&amp;action=edit\\\" title=\\\"Edit this page [e]\\\" accesskey=\\\"e\\\"><span>Edit</span></a></li><li id=\\\"ca-history\\\" class=\\\"vector-tab-noicon mw-list-item\\\"><a href=\\\"/w/index.php?title=List_of_helicopter_prison_escapes&amp;action=history\\\" title=\\\"Past revisions of this page [h]\\\" accesskey=\\\"h\\\"><span>View history</span></a></li></ul>\\n\\t\\t\\n\\t</div>\\n</nav>\\n\\n\\t\\t\\t\\n\\n<nav id=\\\"p-cactions\\\" class=\\\"vector-menu mw-portlet mw-portlet-cactions emptyPortlet vector-menu-dropdown\\\" aria-labelledby=\\\"p-cactions-label\\\" role=\\\"navigation\\\"  title=\\\"More options\\\" >\\n\\t<input type=\\\"checkbox\\\"\\n\\t\\tid=\\\"p-cactions-checkbox\\\"\\n\\t\\trole=\\\"button\\\"\\n\\t\\taria-haspopup=\\\"true\\\"\\n\\t\\tdata-event-name=\\\"ui.dropdown-p-cactions\\\"\\n\\t\\tclass=\\\"vector-menu-checkbox\\\"\\n\\t\\taria-labelledby=\\\"p-cactions-label\\\"\\n\\t/>\\n\\t<label\\n\\t\\tid=\\\"p-cactions-label\\\"\\n\\t\\t\\n\\t\\tclass=\\\"vector-menu-heading \\\"\\n\\t>\\n\\t\\t<span class=\\\"vector-menu-heading-label\\\">More</span>\\n\\t</label>\\n\\t<div class=\\\"vector-menu-content\\\">\\n\\t\\t\\n\\t\\t<ul class=\\\"vector-menu-content-list\\\"></ul>\\n\\t\\t\\n\\t</div>\\n</nav>\\n\\n\\t\\t\\t\\n<div id=\\\"p-search\\\" role=\\\"search\\\" class=\\\"vector-search-box-vue  vector-search-box-show-thumbnail vector-search-box-auto-expand-width vector-search-box\\\">\\n\\t<div>\\n\\t\\t\\t<h3 >\\n\\t\\t\\t\\t<label for=\\\"searchInput\\\">Search</label>\\n\\t\\t\\t</h3>\\n\\t\\t<form action=\\\"/w/index.php\\\" id=\\\"searchform\\\"\\n\\t\\t\\tclass=\\\"vector-search-box-form\\\">\\n\\t\\t\\t<div id=\\\"simpleSearch\\\"\\n\\t\\t\\t\\tclass=\\\"vector-search-box-inner\\\"\\n\\t\\t\\t\\t data-search-loc=\\\"header-navigation\\\">\\n\\t\\t\\t\\t<input class=\\\"vector-search-box-input\\\"\\n\\t\\t\\t\\t\\t type=\\\"search\\\" name=\\\"search\\\" placeholder=\\\"Search Wikipedia\\\" aria-label=\\\"Search Wikipedia\\\" autocapitalize=\\\"sentences\\\" title=\\\"Search Wikipedia [f]\\\" accesskey=\\\"f\\\" id=\\\"searchInput\\\"\\n\\t\\t\\t\\t>\\n\\t\\t\\t\\t<input type=\\\"hidden\\\" name=\\\"title\\\" value=\\\"Special:Search\\\">\\n\\t\\t\\t\\t<input id=\\\"mw-searchButton\\\"\\n\\t\\t\\t\\t\\t class=\\\"searchButton mw-fallbackSearchButton\\\" type=\\\"submit\\\" name=\\\"fulltext\\\" title=\\\"Search Wikipedia for this text\\\" value=\\\"Search\\\">\\n\\t\\t\\t\\t<input id=\\\"searchButton\\\"\\n\\t\\t\\t\\t\\t class=\\\"searchButton\\\" type=\\\"submit\\\" name=\\\"go\\\" title=\\\"Go to a page with this exact name if it exists\\\" value=\\\"Go\\\">\\n\\t\\t\\t</div>\\n\\t\\t</form>\\n\\t</div>\\n</div>\\n\\n\\t\\t</div>\\n\\t</div>\\n\\t\\n\\n<div id=\\\"mw-panel\\\">\\n\\t<div id=\\\"p-logo\\\" role=\\\"banner\\\">\\n\\t\\t<a class=\\\"mw-wiki-logo\\\" href=\\\"/wiki/Main_Page\\\"\\n\\t\\t\\ttitle=\\\"Visit the main page\\\"></a>\\n\\t</div>\\n\\t\\n\\n<nav id=\\\"p-navigation\\\" class=\\\"vector-menu mw-portlet mw-portlet-navigation vector-menu-portal portal\\\" aria-labelledby=\\\"p-navigation-label\\\" role=\\\"navigation\\\"  >\\n\\t<h3\\n\\t\\tid=\\\"p-navigation-label\\\"\\n\\t\\t\\n\\t\\tclass=\\\"vector-menu-heading \\\"\\n\\t>\\n\\t\\t<span class=\\\"vector-menu-heading-label\\\">Navigation</span>\\n\\t</h3>\\n\\t<div class=\\\"vector-menu-content\\\">\\n\\t\\t\\n\\t\\t<ul class=\\\"vector-menu-content-list\\\"><li id=\\\"n-mainpage-description\\\" class=\\\"mw-list-item\\\"><a href=\\\"/wiki/Main_Page\\\" title=\\\"Visit the main page [z]\\\" accesskey=\\\"z\\\"><span>Main page</span></a></li><li id=\\\"n-contents\\\" class=\\\"mw-list-item\\\"><a href=\\\"/wiki/Wikipedia:Contents\\\" title=\\\"Guides to browsing Wikipedia\\\"><span>Contents</span></a></li><li id=\\\"n-currentevents\\\" class=\\\"mw-list-item\\\"><a href=\\\"/wiki/Portal:Current_events\\\" title=\\\"Articles related to current events\\\"><span>Current events</span></a></li><li id=\\\"n-randompage\\\" class=\\\"mw-list-item\\\"><a href=\\\"/wiki/Special:Random\\\" title=\\\"Visit a randomly selected article [x]\\\" accesskey=\\\"x\\\"><span>Random article</span></a></li><li id=\\\"n-aboutsite\\\" class=\\\"mw-list-item\\\"><a href=\\\"/wiki/Wikipedia:About\\\" title=\\\"Learn about Wikipedia and how it works\\\"><span>About Wikipedia</span></a></li><li id=\\\"n-contactpage\\\" class=\\\"mw-list-item\\\"><a href=\\\"//en.wikipedia.org/wiki/Wikipedia:Contact_us\\\" title=\\\"How to contact Wikipedia\\\"><span>Contact us</span></a></li><li id=\\\"n-sitesupport\\\" class=\\\"mw-list-item\\\"><a href=\\\"https://donate.wikimedia.org/wiki/Special:FundraiserRedirector?utm_source=donate&amp;utm_medium=sidebar&amp;utm_campaign=C13_en.wikipedia.org&amp;uselang=en\\\" title=\\\"Support us by donating to the Wikimedia Foundation\\\"><span>Donate</span></a></li></ul>\\n\\t\\t\\n\\t</div>\\n</nav>\\n\\n\\t\\n\\n<nav id=\\\"p-interaction\\\" class=\\\"vector-menu mw-portlet mw-portlet-interaction vector-menu-portal portal\\\" aria-labelledby=\\\"p-interaction-label\\\" role=\\\"navigation\\\"  >\\n\\t<h3\\n\\t\\tid=\\\"p-interaction-label\\\"\\n\\t\\t\\n\\t\\tclass=\\\"vector-menu-heading \\\"\\n\\t>\\n\\t\\t<span class=\\\"vector-menu-heading-label\\\">Contribute</span>\\n\\t</h3>\\n\\t<div class=\\\"vector-menu-content\\\">\\n\\t\\t\\n\\t\\t<ul class=\\\"vector-menu-content-list\\\"><li id=\\\"n-help\\\" class=\\\"mw-list-item\\\"><a href=\\\"/wiki/Help:Contents\\\" title=\\\"Guidance on how to use and edit Wikipedia\\\"><span>Help</span></a></li><li id=\\\"n-introduction\\\" class=\\\"mw-list-item\\\"><a href=\\\"/wiki/Help:Introduction\\\" title=\\\"Learn how to edit Wikipedia\\\"><span>Learn to edit</span></a></li><li id=\\\"n-portal\\\" class=\\\"mw-list-item\\\"><a href=\\\"/wiki/Wikipedia:Community_portal\\\" title=\\\"The hub for editors\\\"><span>Community portal</span></a></li><li id=\\\"n-recentchanges\\\" class=\\\"mw-list-item\\\"><a href=\\\"/wiki/Special:RecentChanges\\\" title=\\\"A list of recent changes to Wikipedia [r]\\\" accesskey=\\\"r\\\"><span>Recent changes</span></a></li><li id=\\\"n-upload\\\" class=\\\"mw-list-item\\\"><a href=\\\"/wiki/Wikipedia:File_Upload_Wizard\\\" title=\\\"Add images or other media for use on Wikipedia\\\"><span>Upload file</span></a></li></ul>\\n\\t\\t\\n\\t</div>\\n</nav>\\n\\n\\n<nav id=\\\"p-tb\\\" class=\\\"vector-menu mw-portlet mw-portlet-tb vector-menu-portal portal\\\" aria-labelledby=\\\"p-tb-label\\\" role=\\\"navigation\\\"  >\\n\\t<h3\\n\\t\\tid=\\\"p-tb-label\\\"\\n\\t\\t\\n\\t\\tclass=\\\"vector-menu-heading \\\"\\n\\t>\\n\\t\\t<span class=\\\"vector-menu-heading-label\\\">Tools</span>\\n\\t</h3>\\n\\t<div class=\\\"vector-menu-content\\\">\\n\\t\\t\\n\\t\\t<ul class=\\\"vector-menu-content-list\\\"><li id=\\\"t-whatlinkshere\\\" class=\\\"mw-list-item\\\"><a href=\\\"/wiki/Special:WhatLinksHere/List_of_helicopter_prison_escapes\\\" title=\\\"List of all English Wikipedia pages containing links to this page [j]\\\" accesskey=\\\"j\\\"><span>What links here</span></a></li><li id=\\\"t-recentchangeslinked\\\" class=\\\"mw-list-item\\\"><a href=\\\"/wiki/Special:RecentChangesLinked/List_of_helicopter_prison_escapes\\\" rel=\\\"nofollow\\\" title=\\\"Recent changes in pages linked from this page [k]\\\" accesskey=\\\"k\\\"><span>Related changes</span></a></li><li id=\\\"t-upload\\\" class=\\\"mw-list-item\\\"><a href=\\\"/wiki/Wikipedia:File_Upload_Wizard\\\" title=\\\"Upload files [u]\\\" accesskey=\\\"u\\\"><span>Upload file</span></a></li><li id=\\\"t-specialpages\\\" class=\\\"mw-list-item\\\"><a href=\\\"/wiki/Special:SpecialPages\\\" title=\\\"A list of all special pages [q]\\\" accesskey=\\\"q\\\"><span>Special pages</span></a></li><li id=\\\"t-permalink\\\" class=\\\"mw-list-item\\\"><a href=\\\"/w/index.php?title=List_of_helicopter_prison_escapes&amp;oldid=1104271511\\\" title=\\\"Permanent link to this revision of this page\\\"><span>Permanent link</span></a></li><li id=\\\"t-info\\\" class=\\\"mw-list-item\\\"><a href=\\\"/w/index.php?title=List_of_helicopter_prison_escapes&amp;action=info\\\" title=\\\"More information about this page\\\"><span>Page information</span></a></li><li id=\\\"t-cite\\\" class=\\\"mw-list-item\\\"><a href=\\\"/w/index.php?title=Special:CiteThisPage&amp;page=List_of_helicopter_prison_escapes&amp;id=1104271511&amp;wpFormIdentifier=titleform\\\" title=\\\"Information on how to cite this page\\\"><span>Cite this page</span></a></li><li id=\\\"t-wikibase\\\" class=\\\"mw-list-item\\\"><a href=\\\"https://www.wikidata.org/wiki/Special:EntityPage/Q3592745\\\" title=\\\"Structured data on this page hosted by Wikidata [g]\\\" accesskey=\\\"g\\\"><span>Wikidata item</span></a></li></ul>\\n\\t\\t\\n\\t</div>\\n</nav>\\n\\n\\n<nav id=\\\"p-coll-print_export\\\" class=\\\"vector-menu mw-portlet mw-portlet-coll-print_export vector-menu-portal portal\\\" aria-labelledby=\\\"p-coll-print_export-label\\\" role=\\\"navigation\\\"  >\\n\\t<h3\\n\\t\\tid=\\\"p-coll-print_export-label\\\"\\n\\t\\t\\n\\t\\tclass=\\\"vector-menu-heading \\\"\\n\\t>\\n\\t\\t<span class=\\\"vector-menu-heading-label\\\">Print/export</span>\\n\\t</h3>\\n\\t<div class=\\\"vector-menu-content\\\">\\n\\t\\t\\n\\t\\t<ul class=\\\"vector-menu-content-list\\\"><li id=\\\"coll-download-as-rl\\\" class=\\\"mw-list-item\\\"><a href=\\\"/w/index.php?title=Special:DownloadAsPdf&amp;page=List_of_helicopter_prison_escapes&amp;action=show-download-screen\\\" title=\\\"Download this page as a PDF file\\\"><span>Download as PDF</span></a></li><li id=\\\"t-print\\\" class=\\\"mw-list-item\\\"><a href=\\\"/w/index.php?title=List_of_helicopter_prison_escapes&amp;printable=yes\\\" title=\\\"Printable version of this page [p]\\\" accesskey=\\\"p\\\"><span>Printable version</span></a></li></ul>\\n\\t\\t\\n\\t</div>\\n</nav>\\n\\n\\t\\n\\n<nav id=\\\"p-lang\\\" class=\\\"vector-menu mw-portlet mw-portlet-lang vector-menu-portal portal\\\" aria-labelledby=\\\"p-lang-label\\\" role=\\\"navigation\\\"  >\\n\\t<h3\\n\\t\\tid=\\\"p-lang-label\\\"\\n\\t\\t\\n\\t\\tclass=\\\"vector-menu-heading \\\"\\n\\t>\\n\\t\\t<span class=\\\"vector-menu-heading-label\\\">Languages</span>\\n\\t</h3>\\n\\t<div class=\\\"vector-menu-content\\\">\\n\\t\\t\\n\\t\\t<ul class=\\\"vector-menu-content-list\\\"></ul>\\n\\t\\t<div class=\\\"after-portlet after-portlet-lang\\\"><span class=\\\"uls-after-portlet-link\\\"></span><span class=\\\"wb-langlinks-add wb-langlinks-link\\\"><a href=\\\"https://www.wikidata.org/wiki/Special:EntityPage/Q3592745#sitelinks-wikipedia\\\" title=\\\"Add interlanguage links\\\" class=\\\"wbc-editpage\\\">Add links</a></span></div>\\n\\t</div>\\n</nav>\\n\\n</div>\\n\\n</div>\\n\\n<footer id=\\\"footer\\\" class=\\\"mw-footer\\\" role=\\\"contentinfo\\\" >\\n\\t<ul id=\\\"footer-info\\\">\\n\\t<li id=\\\"footer-info-lastmod\\\"> This page was last edited on 13 August 2022, at 22:12<span class=\\\"anonymous-show\\\">&#160;(UTC)</span>.</li>\\n\\t<li id=\\\"footer-info-copyright\\\">Text is available under the <a rel=\\\"license\\\" href=\\\"//en.wikipedia.org/wiki/Wikipedia:Text_of_Creative_Commons_Attribution-ShareAlike_3.0_Unported_License\\\">Creative Commons Attribution-ShareAlike License 3.0</a><a rel=\\\"license\\\" href=\\\"//creativecommons.org/licenses/by-sa/3.0/\\\" style=\\\"display:none;\\\"></a>;\\nadditional terms may apply.  By using this site, you agree to the <a href=\\\"//foundation.wikimedia.org/wiki/Terms_of_Use\\\">Terms of Use</a> and <a href=\\\"//foundation.wikimedia.org/wiki/Privacy_policy\\\">Privacy Policy</a>. Wikipedia® is a registered trademark of the <a href=\\\"//www.wikimediafoundation.org/\\\">Wikimedia Foundation, Inc.</a>, a non-profit organization.</li>\\n</ul>\\n\\n\\t<ul id=\\\"footer-places\\\">\\n\\t<li id=\\\"footer-places-privacy\\\"><a href=\\\"https://foundation.wikimedia.org/wiki/Privacy_policy\\\">Privacy policy</a></li>\\n\\t<li id=\\\"footer-places-about\\\"><a href=\\\"/wiki/Wikipedia:About\\\">About Wikipedia</a></li>\\n\\t<li id=\\\"footer-places-disclaimer\\\"><a href=\\\"/wiki/Wikipedia:General_disclaimer\\\">Disclaimers</a></li>\\n\\t<li id=\\\"footer-places-contact\\\"><a href=\\\"//en.wikipedia.org/wiki/Wikipedia:Contact_us\\\">Contact Wikipedia</a></li>\\n\\t<li id=\\\"footer-places-mobileview\\\"><a href=\\\"//en.m.wikipedia.org/w/index.php?title=List_of_helicopter_prison_escapes&amp;mobileaction=toggle_view_mobile\\\" class=\\\"noprint stopMobileRedirectToggle\\\">Mobile view</a></li>\\n\\t<li id=\\\"footer-places-developers\\\"><a href=\\\"https://developer.wikimedia.org\\\">Developers</a></li>\\n\\t<li id=\\\"footer-places-statslink\\\"><a href=\\\"https://stats.wikimedia.org/#/en.wikipedia.org\\\">Statistics</a></li>\\n\\t<li id=\\\"footer-places-cookiestatement\\\"><a href=\\\"https://foundation.wikimedia.org/wiki/Cookie_statement\\\">Cookie statement</a></li>\\n</ul>\\n\\n\\t<ul id=\\\"footer-icons\\\" class=\\\"noprint\\\">\\n\\t<li id=\\\"footer-copyrightico\\\"><a href=\\\"https://wikimediafoundation.org/\\\"><img src=\\\"/static/images/footer/wikimedia-button.png\\\" srcset=\\\"/static/images/footer/wikimedia-button-1.5x.png 1.5x, /static/images/footer/wikimedia-button-2x.png 2x\\\" width=\\\"88\\\" height=\\\"31\\\" alt=\\\"Wikimedia Foundation\\\" loading=\\\"lazy\\\" /></a></li>\\n\\t<li id=\\\"footer-poweredbyico\\\"><a href=\\\"https://www.mediawiki.org/\\\"><img src=\\\"/static/images/footer/poweredby_mediawiki_88x31.png\\\" alt=\\\"Powered by MediaWiki\\\" srcset=\\\"/static/images/footer/poweredby_mediawiki_132x47.png 1.5x, /static/images/footer/poweredby_mediawiki_176x62.png 2x\\\" width=\\\"88\\\" height=\\\"31\\\" loading=\\\"lazy\\\"/></a></li>\\n</ul>\\n\\n</footer>\\n\\n<script>(RLQ=window.RLQ||[]).push(function(){mw.config.set({\\\"wgPageParseReport\\\":{\\\"limitreport\\\":{\\\"cputime\\\":\\\"0.890\\\",\\\"walltime\\\":\\\"1.089\\\",\\\"ppvisitednodes\\\":{\\\"value\\\":10638,\\\"limit\\\":1000000},\\\"postexpandincludesize\\\":{\\\"value\\\":228621,\\\"limit\\\":2097152},\\\"templateargumentsize\\\":{\\\"value\\\":12994,\\\"limit\\\":2097152},\\\"expansiondepth\\\":{\\\"value\\\":17,\\\"limit\\\":100},\\\"expensivefunctioncount\\\":{\\\"value\\\":4,\\\"limit\\\":500},\\\"unstrip-depth\\\":{\\\"value\\\":1,\\\"limit\\\":20},\\\"unstrip-size\\\":{\\\"value\\\":228951,\\\"limit\\\":5000000},\\\"entityaccesscount\\\":{\\\"value\\\":0,\\\"limit\\\":400},\\\"timingprofile\\\":[\\\"100.00%  833.433      1 -total\\\",\\\" 51.25%  427.116      1 Template:Reflist\\\",\\\" 19.38%  161.547     48 Template:Cite_news\\\",\\\" 18.60%  155.013     24 Template:Cite_web\\\",\\\"  9.40%   78.322     48 Template:Flag\\\",\\\"  8.09%   67.383      5 Template:Navbox\\\",\\\"  6.95%   57.894      1 Template:Helicopters_and_rotorcraft\\\",\\\"  6.83%   56.961      1 Template:Expand_list\\\",\\\"  6.83%   56.948      1 Template:Short_description\\\",\\\"  4.77%   39.767     55 Template:Sort\\\"]},\\\"scribunto\\\":{\\\"limitreport-timeusage\\\":{\\\"value\\\":\\\"0.428\\\",\\\"limit\\\":\\\"10.000\\\"},\\\"limitreport-memusage\\\":{\\\"value\\\":9643155,\\\"limit\\\":52428800}},\\\"cachereport\\\":{\\\"origin\\\":\\\"mw2375\\\",\\\"timestamp\\\":\\\"20220915202610\\\",\\\"ttl\\\":1814400,\\\"transientcontent\\\":false}}});});</script>\\n<script type=\\\"application/ld+json\\\">{\\\"@context\\\":\\\"https:\\\\/\\\\/schema.org\\\",\\\"@type\\\":\\\"Article\\\",\\\"name\\\":\\\"List of helicopter prison escapes\\\",\\\"url\\\":\\\"https:\\\\/\\\\/en.wikipedia.org\\\\/wiki\\\\/List_of_helicopter_prison_escapes\\\",\\\"sameAs\\\":\\\"http:\\\\/\\\\/www.wikidata.org\\\\/entity\\\\/Q3592745\\\",\\\"mainEntity\\\":\\\"http:\\\\/\\\\/www.wikidata.org\\\\/entity\\\\/Q3592745\\\",\\\"author\\\":{\\\"@type\\\":\\\"Organization\\\",\\\"name\\\":\\\"Contributors to Wikimedia projects\\\"},\\\"publisher\\\":{\\\"@type\\\":\\\"Organization\\\",\\\"name\\\":\\\"Wikimedia Foundation, Inc.\\\",\\\"logo\\\":{\\\"@type\\\":\\\"ImageObject\\\",\\\"url\\\":\\\"https:\\\\/\\\\/www.wikimedia.org\\\\/static\\\\/images\\\\/wmf-hor-googpub.png\\\"}},\\\"datePublished\\\":\\\"2006-06-12T14:35:45Z\\\",\\\"dateModified\\\":\\\"2022-08-13T22:12:50Z\\\",\\\"image\\\":\\\"https:\\\\/\\\\/upload.wikimedia.org\\\\/wikipedia\\\\/commons\\\\/4\\\\/40\\\\/Mountjoy_Prison.jpg\\\",\\\"headline\\\":\\\"Wikimedia list article\\\"}</script><script type=\\\"application/ld+json\\\">{\\\"@context\\\":\\\"https:\\\\/\\\\/schema.org\\\",\\\"@type\\\":\\\"Article\\\",\\\"name\\\":\\\"List of helicopter prison escapes\\\",\\\"url\\\":\\\"https:\\\\/\\\\/en.wikipedia.org\\\\/wiki\\\\/List_of_helicopter_prison_escapes\\\",\\\"sameAs\\\":\\\"http:\\\\/\\\\/www.wikidata.org\\\\/entity\\\\/Q3592745\\\",\\\"mainEntity\\\":\\\"http:\\\\/\\\\/www.wikidata.org\\\\/entity\\\\/Q3592745\\\",\\\"author\\\":{\\\"@type\\\":\\\"Organization\\\",\\\"name\\\":\\\"Contributors to Wikimedia projects\\\"},\\\"publisher\\\":{\\\"@type\\\":\\\"Organization\\\",\\\"name\\\":\\\"Wikimedia Foundation, Inc.\\\",\\\"logo\\\":{\\\"@type\\\":\\\"ImageObject\\\",\\\"url\\\":\\\"https:\\\\/\\\\/www.wikimedia.org\\\\/static\\\\/images\\\\/wmf-hor-googpub.png\\\"}},\\\"datePublished\\\":\\\"2006-06-12T14:35:45Z\\\",\\\"dateModified\\\":\\\"2022-08-13T22:12:50Z\\\",\\\"image\\\":\\\"https:\\\\/\\\\/upload.wikimedia.org\\\\/wikipedia\\\\/commons\\\\/4\\\\/40\\\\/Mountjoy_Prison.jpg\\\",\\\"headline\\\":\\\"Wikimedia list article\\\"}</script>\\n<script>(RLQ=window.RLQ||[]).push(function(){mw.config.set({\\\"wgBackendResponseTime\\\":1222,\\\"wgHostname\\\":\\\"mw2375\\\"});});</script>\\n</body>\\n</html>\""
      ]
     },
     "execution_count": 3,
     "metadata": {},
     "output_type": "execute_result"
    }
   ],
   "source": [
    "# get the raw html from the wikipedia page: https://en.wikipedia.org/wiki/List_of_helicopter_prison_escapes\n",
    "# do the following only if the data is not available locally\n",
    "#=\n",
    "response = HTTP.request(\"GET\", \"https://en.wikipedia.org/wiki/List_of_helicopter_prison_escapes\")\n",
    "\n",
    "response_body = String(response.body)\n",
    "# print raw data to make sure the response is okay\n",
    "println(response.status)\n",
    "println(response.body)\n",
    "\n",
    "# store locally\n",
    "open(\"datasets/helicopter_escapes.html\",\"w\") do f\n",
    "        write(f,response_body)\n",
    "end\n",
    "=#\n",
    "\n",
    "# read the file from the raw html stored locally\n",
    "# the html was extracted on 16/09/2022\n",
    "raw_html = open(f->read(f, String),\"../datasets/helicopter_escapes.html\")"
   ]
  },
  {
   "cell_type": "markdown",
   "id": "63641362",
   "metadata": {},
   "source": [
    "### Retrieve the element in body that contains the list of helicopter escapes\n",
    "\n",
    "The response body will be formatted as an HTML, thus we'll have to convert the necessary sections into the appropriate Julia objects. To simplify traversal, we only take the body tag and ignore the rest. Traversal through the body element is by Pre-Order Depth First Search."
   ]
  },
  {
   "cell_type": "code",
   "execution_count": 4,
   "id": "cd7dad60",
   "metadata": {
    "scrolled": true
   },
   "outputs": [
    {
     "data": {
      "text/plain": [
       "HTMLElement{:tbody}:<tbody>\n",
       "  <tr>\n",
       "    <th style=\"width:11%;\">\n",
       "      Date\n",
       "    </th>\n",
       "    <th style=\"width:14%;\">\n",
       "      Prison name\n",
       "    </th>\n",
       "    <th style=\"width:5%;\">\n",
       "      Country\n",
       "    </th>\n",
       "    <th style=\"width:5%;\">\n",
       "      Succeeded\n",
       "    </th>\n",
       "    <th class=\"unsortable\" style=\"width:15%;\">\n",
       "      Escapee(s)\n",
       "    </th>\n",
       "    <th class=\"unsortable\" style=\"width:55%;\">\n",
       "      Details\n",
       "    </th>\n",
       "...\n"
      ]
     },
     "execution_count": 4,
     "metadata": {},
     "output_type": "execute_result"
    }
   ],
   "source": [
    "doc = parsehtml(raw_html)\n",
    "\n",
    "html_el = doc.root\n",
    "\n",
    "html_body_el = html_el[2]\n",
    "\n",
    "table_el = HTMLElement(:div)\n",
    "\n",
    "for elem in AT.PreOrderDFS(html_body_el) \n",
    "    try\n",
    "        # access first element four times and at the end, check if it contains the \"Date\" text\n",
    "        if text(elem[1][1][1][1]) == \"Date\"\n",
    "            table_el = elem[1]\n",
    "        end\n",
    "    catch\n",
    "        # ignore problematic tags\n",
    "    end\n",
    "end\n",
    "table_el"
   ]
  },
  {
   "cell_type": "markdown",
   "id": "a10897d4",
   "metadata": {},
   "source": [
    "### Retrieve the column names\n",
    "\n",
    "Next step will be the extraction of column names."
   ]
  },
  {
   "cell_type": "code",
   "execution_count": 5,
   "id": "19d41606",
   "metadata": {},
   "outputs": [
    {
     "data": {
      "text/plain": [
       "6-element Vector{String}:\n",
       " \"Date\"\n",
       " \"Prison name\"\n",
       " \"Country\"\n",
       " \"Succeeded\"\n",
       " \"Escapee(s)\"\n",
       " \"Details\""
      ]
     },
     "execution_count": 5,
     "metadata": {},
     "output_type": "execute_result"
    }
   ],
   "source": [
    "# table_el[1] contains the column names\n",
    "# we extract our column names from the first child of the parent element\n",
    "index = 0\n",
    "column_names = String[]\n",
    "for elem in AT.PreOrderDFS(table_el[1]) \n",
    "    if (index != 0) & (text(elem) ∉ column_names)   \n",
    "         push!(column_names, text(elem))\n",
    "    end\n",
    "    index +=1\n",
    "end\n",
    "\n",
    "# remove the last column name which was not filtered by the for loop\n",
    "pop!(column_names)\n",
    "column_names"
   ]
  },
  {
   "cell_type": "markdown",
   "id": "c5b5ae24",
   "metadata": {},
   "source": [
    "### Merge both the extracted columns and list rows into a DataFrame"
   ]
  },
  {
   "cell_type": "markdown",
   "id": "df074793",
   "metadata": {},
   "source": [
    "The last step is to merge both the extracted columns and rows into one dataframe."
   ]
  },
  {
   "cell_type": "code",
   "execution_count": 6,
   "id": "4b278f5d",
   "metadata": {},
   "outputs": [],
   "source": [
    "# create an initial dictionary to store column name to values mapping\n",
    "# we will use the dictionary to build the dataframe for the analysis\n",
    "data_dict = Dict{String, Array{String}}()\n",
    "for col in column_names\n",
    "   data_dict[col] = String[] \n",
    "end"
   ]
  },
  {
   "cell_type": "code",
   "execution_count": 7,
   "id": "c493a10f",
   "metadata": {},
   "outputs": [
    {
     "data": {
      "text/plain": [
       "10-element Vector{String}:\n",
       " \",Joel David Kaplan,Carlos Antonio Contreras Castro\"\n",
       " \",JB O'Hagan,Seamus Twomey,Kevin Mallon\"\n",
       " \",Garrett Brock Trapnell,Martin Joseph McNally,James Kenneth Johnson\"\n",
       " \",Gérard Dupré,Daniel Beaumont\"\n",
       " \",Marina Paquet (hijacker),Giles Arseneault (prisoner)\"\n",
       " \",David McMillan\"\n",
       " \",James Rodney Leonard,William Douglas Ballew,Jesse Glenn Smith\"\n",
       " \",José Carlos dos Reis Encina, a.k.a. \\\"Escadinha\\\"\"\n",
       " \",Michel Vaujour\"\n",
       " \",Samantha Lopez\""
      ]
     },
     "execution_count": 7,
     "metadata": {},
     "output_type": "execute_result"
    }
   ],
   "source": [
    "# table_el[2] and subsequent indexes contain the data\n",
    "# we'll filter the headers out\n",
    "rows = children(table_el)[2:49]\n",
    "\n",
    "num_rows = size(rows)[1]\n",
    "\n",
    "test = String[]\n",
    "\n",
    "# traverses through all elements, extract all text, combine all of them into a single String, and return the String\n",
    "function get_all_text(htmlelement; separator = \"\", removenewline=false)\n",
    "    fulltext = \"\"\n",
    "    for elem in AT.PreOrderDFS(htmlelement)\n",
    "        if(typeof(elem) <: HTMLText)\n",
    "            fulltext *= separator * text(elem)\n",
    "        end\n",
    "    end\n",
    "    if removenewline \n",
    "        fulltext = chomp(fulltext)\n",
    "    end\n",
    "    fulltext\n",
    "end\n",
    "\n",
    "# loop through the rows too and push data into the appropriate dictionary keys\n",
    "for idx in range(1, num_rows)\n",
    "    # the following can be made into a for loop but the columns are few enough \n",
    "    # to justify manual typing\n",
    "    date      = get_all_text(rows[idx][1])\n",
    "    location  = get_all_text(rows[idx][2])\n",
    "    country   = get_all_text(rows[idx][3])\n",
    "    succeeded = get_all_text(rows[idx][4])\n",
    "    escapees  = get_all_text(rows[idx][5], separator = \",\", removenewline=true)\n",
    "    details   = get_all_text(rows[idx][6])\n",
    "    \n",
    "    push!(data_dict[\"Date\"], date)\n",
    "    push!(data_dict[\"Prison name\"], location)\n",
    "    push!(data_dict[\"Country\"], country)\n",
    "    push!(data_dict[\"Succeeded\"], succeeded)\n",
    "    push!(data_dict[\"Escapee(s)\"], escapees)\n",
    "    push!(data_dict[\"Details\"], details)\n",
    "end\n",
    "first(data_dict[\"Escapee(s)\"],10)"
   ]
  },
  {
   "cell_type": "code",
   "execution_count": 8,
   "id": "bab6907b",
   "metadata": {},
   "outputs": [
    {
     "data": {
      "text/html": [
       "<div class=\"data-frame\"><p>5 rows × 5 columns</p><table class=\"data-frame\"><thead><tr><th></th><th>Country</th><th>Date</th><th>Escapee(s)</th><th>Prison name</th><th>Succeeded</th></tr><tr><th></th><th title=\"String\">String</th><th title=\"String\">String</th><th title=\"String\">String</th><th title=\"String\">String</th><th title=\"String\">String</th></tr></thead><tbody><tr><th>1</th><td> Mexico</td><td>August 19, 1971</td><td>,Joel David Kaplan,Carlos Antonio Contreras Castro</td><td>Santa Martha Acatitla\\n</td><td>Yes\\n</td></tr><tr><th>2</th><td> Ireland</td><td>October 31, 1973</td><td>,JB O&apos;Hagan,Seamus Twomey,Kevin Mallon</td><td>Mountjoy Jail</td><td>Yes\\n</td></tr><tr><th>3</th><td> United States</td><td>May 24, 1978</td><td>,Garrett Brock Trapnell,Martin Joseph McNally,James Kenneth Johnson</td><td>United States Penitentiary, Marion</td><td>No\\n</td></tr><tr><th>4</th><td> France</td><td>February 27, 1981</td><td>,Gérard Dupré,Daniel Beaumont</td><td>Fleury-Mérogis, Essonne, Ile de France\\n</td><td>Yes\\n</td></tr><tr><th>5</th><td> Canada</td><td>May 7, 1981</td><td>,Marina Paquet (hijacker),Giles Arseneault (prisoner)</td><td>Orsainville Prison, Quebec City\\n</td><td>No\\n</td></tr></tbody></table></div>"
      ],
      "text/latex": [
       "\\begin{tabular}{r|ccccc}\n",
       "\t& Country & Date & Escapee(s) & Prison name & Succeeded\\\\\n",
       "\t\\hline\n",
       "\t& String & String & String & String & String\\\\\n",
       "\t\\hline\n",
       "\t1 &  Mexico & August 19, 1971 & ,Joel David Kaplan,Carlos Antonio Contreras Castro & Santa Martha Acatitla\\textbackslash{}n & Yes\\textbackslash{}n \\\\\n",
       "\t2 &  Ireland & October 31, 1973 & ,JB O'Hagan,Seamus Twomey,Kevin Mallon & Mountjoy Jail & Yes\\textbackslash{}n \\\\\n",
       "\t3 &  United States & May 24, 1978 & ,Garrett Brock Trapnell,Martin Joseph McNally,James Kenneth Johnson & United States Penitentiary, Marion & No\\textbackslash{}n \\\\\n",
       "\t4 &  France & February 27, 1981 & ,Gérard Dupré,Daniel Beaumont & Fleury-Mérogis, Essonne, Ile de France\\textbackslash{}n & Yes\\textbackslash{}n \\\\\n",
       "\t5 &  Canada & May 7, 1981 & ,Marina Paquet (hijacker),Giles Arseneault (prisoner) & Orsainville Prison, Quebec City\\textbackslash{}n & No\\textbackslash{}n \\\\\n",
       "\\end{tabular}\n"
      ],
      "text/plain": [
       "\u001b[1m5×5 DataFrame\u001b[0m\n",
       "\u001b[1m Row \u001b[0m│\u001b[1m Country        \u001b[0m\u001b[1m Date              \u001b[0m\u001b[1m Escapee(s)                        \u001b[0m\u001b[1m Prison name                       \u001b[0m\u001b[1m Succeeded \u001b[0m\n",
       "\u001b[1m     \u001b[0m│\u001b[90m String         \u001b[0m\u001b[90m String            \u001b[0m\u001b[90m String                            \u001b[0m\u001b[90m String                            \u001b[0m\u001b[90m String    \u001b[0m\n",
       "─────┼────────────────────────────────────────────────────────────────────────────────────────────────────────────────────\n",
       "   1 │  Mexico         August 19, 1971    ,Joel David Kaplan,Carlos Antoni…  Santa Martha Acatitla\\n            Yes\\n\n",
       "   2 │  Ireland        October 31, 1973   ,JB O'Hagan,Seamus Twomey,Kevin …  Mountjoy Jail                      Yes\\n\n",
       "   3 │  United States  May 24, 1978       ,Garrett Brock Trapnell,Martin J…  United States Penitentiary, Mari…  No\\n\n",
       "   4 │  France         February 27, 1981  ,Gérard Dupré,Daniel Beaumont      Fleury-Mérogis, Essonne, Ile de …  Yes\\n\n",
       "   5 │  Canada         May 7, 1981        ,Marina Paquet (hijacker),Giles …  Orsainville Prison, Quebec City\\n  No\\n"
      ]
     },
     "execution_count": 8,
     "metadata": {},
     "output_type": "execute_result"
    }
   ],
   "source": [
    "# create the dataframe\n",
    "h_escapes = DataFrame(data_dict)\n",
    "\n",
    "# print the first five rows to make sure everything works correctly\n",
    "first(h_escapes[!, Not(:Details)], 5)"
   ]
  },
  {
   "cell_type": "markdown",
   "id": "f2c12fa8",
   "metadata": {},
   "source": [
    "## Data Cleaning"
   ]
  },
  {
   "cell_type": "markdown",
   "id": "0dbb246f",
   "metadata": {},
   "source": [
    "### Country\n",
    "\n",
    "Some country names have leading white spaces. Removing that would make the names cleaner and easier to use for analysis."
   ]
  },
  {
   "cell_type": "code",
   "execution_count": 9,
   "id": "09812a00",
   "metadata": {},
   "outputs": [
    {
     "data": {
      "text/html": [
       "<div class=\"data-frame\"><p>5 rows × 1 columns</p><table class=\"data-frame\"><thead><tr><th></th><th>Country</th></tr><tr><th></th><th title=\"String\">String</th></tr></thead><tbody><tr><th>1</th><td>Mexico</td></tr><tr><th>2</th><td>Ireland</td></tr><tr><th>3</th><td>United States</td></tr><tr><th>4</th><td>France</td></tr><tr><th>5</th><td>Canada</td></tr></tbody></table></div>"
      ],
      "text/latex": [
       "\\begin{tabular}{r|c}\n",
       "\t& Country\\\\\n",
       "\t\\hline\n",
       "\t& String\\\\\n",
       "\t\\hline\n",
       "\t1 & Mexico \\\\\n",
       "\t2 & Ireland \\\\\n",
       "\t3 & United States \\\\\n",
       "\t4 & France \\\\\n",
       "\t5 & Canada \\\\\n",
       "\\end{tabular}\n"
      ],
      "text/plain": [
       "\u001b[1m5×1 DataFrame\u001b[0m\n",
       "\u001b[1m Row \u001b[0m│\u001b[1m Country       \u001b[0m\n",
       "\u001b[1m     \u001b[0m│\u001b[90m String        \u001b[0m\n",
       "─────┼───────────────\n",
       "   1 │ Mexico\n",
       "   2 │ Ireland\n",
       "   3 │ United States\n",
       "   4 │ France\n",
       "   5 │ Canada"
      ]
     },
     "execution_count": 9,
     "metadata": {},
     "output_type": "execute_result"
    }
   ],
   "source": [
    "# strip the leading white space in the Country column\n",
    "h_escapes[!, [:Country]] = select(h_escapes, :Country => ByRow(x -> string(strip(x))) => :Country)\n",
    "\n",
    "first(h_escapes[!, [:Country]], 5)"
   ]
  },
  {
   "cell_type": "markdown",
   "id": "7e943aa4",
   "metadata": {},
   "source": [
    "### Date\n",
    "\n",
    "Next, we'll simplify the date. We're only interested in the year the escape happened."
   ]
  },
  {
   "cell_type": "code",
   "execution_count": 10,
   "id": "5b00ee16",
   "metadata": {},
   "outputs": [
    {
     "data": {
      "text/html": [
       "<div class=\"data-frame\"><p>48 rows × 6 columns</p><table class=\"data-frame\"><thead><tr><th></th><th>Country</th><th>Year</th><th>Details</th><th>Escapee(s)</th><th>Prison name</th><th>Succeeded</th></tr><tr><th></th><th title=\"String\">String</th><th title=\"Int64\">Int64</th><th title=\"String\">String</th><th title=\"String\">String</th><th title=\"String\">String</th><th title=\"String\">String</th></tr></thead><tbody><tr><th>1</th><td>Mexico</td><td>1971</td><td>Joel David Kaplan was a New York businessman who had been arrested for murder in 1962 in Mexico City and was incarcerated at the Santa Martha Acatitla prison in the Iztapalapa borough of Mexico City.  Joel&apos;s sister, Judy Kaplan, arranged the means to help Kaplan escape, and on August 19, 1971, a helicopter landed in the prison yard. The guards mistakenly thought this was an official visit. In two minutes, Kaplan and his cellmate Carlos Antonio Contreras, a Venezuelan counterfeiter, were able to board the craft and were piloted away, before any shots were fired.[9] Both men were flown to Texas and then different planes flew Kaplan to California and Castro to Guatemala.[3]  The Mexican government never initiated extradition proceedings against Kaplan.[9] The escape is told in a book, The 10-Second Jailbreak: The Helicopter Escape of Joel David Kaplan.[4] It also inspired the 1975 action movieBreakout, which starred Charles Bronson and Robert Duvall.[9]</td><td>,Joel David Kaplan,Carlos Antonio Contreras Castro</td><td>Santa Martha Acatitla\\n</td><td>Yes\\n</td></tr><tr><th>2</th><td>Ireland</td><td>1973</td><td>On October 31, 1973 an IRA member hijacked a helicopter and forced the pilot to land in the exercise yard of Dublin&apos;s Mountjoy Jail&apos;s D Wing at 3:40 p.m., October 31, 1973. Three members of the IRA were able to escape: JB O&apos;Hagan, Seamus Twomey and Kevin Mallon. Another prisoner who also was in the prison was quoted as saying, &quot;One shamefaced screw apologised to the governor and said he thought it was the new Minister for Defence (Paddy Donegan) arriving. I told him it was our Minister of Defence leaving.&quot;\\nThe Mountjoy helicopter escape became Republican lore and was immortalized by &quot;The Helicopter Song&quot;, which contains the lines &quot;It&apos;s up like a bird and over the city. There&apos;s three men a&apos;missing I heard the warder say&quot;.[1]</td><td>,JB O&apos;Hagan,Seamus Twomey,Kevin Mallon</td><td>Mountjoy Jail</td><td>Yes\\n</td></tr><tr><th>3</th><td>United States</td><td>1978</td><td>43-year-old Barbara Ann Oswald hijacked a Saint Louis-based charter helicopter and forced the pilot to land in the yard at USP Marion. While landing the aircraft, the pilot, Allen Barklage, who was a Vietnam War veteran, struggled with Oswald and managed to wrestle the gun away from her. Barklage then shot and killed Oswald, thwarting the escape.[10] A few months later Oswald&apos;s daughter hijacked TWA Flight 541 in an effort to free Trapnell.\\n</td><td>,Garrett Brock Trapnell,Martin Joseph McNally,James Kenneth Johnson</td><td>United States Penitentiary, Marion</td><td>No\\n</td></tr><tr><th>4</th><td>France</td><td>1981</td><td>With the help of Serge Coutel, Gérard Dupré and Daniel Beaumont, succeed in the first and double helicopter escape of a French prison, in Fleury-Mérogis (Essonne), the best kept prison of France. The men hijacked a helicopter and its pilot that they rented to fly from Paris to Orléans. The pilot, Claude Fourcade, was taken hostage and was told that they were holding his wife and daughter hostage (which was not true) ... The flight turned into Paris - Fleury -Merogis - Porte d&apos;Orléans.[11]</td><td>,Gérard Dupré,Daniel Beaumont</td><td>Fleury-Mérogis, Essonne, Ile de France\\n</td><td>Yes\\n</td></tr><tr><th>5</th><td>Canada</td><td>1981</td><td>Marina Paquet held a sawed off shotgun against the back of the head of a helicopter pilot. She demanded that he land in the Orsainville prison courtyard, where her boyfriend (awaiting extradition to California on a murder charge) was set to escape. The pilot, Brian Jenner, feigned a panic attack, put the helicopter through some rough maneuvers and was then able to convince Paquet, in the back seat of the Jet Ranger, to turn over her shotgun and her knife. Jenner then gave her the choice of any landing spot, except the prison. She chose to go back to the airport.\\nThe pilot then explained, in great detail, exactly where they were and where they would be landing on arrival at the Quebec City airport. He added that the police would surely be aware by then, that she had hijacked the helicopter but would not yet be aware that she had given up her arms to the pilot. All the time Jenner was squeezing the transmit button on his cyclic stick and the tower was picking up all the details. The moment they touched down at the airport, the woman left the helicopter but the police, who had been advised of the situation by the control tower, were hiding nearby, and captured Paquet within seconds.\\n</td><td>,Marina Paquet (hijacker),Giles Arseneault (prisoner)</td><td>Orsainville Prison, Quebec City\\n</td><td>No\\n</td></tr><tr><th>6</th><td>Australia</td><td>1983</td><td>Arrests were made for the 1983 attempted helicopter escape from Melbourne’s Pentridge Prison in Australia.[12] The three, all held on drug-importation charges, had hired a former SAS soldier, then living in the Philippines, to lift the prisoners from the jail’s tennis court to a nearby van fitted with panels to hide them for the 600 kilometre road trip to Sydney, where a yacht was to take them to Manila.\\nThe plan was thwarted when Lord Tony Moynihan, himself an exile in the Philippines, informed the Australian Federal Police, who then ran it as a sting operation. Tony Moynihan would later become an informer against Howard Marks in a Florida trial.\\nOf the accused, only David McMillan and his accountant friend who had visited the prison stood trial. During the hearings, few prosecution witnesses used their real names as they were mostly from Moynihan’s former West African MI6 unit. Those on trial were convicted and sentenced.[13]</td><td>,David McMillan</td><td>Pentridge (HM Prison)</td><td>No\\n</td></tr><tr><th>7</th><td>United States</td><td>1985</td><td>One murderer, James Rodney Leonard, and two armed robbers, William Douglas Ballew and Jesse Glenn Smith, fled in a helicopter with a pilot and a woman hijacker with a pistol to a getaway car 4 to 5 miles away.[14] The 3-passenger helicopter was so overloaded with 5 occupants that it barely cleared the fence, while flying away in a hail of gunfire that injured one guard. Two other men attempted to escape as well, but either jumped or were pushed off when the pilot told the escapees that the helicopter could not take off.[15] The three escapees were captured on December 23 in Camden County, Georgia.[16]</td><td>,James Rodney Leonard,William Douglas Ballew,Jesse Glenn Smith</td><td>Perry Correctional Institution, Pelzer, South Carolina</td><td>Yes\\n</td></tr><tr><th>8</th><td>Brazil</td><td>1985</td><td>Drug lord Encina was rescued by José Carlos Gregório, aka &quot;Gordo&quot;, who rented the Bell 47 aircraft under the guise of surveying some lands he intended to buy. &quot;Gordo&quot; forced the pilot to land and pick up Encina, who had escaped the prison proper earlier. Encina was recaptured three months later after being shot in a firefight.[17]</td><td>,José Carlos dos Reis Encina, a.k.a. &quot;Escadinha&quot;</td><td>Cândido Mendes penitentiary, Ilha Grande, Rio de Janeiro</td><td>Yes\\n</td></tr><tr><th>9</th><td>France</td><td>1986</td><td>Vaujour had 28 years to serve for attempted murder and armed robbery; this was his fourth escape attempt. He made his way to the roof by threatening guards with a fake pistol and nectarines painted as grenades. On top of the jail he was picked up by his wife Nadine, who had taken helicopter pilot lessons especially for the escape.[5] They landed at a nearby football pitch and fled in a waiting car.[2]Paris-Match published amateur photos of the escape, which was made into a film starring Béatrice Dalle in 1991.[18]</td><td>,Michel Vaujour</td><td>Prison de la Santé</td><td>Yes\\n</td></tr><tr><th>10</th><td>United States</td><td>1986</td><td>Ronald J. McIntosh walked away from a minimum security prison on October 28 and then hijacked a helicopter on November 5.[19][20] He used the helicopter to free Samantha Lopez from the Federal Correctional Institution at Dublin, east of San Francisco. Both were later caught on November 15 when they arrived to pick up wedding rings from a California shopping mall. The authorities were monitoring the account McIntosh used to write the check and the police were waiting for them.\\nRon McIntosh for his role in the escape was sentenced to 25 years in prison. Samantha Lopez was given five years added to her 50-year sentence for a 1981 bank robbery in Georgia.[21] As they were driven away to their separate prisons McIntosh was able to lean out of a car window and yell, &quot;I love you!&quot; to Lopez.[22] Samantha Lopez was released from prison on 20 April 2010.[23]</td><td>,Samantha Lopez</td><td>Federal Correctional Institution, Dublin</td><td>Yes\\n</td></tr><tr><th>11</th><td>Italy</td><td>1986</td><td>A red cross helicopter was hijacked by two gunmen and forced to fly to the maximum-security Rebibbia Prison courtyard. The pilot hovered the helicopter three feet off the courtyard ground while around 50 inmates were exercising. While the hijackers laid covering fire, three inmates tried to board the helicopter. One escapee, Andre Bellaiche, 36, was a Tunisian-born Frenchman who was in jail for murder and bank robbery. The other escapee, Gianluigi Esposito, 30, was an arms smuggler accused of providing weapons to Italian terrorists. The third man, Luciano Cipollari, 24, an Italian extradited from France in 1985 for murder, slipped and fell preventing him from escaping. The helicopter flew to a nearby soccer field scattering an ongoing game. The men ran out of the helicopter and hijacked a car to escape.[24] They later managed to flee Italy, but police was able to track them down and they were both arrested again on December 13, 1986. Esposito later revealed that he had intentionally prevented Cipollari from boarding, because he was just 2 years away from being released.[25]</td><td>,André Bellaïche,Gianluigi Esposito,Luciano  Cipollari</td><td>Prigione di Rebibbia, Roma</td><td>Yes\\n</td></tr><tr><th>12</th><td>United Kingdom</td><td>1987</td><td>At 3:16 p.m. on December 10, 1987, John Kendall and Sydney Draper were sprung from Gartree&apos;s exercise yard with the aid of a hijacked Bell 206L helicopter. Kendall was a gangland boss serving eight years while Draper was jailed for murder and serving a life sentence.[26] The escape caused great controversy at the time and led to a tightening of security at the jail. Kendall was recaptured 10 days later but Draper remained at large for 13 months.\\n</td><td>,Sydney Draper,John Kendall</td><td>Gartree (HM Prison)</td><td>Yes\\n</td></tr><tr><th>13</th><td>United States</td><td>1988</td><td>Pilot Charles Bella was hired to fly a real estate agent around the Santa Fe area. As he was flying his Aerospatiale Gazelle helicopter she pulled a gun and forced him to land in the courtyard of the Santa Fe prison. Three inmates jumped in and he flew the aircraft to another site, pursued by a US Customs Service helicopter that was later joined by a state police helicopter. Pursuing helicopters claimed that Bella tried to force them down through aggressive maneuvers. However, they were able to tail him and police were waiting for the helicopter every time it touched down.[8][27] Two of the prisoners, Francis Mitchell and Randy Lackey, were captured almost right away while Danny Mahoney was later captured with assistance from a canine unit.[8]</td><td>,Mahoney Danny ,Francis Mitchell,Randy Lackey</td><td>Santa Fe prison</td><td>Yes\\n</td></tr><tr><th>14</th><td>United States</td><td>1989</td><td>Famous Apache Boat owner and racer Ben Kramer tried to escape by helicopter from the Metropolitan Correctional Center, a Federal Prison (holding) in Southwest Miami on April 17, 1989. The escape failed when the rookie pilot, Charles Clayton Stevens, hovered 12 inches off the ground in a very tight space (200&apos;long by 50&apos; wide). When the 6&apos;-2&quot;, 240 lb Kramer jumped into the small two seater Bell 47D-1 (trainer), its rear rotor struck the razor wire, causing it to be uncontrollable. Stevens made an attempt to take off anyway. One of the skids caught on the razor wire, causing the helicopter to catapult over the fence and crash into the prison grounds. Both pilot and escapee sustained extensive injuries.[28][29]Ben Kramer was serving life without parole for Racketeer Influenced and Corrupt Organizations Act (RICO) charges resulting from drug trafficking, and also pleaded guilty to the murder of fellow boat builder and racer Don Aronow, owner of Cigarette Off Shore Boats.[28]</td><td>,Ben Kramer</td><td>Federal Holding Facility, Miami, FL\\n</td><td>No\\n</td></tr><tr><th>15</th><td>United States</td><td>1989</td><td>Colorado prison inmates Ralph Brown and Freddie Gonzales were able to escape via helicopter. Two women, Rebecca Brown and Patricia Gonzales chartered a helicopter out of Denver Colorado. Once airborne the women held semi-automatic pistols to pilot Tim Graves head and ordered him to land in the prison yard to pick up the two men. They were recaptured in Holdrege, Nebraska that night after firing shots at law enforcement officers.[30]</td><td>,Ralph Brown,Freddie Gonzales</td><td>Arkansas Valley Correctional Facility\\n</td><td>Yes\\n</td></tr><tr><th>16</th><td>Canada</td><td>1990</td><td>Two prisoners, Robert Ford and David Thomas, escaped when a hijacked helicopter landed in the courtyard. They were captured by the RCMP at Harrison Lake two days later. Correctional Officer R. KIRBY was shot during the incident and survived. The pilot, Fred Fandrich of Valley Helicopters, was not injured. The Bell 206 helicopter was damaged by gunfire from prison guards.\\n</td><td>,Robert Ford,David Thomas</td><td>Kent Penitentiary, British Columbia\\n</td><td>Yes\\n</td></tr><tr><th>17</th><td>Puerto Rico</td><td>1991</td><td>Inmates were able to escape when a helicopter plucked them from the prison. The escape prompted the Puerto Rico House Government Committee to pass a regulation that allowed penal officials to fire on any helicopter aiding an escape attempt.[31] Plans for the escape have been attributed to drug dealer Papo Cachete, who died during 2019.\\n</td><td>,William Lane</td><td>Rio Piedras State Penitentiary, Puerto Rico\\n</td><td>Yes\\n</td></tr><tr><th>18</th><td>France</td><td>1992</td><td>Two armed men hijacked a helicopter in Albertville as it was about to take off to pick up skiers in the Alps and forced the pilot to fly to the prison. The helicopter landed in the courtyard and three prisoners clambered aboard. After this successful escape, cables were strung across the central yard at five-metre intervals.[5]</td><td>,—</td><td>Lyon Prison\\n</td><td>Yes\\n</td></tr><tr><th>19</th><td>France</td><td>1992</td><td>The would-be escapee was shot dead by prison guards; three others were wounded.[18]</td><td>,—</td><td>Touraine Central Prison, Tours</td><td>No\\n</td></tr><tr><th>20</th><td>France</td><td>1993</td><td>Vaujour and his wife were imprisoned in 1991. A man and woman hijacked a helicopter and held the pilot&apos;s family hostage. The wife alerted police and the prison was locked down before the helicopter arrived. It returned to its base, from where the hijackers escaped in a car.[18]</td><td>,Michel Vaujour</td><td>Touraine Central Prison, Tours</td><td>No\\n</td></tr><tr><th>21</th><td>Chile</td><td>1996</td><td>Two women suspected of involvement were Irish citizens, raising suspicions of a Provisional IRA link to the left-wing rebel escapees.[32]</td><td>,Four members of the ,Manuel Rodriguez Patriotic Front</td><td>High Security Prison, Santiago\\n</td><td>Yes\\n</td></tr><tr><th>22</th><td>Netherlands</td><td>1997</td><td>A September 18, 1997 escape attempt ended in failure when the helicopter crashed into the prison ground of the Dutch prison, De Geerhorst. The helicopter had been stolen earlier in Belgium. The pilot was killed and the Colombian prison escapee, who was serving a long-term sentence for drug trafficking, walked away with slight injuries.[33]</td><td>,—</td><td>De Geerhorst jail\\n</td><td>No\\n</td></tr><tr><th>23</th><td>Australia</td><td>1999</td><td>On March 25, 1999, librarian Lucy Dudko hired a helicopter under the pretence of checking out the upcoming Olympic site in Sydney.[34] Using a gun she forced pilot Tim Joyce to land on the Metropolitan Remand and Reception Centre grounds. Waiting was John Killick, who was serving 28 years for armed robberies. He jumped in the helicopter making an escape while being fired on by guards and cheered on by inmates. They landed in a park where Killick hijacked a taxi at gunpoint. The two were able to elude authorities for six weeks before being arrested at the Bass Hill Tourist Park.\\nLucy Dudko, dubbed Red Lucy by the media, was sentenced to the maximum of 10 years and was sent to Mulawa Correctional Centre women&apos;s prison. On May 9, 2006 she was released on parole after serving 7 years of her sentence.[35] John Killick was released on January 22, 2015, but is not allowed to have contact with Dudko until he turns 80 years old.[36]</td><td>,John Killick</td><td>Metropolitan Remand and Reception Centre</td><td>Yes\\n</td></tr><tr><th>24</th><td>United States</td><td>2000</td><td>Steven Whitsett was serving a civil commitment as a Sexually Violent Predator at the Martin Treatment Center. On June 5, 2000, at approximately 1 p.m., correctional officers patrolling the perimeter of the treatment center reported a helicopter approaching from south of the facility. Piloted by Clifford Burkhart, a former lover of Whitsett, the helicopter landed inside the fenced compound.[37] While Whitsett was climbing aboard, the helicopter struck an object. As a result of the damage the helicopter crashed about 100 yards south of the perimeter fence. Twenty-six hours from the time of the escape, a Martin County Sheriff’s deputy spotted Whitsett and Burkhart from a search helicopter. The two men were in a canal, in shoulder-deep water, four miles east of the treatment facility. For the escape and weapons charges stemming from the escape Whitsett received a criminal sentence of 25 years. Whitsett was awaiting a retrial when his conviction was overturned in 2007. For his part in the escape, Burkhart was sentenced to 7 years, followed by 10 years of probation. Burkhart was released from prison in 2007.[38]</td><td>,Steven Whitsett</td><td>Martin Treatment Center for Sexually Violent Predators, Martin County Florida\\n</td><td>Yes\\n</td></tr><tr><th>25</th><td>France</td><td>2000</td><td>Three men were able to escape a prison near Lyon by having an accomplice fly a hijacked helicopter over the prison. A net was lowered and the three inmates were able to grab hold and lifted to freedom. Guards were able to fatally shoot one of the convicts. The remaining two were recaptured after a gun battle with police.[5]</td><td>,—</td><td>Lyon prison\\n</td><td>Yes\\n</td></tr><tr><th>26</th><td>France</td><td>2001</td><td>Pascal Payet escaped from Luynes prison using a hijacked helicopter.[6]</td><td>,Pascal Payet</td><td>Luynes prison\\n</td><td>Yes\\n</td></tr><tr><th>27</th><td>France</td><td>2001</td><td>On March 24, 2001, an armed man hijacked a helicopter from a nearby airfield. The pilot was forced to land in the courtyard of the prison. Three convicts managed to get aboard before flying 60 kilometres (37 mi) away. Landing in the village of Auribeau-sur-Siagne, the pilot was released and the men got into a waiting getaway car. The escapees were later identified as convicted armed robbers Emile Forma-Sari, Jean-Philippe Lecase and Abdelhamid Carnous.[39]</td><td>,Abdelhamid Carnous,Emile Forma-Sari,Jean-Philippe Lecase</td><td>Draguignan prison\\n</td><td>Yes\\n</td></tr><tr><th>28</th><td>France</td><td>2001</td><td>(Although not a helicopter escape in the truest sense, it is listed here because of the large role a helicopter played in the incident). In May 2001 a hijacked helicopter flew over Fresnes prison, south of Paris and dropped weapons in the exercise yard. Two prisoners armed with a bulletproof vest, an automatic pistol and a Kalashnikov dropped by the helicopter were able to take three guards hostage in an attempt to escape from prison. The hostage drama lasted about 24 hours before the prisoners surrendered.[40]</td><td>,—</td><td>Fresnes prison\\n</td><td>No\\n</td></tr><tr><th>29</th><td>Brazil</td><td>2002</td><td>A helicopter was flown into Parada Neto Penitentiary, freeing two inmates serving time for murder and bank robbery.\\nEarlier in the day two men rented a helicopter pretending to be tourists wanting a panoramic ride over the city. While in the air they drew guns and forced the pilot to land in the central yard of the prison. The inmates jumped aboard, and when the pilot took off again guards opened fire. The helicopter was found abandoned on a football pitch 50 kilometres (31 mi) away full of bullet holes.[41]</td><td>,—</td><td>Parada Neto Penitentiary\\n</td><td>Yes\\n</td></tr><tr><th>30</th><td>United States</td><td>2002</td><td>In Puerto Rico five prisoners escaped from Las Cucharas prison in Ponce. Two men had earlier rented the helicopter saying they wanted to inspect construction sites. They forced the pilot at gunpoint to land on the roof of the jail where they picked up the five convicts. To reach the roof the inmates cut a hole in the chain link fence. One was forced to hang onto the skids outside the helicopter as there was no room inside.\\nThe escapees were:\\nOrlando Valdes Cartagena, who was serving a 254-year sentence for murderJose A. Perez Rodriguez, who was serving a 319-year sentence for murderVictor Gonzalez Diaz, who was serving a 113-year sentenceHector Marrero Diaz, who was serving 109-year sentenceJose M. Rojas Tapia, who was serving a 100-year sentence.Of the five, only Victor Gonzalez Diaz wasn&apos;t recaptured immediately. The inmates claimed to have killed him soon after the break-out. He later surrendered himself to authorities in January 2003.[42]</td><td>,Orlando Cartagena, Jose Rodriguez, Victor Diaz, Hector Diaz, Jose Tapia</td><td>Las Cucharas prison, Puerto Rico\\n</td><td>Yes\\n</td></tr><tr><th>&vellip;</th><td>&vellip;</td><td>&vellip;</td><td>&vellip;</td><td>&vellip;</td><td>&vellip;</td><td>&vellip;</td></tr></tbody></table></div>"
      ],
      "text/latex": [
       "\\begin{tabular}{r|cccccc}\n",
       "\t& Country & Year & Details & Escapee(s) & Prison name & Succeeded\\\\\n",
       "\t\\hline\n",
       "\t& String & Int64 & String & String & String & String\\\\\n",
       "\t\\hline\n",
       "\t1 & Mexico & 1971 & Joel David Kaplan was a New York businessman who had been arrested for murder in 1962 in Mexico City and was incarcerated at the Santa Martha Acatitla prison in the Iztapalapa borough of Mexico City.  Joel's sister, Judy Kaplan, arranged the means to help Kaplan escape, and on August 19, 1971, a helicopter landed in the prison yard. The guards mistakenly thought this was an official visit. In two minutes, Kaplan and his cellmate Carlos Antonio Contreras, a Venezuelan counterfeiter, were able to board the craft and were piloted away, before any shots were fired.[9] Both men were flown to Texas and then different planes flew Kaplan to California and Castro to Guatemala.[3]  The Mexican government never initiated extradition proceedings against Kaplan.[9] The escape is told in a book, The 10-Second Jailbreak: The Helicopter Escape of Joel David Kaplan.[4] It also inspired the 1975 action movieBreakout, which starred Charles Bronson and Robert Duvall.[9] & ,Joel David Kaplan,Carlos Antonio Contreras Castro & Santa Martha Acatitla\\textbackslash{}n & Yes\\textbackslash{}n \\\\\n",
       "\t2 & Ireland & 1973 & On October 31, 1973 an IRA member hijacked a helicopter and forced the pilot to land in the exercise yard of Dublin's Mountjoy Jail's D Wing at 3:40 p.m., October 31, 1973. Three members of the IRA were able to escape: JB O'Hagan, Seamus Twomey and Kevin Mallon. Another prisoner who also was in the prison was quoted as saying, \"One shamefaced screw apologised to the governor and said he thought it was the new Minister for Defence (Paddy Donegan) arriving. I told him it was our Minister of Defence leaving.\"\\textbackslash{}nThe Mountjoy helicopter escape became Republican lore and was immortalized by \"The Helicopter Song\", which contains the lines \"It's up like a bird and over the city. There's three men a'missing I heard the warder say\".[1] & ,JB O'Hagan,Seamus Twomey,Kevin Mallon & Mountjoy Jail & Yes\\textbackslash{}n \\\\\n",
       "\t3 & United States & 1978 & 43-year-old Barbara Ann Oswald hijacked a Saint Louis-based charter helicopter and forced the pilot to land in the yard at USP Marion. While landing the aircraft, the pilot, Allen Barklage, who was a Vietnam War veteran, struggled with Oswald and managed to wrestle the gun away from her. Barklage then shot and killed Oswald, thwarting the escape.[10] A few months later Oswald's daughter hijacked TWA Flight 541 in an effort to free Trapnell.\\textbackslash{}n & ,Garrett Brock Trapnell,Martin Joseph McNally,James Kenneth Johnson & United States Penitentiary, Marion & No\\textbackslash{}n \\\\\n",
       "\t4 & France & 1981 & With the help of Serge Coutel, Gérard Dupré and Daniel Beaumont, succeed in the first and double helicopter escape of a French prison, in Fleury-Mérogis (Essonne), the best kept prison of France. The men hijacked a helicopter and its pilot that they rented to fly from Paris to Orléans. The pilot, Claude Fourcade, was taken hostage and was told that they were holding his wife and daughter hostage (which was not true) ... The flight turned into Paris - Fleury -Merogis - Porte d'Orléans.[11] & ,Gérard Dupré,Daniel Beaumont & Fleury-Mérogis, Essonne, Ile de France\\textbackslash{}n & Yes\\textbackslash{}n \\\\\n",
       "\t5 & Canada & 1981 & Marina Paquet held a sawed off shotgun against the back of the head of a helicopter pilot. She demanded that he land in the Orsainville prison courtyard, where her boyfriend (awaiting extradition to California on a murder charge) was set to escape. The pilot, Brian Jenner, feigned a panic attack, put the helicopter through some rough maneuvers and was then able to convince Paquet, in the back seat of the Jet Ranger, to turn over her shotgun and her knife. Jenner then gave her the choice of any landing spot, except the prison. She chose to go back to the airport.\\textbackslash{}nThe pilot then explained, in great detail, exactly where they were and where they would be landing on arrival at the Quebec City airport. He added that the police would surely be aware by then, that she had hijacked the helicopter but would not yet be aware that she had given up her arms to the pilot. All the time Jenner was squeezing the transmit button on his cyclic stick and the tower was picking up all the details. The moment they touched down at the airport, the woman left the helicopter but the police, who had been advised of the situation by the control tower, were hiding nearby, and captured Paquet within seconds.\\textbackslash{}n & ,Marina Paquet (hijacker),Giles Arseneault (prisoner) & Orsainville Prison, Quebec City\\textbackslash{}n & No\\textbackslash{}n \\\\\n",
       "\t6 & Australia & 1983 & Arrests were made for the 1983 attempted helicopter escape from Melbourne’s Pentridge Prison in Australia.[12] The three, all held on drug-importation charges, had hired a former SAS soldier, then living in the Philippines, to lift the prisoners from the jail’s tennis court to a nearby van fitted with panels to hide them for the 600 kilometre road trip to Sydney, where a yacht was to take them to Manila.\\textbackslash{}nThe plan was thwarted when Lord Tony Moynihan, himself an exile in the Philippines, informed the Australian Federal Police, who then ran it as a sting operation. Tony Moynihan would later become an informer against Howard Marks in a Florida trial.\\textbackslash{}nOf the accused, only David McMillan and his accountant friend who had visited the prison stood trial. During the hearings, few prosecution witnesses used their real names as they were mostly from Moynihan’s former West African MI6 unit. Those on trial were convicted and sentenced.[13] & ,David McMillan & Pentridge (HM Prison) & No\\textbackslash{}n \\\\\n",
       "\t7 & United States & 1985 & One murderer, James Rodney Leonard, and two armed robbers, William Douglas Ballew and Jesse Glenn Smith, fled in a helicopter with a pilot and a woman hijacker with a pistol to a getaway car 4 to 5 miles away.[14] The 3-passenger helicopter was so overloaded with 5 occupants that it barely cleared the fence, while flying away in a hail of gunfire that injured one guard. Two other men attempted to escape as well, but either jumped or were pushed off when the pilot told the escapees that the helicopter could not take off.[15] The three escapees were captured on December 23 in Camden County, Georgia.[16] & ,James Rodney Leonard,William Douglas Ballew,Jesse Glenn Smith & Perry Correctional Institution, Pelzer, South Carolina & Yes\\textbackslash{}n \\\\\n",
       "\t8 & Brazil & 1985 & Drug lord Encina was rescued by José Carlos Gregório, aka \"Gordo\", who rented the Bell 47 aircraft under the guise of surveying some lands he intended to buy. \"Gordo\" forced the pilot to land and pick up Encina, who had escaped the prison proper earlier. Encina was recaptured three months later after being shot in a firefight.[17] & ,José Carlos dos Reis Encina, a.k.a. \"Escadinha\" & Cândido Mendes penitentiary, Ilha Grande, Rio de Janeiro & Yes\\textbackslash{}n \\\\\n",
       "\t9 & France & 1986 & Vaujour had 28 years to serve for attempted murder and armed robbery; this was his fourth escape attempt. He made his way to the roof by threatening guards with a fake pistol and nectarines painted as grenades. On top of the jail he was picked up by his wife Nadine, who had taken helicopter pilot lessons especially for the escape.[5] They landed at a nearby football pitch and fled in a waiting car.[2]Paris-Match published amateur photos of the escape, which was made into a film starring Béatrice Dalle in 1991.[18] & ,Michel Vaujour & Prison de la Santé & Yes\\textbackslash{}n \\\\\n",
       "\t10 & United States & 1986 & Ronald J. McIntosh walked away from a minimum security prison on October 28 and then hijacked a helicopter on November 5.[19][20] He used the helicopter to free Samantha Lopez from the Federal Correctional Institution at Dublin, east of San Francisco. Both were later caught on November 15 when they arrived to pick up wedding rings from a California shopping mall. The authorities were monitoring the account McIntosh used to write the check and the police were waiting for them.\\textbackslash{}nRon McIntosh for his role in the escape was sentenced to 25 years in prison. Samantha Lopez was given five years added to her 50-year sentence for a 1981 bank robbery in Georgia.[21] As they were driven away to their separate prisons McIntosh was able to lean out of a car window and yell, \"I love you!\" to Lopez.[22] Samantha Lopez was released from prison on 20 April 2010.[23] & ,Samantha Lopez & Federal Correctional Institution, Dublin & Yes\\textbackslash{}n \\\\\n",
       "\t11 & Italy & 1986 & A red cross helicopter was hijacked by two gunmen and forced to fly to the maximum-security Rebibbia Prison courtyard. The pilot hovered the helicopter three feet off the courtyard ground while around 50 inmates were exercising. While the hijackers laid covering fire, three inmates tried to board the helicopter. One escapee, Andre Bellaiche, 36, was a Tunisian-born Frenchman who was in jail for murder and bank robbery. The other escapee, Gianluigi Esposito, 30, was an arms smuggler accused of providing weapons to Italian terrorists. The third man, Luciano Cipollari, 24, an Italian extradited from France in 1985 for murder, slipped and fell preventing him from escaping. The helicopter flew to a nearby soccer field scattering an ongoing game. The men ran out of the helicopter and hijacked a car to escape.[24] They later managed to flee Italy, but police was able to track them down and they were both arrested again on December 13, 1986. Esposito later revealed that he had intentionally prevented Cipollari from boarding, because he was just 2 years away from being released.[25] & ,André Bellaïche,Gianluigi Esposito,Luciano  Cipollari & Prigione di Rebibbia, Roma & Yes\\textbackslash{}n \\\\\n",
       "\t12 & United Kingdom & 1987 & At 3:16 p.m. on December 10, 1987, John Kendall and Sydney Draper were sprung from Gartree's exercise yard with the aid of a hijacked Bell 206L helicopter. Kendall was a gangland boss serving eight years while Draper was jailed for murder and serving a life sentence.[26] The escape caused great controversy at the time and led to a tightening of security at the jail. Kendall was recaptured 10 days later but Draper remained at large for 13 months.\\textbackslash{}n & ,Sydney Draper,John Kendall & Gartree (HM Prison) & Yes\\textbackslash{}n \\\\\n",
       "\t13 & United States & 1988 & Pilot Charles Bella was hired to fly a real estate agent around the Santa Fe area. As he was flying his Aerospatiale Gazelle helicopter she pulled a gun and forced him to land in the courtyard of the Santa Fe prison. Three inmates jumped in and he flew the aircraft to another site, pursued by a US Customs Service helicopter that was later joined by a state police helicopter. Pursuing helicopters claimed that Bella tried to force them down through aggressive maneuvers. However, they were able to tail him and police were waiting for the helicopter every time it touched down.[8][27] Two of the prisoners, Francis Mitchell and Randy Lackey, were captured almost right away while Danny Mahoney was later captured with assistance from a canine unit.[8] & ,Mahoney Danny ,Francis Mitchell,Randy Lackey & Santa Fe prison & Yes\\textbackslash{}n \\\\\n",
       "\t14 & United States & 1989 & Famous Apache Boat owner and racer Ben Kramer tried to escape by helicopter from the Metropolitan Correctional Center, a Federal Prison (holding) in Southwest Miami on April 17, 1989. The escape failed when the rookie pilot, Charles Clayton Stevens, hovered 12 inches off the ground in a very tight space (200'long by 50' wide). When the 6'-2\", 240 lb Kramer jumped into the small two seater Bell 47D-1 (trainer), its rear rotor struck the razor wire, causing it to be uncontrollable. Stevens made an attempt to take off anyway. One of the skids caught on the razor wire, causing the helicopter to catapult over the fence and crash into the prison grounds. Both pilot and escapee sustained extensive injuries.[28][29]Ben Kramer was serving life without parole for Racketeer Influenced and Corrupt Organizations Act (RICO) charges resulting from drug trafficking, and also pleaded guilty to the murder of fellow boat builder and racer Don Aronow, owner of Cigarette Off Shore Boats.[28] & ,Ben Kramer & Federal Holding Facility, Miami, FL\\textbackslash{}n & No\\textbackslash{}n \\\\\n",
       "\t15 & United States & 1989 & Colorado prison inmates Ralph Brown and Freddie Gonzales were able to escape via helicopter. Two women, Rebecca Brown and Patricia Gonzales chartered a helicopter out of Denver Colorado. Once airborne the women held semi-automatic pistols to pilot Tim Graves head and ordered him to land in the prison yard to pick up the two men. They were recaptured in Holdrege, Nebraska that night after firing shots at law enforcement officers.[30] & ,Ralph Brown,Freddie Gonzales & Arkansas Valley Correctional Facility\\textbackslash{}n & Yes\\textbackslash{}n \\\\\n",
       "\t16 & Canada & 1990 & Two prisoners, Robert Ford and David Thomas, escaped when a hijacked helicopter landed in the courtyard. They were captured by the RCMP at Harrison Lake two days later. Correctional Officer R. KIRBY was shot during the incident and survived. The pilot, Fred Fandrich of Valley Helicopters, was not injured. The Bell 206 helicopter was damaged by gunfire from prison guards.\\textbackslash{}n & ,Robert Ford,David Thomas & Kent Penitentiary, British Columbia\\textbackslash{}n & Yes\\textbackslash{}n \\\\\n",
       "\t17 & Puerto Rico & 1991 & Inmates were able to escape when a helicopter plucked them from the prison. The escape prompted the Puerto Rico House Government Committee to pass a regulation that allowed penal officials to fire on any helicopter aiding an escape attempt.[31] Plans for the escape have been attributed to drug dealer Papo Cachete, who died during 2019.\\textbackslash{}n & ,William Lane & Rio Piedras State Penitentiary, Puerto Rico\\textbackslash{}n & Yes\\textbackslash{}n \\\\\n",
       "\t18 & France & 1992 & Two armed men hijacked a helicopter in Albertville as it was about to take off to pick up skiers in the Alps and forced the pilot to fly to the prison. The helicopter landed in the courtyard and three prisoners clambered aboard. After this successful escape, cables were strung across the central yard at five-metre intervals.[5] & ,— & Lyon Prison\\textbackslash{}n & Yes\\textbackslash{}n \\\\\n",
       "\t19 & France & 1992 & The would-be escapee was shot dead by prison guards; three others were wounded.[18] & ,— & Touraine Central Prison, Tours & No\\textbackslash{}n \\\\\n",
       "\t20 & France & 1993 & Vaujour and his wife were imprisoned in 1991. A man and woman hijacked a helicopter and held the pilot's family hostage. The wife alerted police and the prison was locked down before the helicopter arrived. It returned to its base, from where the hijackers escaped in a car.[18] & ,Michel Vaujour & Touraine Central Prison, Tours & No\\textbackslash{}n \\\\\n",
       "\t21 & Chile & 1996 & Two women suspected of involvement were Irish citizens, raising suspicions of a Provisional IRA link to the left-wing rebel escapees.[32] & ,Four members of the ,Manuel Rodriguez Patriotic Front & High Security Prison, Santiago\\textbackslash{}n & Yes\\textbackslash{}n \\\\\n",
       "\t22 & Netherlands & 1997 & A September 18, 1997 escape attempt ended in failure when the helicopter crashed into the prison ground of the Dutch prison, De Geerhorst. The helicopter had been stolen earlier in Belgium. The pilot was killed and the Colombian prison escapee, who was serving a long-term sentence for drug trafficking, walked away with slight injuries.[33] & ,— & De Geerhorst jail\\textbackslash{}n & No\\textbackslash{}n \\\\\n",
       "\t23 & Australia & 1999 & On March 25, 1999, librarian Lucy Dudko hired a helicopter under the pretence of checking out the upcoming Olympic site in Sydney.[34] Using a gun she forced pilot Tim Joyce to land on the Metropolitan Remand and Reception Centre grounds. Waiting was John Killick, who was serving 28 years for armed robberies. He jumped in the helicopter making an escape while being fired on by guards and cheered on by inmates. They landed in a park where Killick hijacked a taxi at gunpoint. The two were able to elude authorities for six weeks before being arrested at the Bass Hill Tourist Park.\\textbackslash{}nLucy Dudko, dubbed Red Lucy by the media, was sentenced to the maximum of 10 years and was sent to Mulawa Correctional Centre women's prison. On May 9, 2006 she was released on parole after serving 7 years of her sentence.[35] John Killick was released on January 22, 2015, but is not allowed to have contact with Dudko until he turns 80 years old.[36] & ,John Killick & Metropolitan Remand and Reception Centre & Yes\\textbackslash{}n \\\\\n",
       "\t24 & United States & 2000 & Steven Whitsett was serving a civil commitment as a Sexually Violent Predator at the Martin Treatment Center. On June 5, 2000, at approximately 1 p.m., correctional officers patrolling the perimeter of the treatment center reported a helicopter approaching from south of the facility. Piloted by Clifford Burkhart, a former lover of Whitsett, the helicopter landed inside the fenced compound.[37] While Whitsett was climbing aboard, the helicopter struck an object. As a result of the damage the helicopter crashed about 100 yards south of the perimeter fence. Twenty-six hours from the time of the escape, a Martin County Sheriff’s deputy spotted Whitsett and Burkhart from a search helicopter. The two men were in a canal, in shoulder-deep water, four miles east of the treatment facility. For the escape and weapons charges stemming from the escape Whitsett received a criminal sentence of 25 years. Whitsett was awaiting a retrial when his conviction was overturned in 2007. For his part in the escape, Burkhart was sentenced to 7 years, followed by 10 years of probation. Burkhart was released from prison in 2007.[38] & ,Steven Whitsett & Martin Treatment Center for Sexually Violent Predators, Martin County Florida\\textbackslash{}n & Yes\\textbackslash{}n \\\\\n",
       "\t25 & France & 2000 & Three men were able to escape a prison near Lyon by having an accomplice fly a hijacked helicopter over the prison. A net was lowered and the three inmates were able to grab hold and lifted to freedom. Guards were able to fatally shoot one of the convicts. The remaining two were recaptured after a gun battle with police.[5] & ,— & Lyon prison\\textbackslash{}n & Yes\\textbackslash{}n \\\\\n",
       "\t26 & France & 2001 & Pascal Payet escaped from Luynes prison using a hijacked helicopter.[6] & ,Pascal Payet & Luynes prison\\textbackslash{}n & Yes\\textbackslash{}n \\\\\n",
       "\t27 & France & 2001 & On March 24, 2001, an armed man hijacked a helicopter from a nearby airfield. The pilot was forced to land in the courtyard of the prison. Three convicts managed to get aboard before flying 60 kilometres (37 mi) away. Landing in the village of Auribeau-sur-Siagne, the pilot was released and the men got into a waiting getaway car. The escapees were later identified as convicted armed robbers Emile Forma-Sari, Jean-Philippe Lecase and Abdelhamid Carnous.[39] & ,Abdelhamid Carnous,Emile Forma-Sari,Jean-Philippe Lecase & Draguignan prison\\textbackslash{}n & Yes\\textbackslash{}n \\\\\n",
       "\t28 & France & 2001 & (Although not a helicopter escape in the truest sense, it is listed here because of the large role a helicopter played in the incident). In May 2001 a hijacked helicopter flew over Fresnes prison, south of Paris and dropped weapons in the exercise yard. Two prisoners armed with a bulletproof vest, an automatic pistol and a Kalashnikov dropped by the helicopter were able to take three guards hostage in an attempt to escape from prison. The hostage drama lasted about 24 hours before the prisoners surrendered.[40] & ,— & Fresnes prison\\textbackslash{}n & No\\textbackslash{}n \\\\\n",
       "\t29 & Brazil & 2002 & A helicopter was flown into Parada Neto Penitentiary, freeing two inmates serving time for murder and bank robbery.\\textbackslash{}nEarlier in the day two men rented a helicopter pretending to be tourists wanting a panoramic ride over the city. While in the air they drew guns and forced the pilot to land in the central yard of the prison. The inmates jumped aboard, and when the pilot took off again guards opened fire. The helicopter was found abandoned on a football pitch 50 kilometres (31 mi) away full of bullet holes.[41] & ,— & Parada Neto Penitentiary\\textbackslash{}n & Yes\\textbackslash{}n \\\\\n",
       "\t30 & United States & 2002 & In Puerto Rico five prisoners escaped from Las Cucharas prison in Ponce. Two men had earlier rented the helicopter saying they wanted to inspect construction sites. They forced the pilot at gunpoint to land on the roof of the jail where they picked up the five convicts. To reach the roof the inmates cut a hole in the chain link fence. One was forced to hang onto the skids outside the helicopter as there was no room inside.\\textbackslash{}nThe escapees were:\\textbackslash{}nOrlando Valdes Cartagena, who was serving a 254-year sentence for murderJose A. Perez Rodriguez, who was serving a 319-year sentence for murderVictor Gonzalez Diaz, who was serving a 113-year sentenceHector Marrero Diaz, who was serving 109-year sentenceJose M. Rojas Tapia, who was serving a 100-year sentence.Of the five, only Victor Gonzalez Diaz wasn't recaptured immediately. The inmates claimed to have killed him soon after the break-out. He later surrendered himself to authorities in January 2003.[42] & ,Orlando Cartagena, Jose Rodriguez, Victor Diaz, Hector Diaz, Jose Tapia & Las Cucharas prison, Puerto Rico\\textbackslash{}n & Yes\\textbackslash{}n \\\\\n",
       "\t$\\dots$ & $\\dots$ & $\\dots$ & $\\dots$ & $\\dots$ & $\\dots$ & $\\dots$ \\\\\n",
       "\\end{tabular}\n"
      ],
      "text/plain": [
       "\u001b[1m48×6 DataFrame\u001b[0m\n",
       "\u001b[1m Row \u001b[0m│\u001b[1m Country        \u001b[0m\u001b[1m Year  \u001b[0m\u001b[1m Details                           \u001b[0m\u001b[1m Escapee(s)                        \u001b[0m\u001b[1m Prison name                       \u001b[0m\u001b[1m Succeeded \u001b[0m\n",
       "\u001b[1m     \u001b[0m│\u001b[90m String         \u001b[0m\u001b[90m Int64 \u001b[0m\u001b[90m String                            \u001b[0m\u001b[90m String                            \u001b[0m\u001b[90m String                            \u001b[0m\u001b[90m String    \u001b[0m\n",
       "─────┼───────────────────────────────────────────────────────────────────────────────────────────────────────────────────────────────────────────\n",
       "   1 │ Mexico           1971  Joel David Kaplan was a New York…  ,Joel David Kaplan,Carlos Antoni…  Santa Martha Acatitla\\n            Yes\\n\n",
       "   2 │ Ireland          1973  On October 31, 1973 an IRA membe…  ,JB O'Hagan,Seamus Twomey,Kevin …  Mountjoy Jail                      Yes\\n\n",
       "   3 │ United States    1978  43-year-old Barbara Ann Oswald h…  ,Garrett Brock Trapnell,Martin J…  United States Penitentiary, Mari…  No\\n\n",
       "   4 │ France           1981  With the help of Serge Coutel, G…  ,Gérard Dupré,Daniel Beaumont      Fleury-Mérogis, Essonne, Ile de …  Yes\\n\n",
       "   5 │ Canada           1981  Marina Paquet held a sawed off s…  ,Marina Paquet (hijacker),Giles …  Orsainville Prison, Quebec City\\n  No\\n\n",
       "   6 │ Australia        1983  Arrests were made for the 1983 a…  ,David McMillan                    Pentridge (HM Prison)              No\\n\n",
       "   7 │ United States    1985  One murderer, James Rodney Leona…  ,James Rodney Leonard,William Do…  Perry Correctional Institution, …  Yes\\n\n",
       "   8 │ Brazil           1985  Drug lord Encina was rescued by …  ,José Carlos dos Reis Encina, a.…  Cândido Mendes penitentiary, Ilh…  Yes\\n\n",
       "   9 │ France           1986  Vaujour had 28 years to serve fo…  ,Michel Vaujour                    Prison de la Santé                 Yes\\n\n",
       "  10 │ United States    1986  Ronald J. McIntosh walked away f…  ,Samantha Lopez                    Federal Correctional Institution…  Yes\\n\n",
       "  11 │ Italy            1986  A red cross helicopter was hijac…  ,André Bellaïche,Gianluigi Espos…  Prigione di Rebibbia, Roma         Yes\\n\n",
       "  ⋮  │       ⋮           ⋮                    ⋮                                  ⋮                                  ⋮                      ⋮\n",
       "  39 │ France           2009  Juliano Verbard was a guru of th…  ,Alexin Jismy,Fabrice Michel       Domenjod Prison, Réunion\\n         Yes\\n\n",
       "  40 │ Belgium          2009  A man hijacked a helicopter and …  ,Ashraf  Sekkaki, plus three oth…  Bruges\\n                           Yes\\n\n",
       "  41 │ United Kingdom   2010  While never actually reaching th…  ,Brian Lawrence                    HM Prison Isle of Wight, Isle of…  No\\n\n",
       "  42 │ Russia           2012  Shestakov was whisked away from …  ,Alexey Shestakov                  Sheksna, Penal colony N17\\n        Yes\\n\n",
       "  43 │ Greece           2013  The chartered helicopter — carry…  ,Panagiotis Vlastos                Trikala Prison, Trikala            No\\n\n",
       "  44 │ Canada           2013  Two inmates escaped from the Sai…  ,Benjamin Hudon-Barbeau,Danny Pr…  Saint-Jérôme Detention Facility,…  Yes\\n\n",
       "  45 │ Canada           2014  Three detainees awaiting trial f…  ,Yves Denis,Denis Lefebvre,Serge…  Orsainville Detention Facility, …  Yes\\n\n",
       "  46 │ Greece           2016  A helicopter pilot foiled an att…  ,Pola Roupa,Nikos Maziotis         Thiva                              No\\n\n",
       "  47 │ France           2018  Faïd was helped by several heavi…  ,Rédoine Faïd                      Réau, near Paris\\n                 Yes\\n\n",
       "  48 │ Belgium          2020  Three armed men hijacked a Euroc…  ,Kristel A.                        Forest prison, Brussels\\n          No\\n\n",
       "\u001b[36m                                                                                                                                  27 rows omitted\u001b[0m"
      ]
     },
     "execution_count": 10,
     "metadata": {},
     "output_type": "execute_result"
    }
   ],
   "source": [
    "# change the date to only refer to the year\n",
    "# also, change the type to Int64\n",
    "h_escapes[!, [:Date]] = select(h_escapes, :Date => ByRow(x -> parse(Int, last(x, 4))) => :Date)\n",
    "\n",
    "# rename Date to Year\n",
    "h_escapes = rename(h_escapes, :Date => :Year)"
   ]
  },
  {
   "cell_type": "markdown",
   "id": "3188764d",
   "metadata": {},
   "source": [
    "### Details\n",
    "\n",
    "We don't need this at the moment and it clutters the display because of how text-heavy it is. So, removing it should simplify things."
   ]
  },
  {
   "cell_type": "code",
   "execution_count": 11,
   "id": "db295b59",
   "metadata": {
    "scrolled": false
   },
   "outputs": [
    {
     "data": {
      "text/html": [
       "<div class=\"data-frame\"><p>5 rows × 5 columns</p><table class=\"data-frame\"><thead><tr><th></th><th>Country</th><th>Year</th><th>Escapee(s)</th><th>Prison name</th><th>Succeeded</th></tr><tr><th></th><th title=\"String\">String</th><th title=\"Int64\">Int64</th><th title=\"String\">String</th><th title=\"String\">String</th><th title=\"String\">String</th></tr></thead><tbody><tr><th>1</th><td>Mexico</td><td>1971</td><td>,Joel David Kaplan,Carlos Antonio Contreras Castro</td><td>Santa Martha Acatitla\\n</td><td>Yes\\n</td></tr><tr><th>2</th><td>Ireland</td><td>1973</td><td>,JB O&apos;Hagan,Seamus Twomey,Kevin Mallon</td><td>Mountjoy Jail</td><td>Yes\\n</td></tr><tr><th>3</th><td>United States</td><td>1978</td><td>,Garrett Brock Trapnell,Martin Joseph McNally,James Kenneth Johnson</td><td>United States Penitentiary, Marion</td><td>No\\n</td></tr><tr><th>4</th><td>France</td><td>1981</td><td>,Gérard Dupré,Daniel Beaumont</td><td>Fleury-Mérogis, Essonne, Ile de France\\n</td><td>Yes\\n</td></tr><tr><th>5</th><td>Canada</td><td>1981</td><td>,Marina Paquet (hijacker),Giles Arseneault (prisoner)</td><td>Orsainville Prison, Quebec City\\n</td><td>No\\n</td></tr></tbody></table></div>"
      ],
      "text/latex": [
       "\\begin{tabular}{r|ccccc}\n",
       "\t& Country & Year & Escapee(s) & Prison name & Succeeded\\\\\n",
       "\t\\hline\n",
       "\t& String & Int64 & String & String & String\\\\\n",
       "\t\\hline\n",
       "\t1 & Mexico & 1971 & ,Joel David Kaplan,Carlos Antonio Contreras Castro & Santa Martha Acatitla\\textbackslash{}n & Yes\\textbackslash{}n \\\\\n",
       "\t2 & Ireland & 1973 & ,JB O'Hagan,Seamus Twomey,Kevin Mallon & Mountjoy Jail & Yes\\textbackslash{}n \\\\\n",
       "\t3 & United States & 1978 & ,Garrett Brock Trapnell,Martin Joseph McNally,James Kenneth Johnson & United States Penitentiary, Marion & No\\textbackslash{}n \\\\\n",
       "\t4 & France & 1981 & ,Gérard Dupré,Daniel Beaumont & Fleury-Mérogis, Essonne, Ile de France\\textbackslash{}n & Yes\\textbackslash{}n \\\\\n",
       "\t5 & Canada & 1981 & ,Marina Paquet (hijacker),Giles Arseneault (prisoner) & Orsainville Prison, Quebec City\\textbackslash{}n & No\\textbackslash{}n \\\\\n",
       "\\end{tabular}\n"
      ],
      "text/plain": [
       "\u001b[1m5×5 DataFrame\u001b[0m\n",
       "\u001b[1m Row \u001b[0m│\u001b[1m Country       \u001b[0m\u001b[1m Year  \u001b[0m\u001b[1m Escapee(s)                        \u001b[0m\u001b[1m Prison name                       \u001b[0m\u001b[1m Succeeded \u001b[0m\n",
       "\u001b[1m     \u001b[0m│\u001b[90m String        \u001b[0m\u001b[90m Int64 \u001b[0m\u001b[90m String                            \u001b[0m\u001b[90m String                            \u001b[0m\u001b[90m String    \u001b[0m\n",
       "─────┼───────────────────────────────────────────────────────────────────────────────────────────────────────\n",
       "   1 │ Mexico          1971  ,Joel David Kaplan,Carlos Antoni…  Santa Martha Acatitla\\n            Yes\\n\n",
       "   2 │ Ireland         1973  ,JB O'Hagan,Seamus Twomey,Kevin …  Mountjoy Jail                      Yes\\n\n",
       "   3 │ United States   1978  ,Garrett Brock Trapnell,Martin J…  United States Penitentiary, Mari…  No\\n\n",
       "   4 │ France          1981  ,Gérard Dupré,Daniel Beaumont      Fleury-Mérogis, Essonne, Ile de …  Yes\\n\n",
       "   5 │ Canada          1981  ,Marina Paquet (hijacker),Giles …  Orsainville Prison, Quebec City\\n  No\\n"
      ]
     },
     "execution_count": 11,
     "metadata": {},
     "output_type": "execute_result"
    }
   ],
   "source": [
    "# let's remove the details column so it doesn't clutter the display\n",
    "# other than that, we don't need it at this moment\n",
    "h_escapes = h_escapes[!, Not(:Details)]\n",
    "\n",
    "# check if it's working properly\n",
    "first(h_escapes, 5)"
   ]
  },
  {
   "cell_type": "markdown",
   "id": "27f991bf",
   "metadata": {},
   "source": [
    "### Escapees\n",
    "\n",
    "Due to the simplistic way we extracted the text from the HTML elements, we'll need to clean the escapees names to make them easier for processing.\n",
    "\n",
    "We'll try to fill the missing escapees data first, and then make the escapee names more analyzable."
   ]
  },
  {
   "cell_type": "code",
   "execution_count": 12,
   "id": "f61299db",
   "metadata": {},
   "outputs": [
    {
     "data": {
      "text/plain": [
       "48-element Vector{Union{Missing, String}}:\n",
       " \",Joel David Kaplan,Carlos Antonio Contreras Castro\"\n",
       " \",JB O'Hagan,Seamus Twomey,Kevin Mallon\"\n",
       " \",Garrett Brock Trapnell,Martin Joseph McNally,James Kenneth Johnson\"\n",
       " \",Gérard Dupré,Daniel Beaumont\"\n",
       " \",Marina Paquet (hijacker),Giles Arseneault (prisoner)\"\n",
       " \",David McMillan\"\n",
       " \",James Rodney Leonard,William Douglas Ballew,Jesse Glenn Smith\"\n",
       " \",José Carlos dos Reis Encina, a.k.a. \\\"Escadinha\\\"\"\n",
       " \",Michel Vaujour\"\n",
       " \",Samantha Lopez\"\n",
       " \",André Bellaïche,Gianluigi Esposito,Luciano  Cipollari\"\n",
       " \",Sydney Draper,John Kendall\"\n",
       " \",Mahoney Danny ,Francis Mitchell,Randy Lackey\"\n",
       " ⋮\n",
       " \",Nordin Benallal\"\n",
       " \",Vasilis Paleokostas,Alket Rizai\"\n",
       " \",Alexin Jismy,Fabrice Michel\"\n",
       " \",Ashraf  Sekkaki, plus three other criminals\"\n",
       " \",Brian Lawrence \"\n",
       " \",Alexey Shestakov \"\n",
       " \",Panagiotis Vlastos \"\n",
       " \",Benjamin Hudon-Barbeau,Danny Provençal\"\n",
       " \",Yves Denis,Denis Lefebvre,Serge Pomerleau\"\n",
       " \",Pola Roupa,Nikos Maziotis\"\n",
       " \",Rédoine Faïd\"\n",
       " \",Kristel A. \""
      ]
     },
     "execution_count": 12,
     "metadata": {},
     "output_type": "execute_result"
    }
   ],
   "source": [
    "missing_escapees = select(h_escapes, \"Escapee(s)\" => ByRow(x -> x == \",—\" ? missing : x) => :Escapees)\n",
    "h_escapes.Escapees = missing_escapees[!, :Escapees]\n",
    "# code for showing missing escapees columns\n",
    "# h_escapes[ismissing.(h_escapes[!, \"Escapee(s)\"]), :]"
   ]
  },
  {
   "cell_type": "code",
   "execution_count": 13,
   "id": "05aa4941",
   "metadata": {},
   "outputs": [
    {
     "data": {
      "text/html": [
       "<div class=\"data-frame\"><p>7 rows × 6 columns</p><table class=\"data-frame\"><thead><tr><th></th><th>Country</th><th>Year</th><th>Escapee(s)</th><th>Prison name</th><th>Succeeded</th><th>Escapees</th></tr><tr><th></th><th title=\"String\">String</th><th title=\"Int64\">Int64</th><th title=\"String\">String</th><th title=\"String\">String</th><th title=\"String\">String</th><th title=\"Union{Missing, String}\">String?</th></tr></thead><tbody><tr><th>1</th><td>France</td><td>1992</td><td>,—</td><td>Lyon Prison\\n</td><td>Yes\\n</td><td><em>missing</em></td></tr><tr><th>2</th><td>France</td><td>1992</td><td>,—</td><td>Touraine Central Prison, Tours</td><td>No\\n</td><td><em>missing</em></td></tr><tr><th>3</th><td>Netherlands</td><td>1997</td><td>,—</td><td>De Geerhorst jail\\n</td><td>No\\n</td><td><em>missing</em></td></tr><tr><th>4</th><td>France</td><td>2000</td><td>,—</td><td>Lyon prison\\n</td><td>Yes\\n</td><td><em>missing</em></td></tr><tr><th>5</th><td>France</td><td>2001</td><td>,—</td><td>Fresnes prison\\n</td><td>No\\n</td><td><em>missing</em></td></tr><tr><th>6</th><td>Brazil</td><td>2002</td><td>,—</td><td>Parada Neto Penitentiary\\n</td><td>Yes\\n</td><td><em>missing</em></td></tr><tr><th>7</th><td>France</td><td>2005</td><td>,—</td><td>France\\n</td><td>No\\n</td><td><em>missing</em></td></tr></tbody></table></div>"
      ],
      "text/latex": [
       "\\begin{tabular}{r|cccccc}\n",
       "\t& Country & Year & Escapee(s) & Prison name & Succeeded & Escapees\\\\\n",
       "\t\\hline\n",
       "\t& String & Int64 & String & String & String & String?\\\\\n",
       "\t\\hline\n",
       "\t1 & France & 1992 & ,— & Lyon Prison\\textbackslash{}n & Yes\\textbackslash{}n & \\emph{missing} \\\\\n",
       "\t2 & France & 1992 & ,— & Touraine Central Prison, Tours & No\\textbackslash{}n & \\emph{missing} \\\\\n",
       "\t3 & Netherlands & 1997 & ,— & De Geerhorst jail\\textbackslash{}n & No\\textbackslash{}n & \\emph{missing} \\\\\n",
       "\t4 & France & 2000 & ,— & Lyon prison\\textbackslash{}n & Yes\\textbackslash{}n & \\emph{missing} \\\\\n",
       "\t5 & France & 2001 & ,— & Fresnes prison\\textbackslash{}n & No\\textbackslash{}n & \\emph{missing} \\\\\n",
       "\t6 & Brazil & 2002 & ,— & Parada Neto Penitentiary\\textbackslash{}n & Yes\\textbackslash{}n & \\emph{missing} \\\\\n",
       "\t7 & France & 2005 & ,— & France\\textbackslash{}n & No\\textbackslash{}n & \\emph{missing} \\\\\n",
       "\\end{tabular}\n"
      ],
      "text/plain": [
       "\u001b[1m7×6 DataFrame\u001b[0m\n",
       "\u001b[1m Row \u001b[0m│\u001b[1m Country     \u001b[0m\u001b[1m Year  \u001b[0m\u001b[1m Escapee(s) \u001b[0m\u001b[1m Prison name                    \u001b[0m\u001b[1m Succeeded \u001b[0m\u001b[1m Escapees \u001b[0m\n",
       "\u001b[1m     \u001b[0m│\u001b[90m String      \u001b[0m\u001b[90m Int64 \u001b[0m\u001b[90m String     \u001b[0m\u001b[90m String                         \u001b[0m\u001b[90m String    \u001b[0m\u001b[90m String?  \u001b[0m\n",
       "─────┼─────────────────────────────────────────────────────────────────────────────────────\n",
       "   1 │ France        1992  ,—          Lyon Prison\\n                   Yes\\n     \u001b[90m missing  \u001b[0m\n",
       "   2 │ France        1992  ,—          Touraine Central Prison, Tours  No\\n      \u001b[90m missing  \u001b[0m\n",
       "   3 │ Netherlands   1997  ,—          De Geerhorst jail\\n             No\\n      \u001b[90m missing  \u001b[0m\n",
       "   4 │ France        2000  ,—          Lyon prison\\n                   Yes\\n     \u001b[90m missing  \u001b[0m\n",
       "   5 │ France        2001  ,—          Fresnes prison\\n                No\\n      \u001b[90m missing  \u001b[0m\n",
       "   6 │ Brazil        2002  ,—          Parada Neto Penitentiary\\n      Yes\\n     \u001b[90m missing  \u001b[0m\n",
       "   7 │ France        2005  ,—          France\\n                        No\\n      \u001b[90m missing  \u001b[0m"
      ]
     },
     "execution_count": 13,
     "metadata": {},
     "output_type": "execute_result"
    }
   ],
   "source": [
    "h_escapes[ismissing.(h_escapes[!, \"Escapees\"]), :]"
   ]
  },
  {
   "cell_type": "markdown",
   "id": "f46a2184",
   "metadata": {},
   "source": [
    "If possible, we'll fill the missing escapee names with information from the Details column. If not, we should consider dropping them removing them from the all or some parts of the analysis."
   ]
  },
  {
   "cell_type": "code",
   "execution_count": 14,
   "id": "89830808",
   "metadata": {},
   "outputs": [
    {
     "data": {
      "text/html": [
       "<div class=\"data-frame\"><p>7 rows × 1 columns</p><table class=\"data-frame\"><thead><tr><th></th><th>Escapees</th></tr><tr><th></th><th title=\"Union{Missing, String}\">String?</th></tr></thead><tbody><tr><th>1</th><td>1992_Lyon_1,1992_Lyon_2,1992_Lyon_3,</td></tr><tr><th>2</th><td>1992_Touraine_1,1992_Touraine_2,1992_Touraine_3,1992_Touraine_4,</td></tr><tr><th>3</th><td>1997_De_Geerhorst_1,1997_De_Geerhorst_2,1997_De_Geerhorst_3,</td></tr><tr><th>4</th><td>2000_Lyon_1,2000_Lyon_2,2000_Lyon_3,</td></tr><tr><th>5</th><td>2001_Fresnes_1,2001_Fresnes_2,</td></tr><tr><th>6</th><td>2002_Parada_1,2002_Parada_2,</td></tr><tr><th>7</th><td>2005_France_1,2005_France_2,2005_France_3,</td></tr></tbody></table></div>"
      ],
      "text/latex": [
       "\\begin{tabular}{r|c}\n",
       "\t& Escapees\\\\\n",
       "\t\\hline\n",
       "\t& String?\\\\\n",
       "\t\\hline\n",
       "\t1 & 1992\\_Lyon\\_1,1992\\_Lyon\\_2,1992\\_Lyon\\_3, \\\\\n",
       "\t2 & 1992\\_Touraine\\_1,1992\\_Touraine\\_2,1992\\_Touraine\\_3,1992\\_Touraine\\_4, \\\\\n",
       "\t3 & 1997\\_De\\_Geerhorst\\_1,1997\\_De\\_Geerhorst\\_2,1997\\_De\\_Geerhorst\\_3, \\\\\n",
       "\t4 & 2000\\_Lyon\\_1,2000\\_Lyon\\_2,2000\\_Lyon\\_3, \\\\\n",
       "\t5 & 2001\\_Fresnes\\_1,2001\\_Fresnes\\_2, \\\\\n",
       "\t6 & 2002\\_Parada\\_1,2002\\_Parada\\_2, \\\\\n",
       "\t7 & 2005\\_France\\_1,2005\\_France\\_2,2005\\_France\\_3, \\\\\n",
       "\\end{tabular}\n"
      ],
      "text/plain": [
       "\u001b[1m7×1 DataFrame\u001b[0m\n",
       "\u001b[1m Row \u001b[0m│\u001b[1m Escapees                          \u001b[0m\n",
       "\u001b[1m     \u001b[0m│\u001b[90m String?                           \u001b[0m\n",
       "─────┼───────────────────────────────────\n",
       "   1 │ 1992_Lyon_1,1992_Lyon_2,1992_Lyo…\n",
       "   2 │ 1992_Touraine_1,1992_Touraine_2,…\n",
       "   3 │ 1997_De_Geerhorst_1,1997_De_Geer…\n",
       "   4 │ 2000_Lyon_1,2000_Lyon_2,2000_Lyo…\n",
       "   5 │ 2001_Fresnes_1,2001_Fresnes_2,\n",
       "   6 │ 2002_Parada_1,2002_Parada_2,\n",
       "   7 │ 2005_France_1,2005_France_2,2005…"
      ]
     },
     "execution_count": 14,
     "metadata": {},
     "output_type": "execute_result"
    }
   ],
   "source": [
    "# from reading the Details column, we've identified the following:\n",
    "# index 18 - 3 escapees\n",
    "# index 19 - 4 escapees\n",
    "# index 22 - 1 escapees\n",
    "# index 25 - 3 escapees\n",
    "# index 28 - 2 escapees\n",
    "# index 29 - 2 escapees\n",
    "# index 32 - 3 escapees (data not available in the Detail column, but available here — source: https://web.archive.org/web/20110604154102/http://www.timesonline.co.uk/tol/news/world/article757427.ece)\n",
    "\n",
    "missing_escapees_idx = []\n",
    "for row in eachrow(h_escapes[!, :])\n",
    "    if ismissing(row[\"Escapees\"])\n",
    "        push!(missing_escapees_idx, rownumber(row))\n",
    "    end\n",
    "end\n",
    "\n",
    "# because the missing escapees were unnamed, we'll use the year of the escape and the prison name plus a number to identify each of them\n",
    "# e.g. index 18 - 1992 Lyon 1, 1992 Lyon 2, 1992 Lyon 3\n",
    "\n",
    "missing_escapees_imputations = [\n",
    "                                 (18,3,\"1992_Lyon\"),\n",
    "                                 (19,4,\"1992_Touraine\"),\n",
    "                                 (22,3,\"1997_De_Geerhorst\"),\n",
    "                                 (25,3,\"2000_Lyon\"),\n",
    "                                 (28,2,\"2001_Fresnes\"),\n",
    "                                 (29,2,\"2002_Parada\"),\n",
    "                                 (32,3,\"2005_France\")\n",
    "                                ]\n",
    "\n",
    "for imputations in missing_escapees_imputations\n",
    "    index = imputations[1]\n",
    "    num_escapees = imputations[2]\n",
    "    suffix = imputations[3]\n",
    "    escapees = join([\"$(suffix)_$num,\" for num in range(1,num_escapees)])\n",
    "    h_escapes[index, :Escapees] = escapees\n",
    "#     h_escapes[] \n",
    "    \n",
    "end\n",
    "\n",
    "h_escapes[missing_escapees_idx, [:Escapees]]"
   ]
  },
  {
   "cell_type": "code",
   "execution_count": 15,
   "id": "9c6eb2dc",
   "metadata": {},
   "outputs": [
    {
     "data": {
      "text/html": [
       "<div class=\"data-frame\"><p>5 rows × 1 columns</p><table class=\"data-frame\"><thead><tr><th></th><th>Escapees</th></tr><tr><th></th><th title=\"Vector{SubString{String}}\">Array…</th></tr></thead><tbody><tr><th>1</th><td>[&quot;Joel David Kaplan&quot;, &quot;Carlos Antonio Contreras Castro&quot;]</td></tr><tr><th>2</th><td>[&quot;JB O&apos;Hagan&quot;, &quot;Seamus Twomey&quot;, &quot;Kevin Mallon&quot;]</td></tr><tr><th>3</th><td>[&quot;Garrett Brock Trapnell&quot;, &quot;Martin Joseph McNally&quot;, &quot;James Kenneth Johnson&quot;]</td></tr><tr><th>4</th><td>[&quot;Gérard Dupré&quot;, &quot;Daniel Beaumont&quot;]</td></tr><tr><th>5</th><td>[&quot;Marina Paquet (hijacker)&quot;, &quot;Giles Arseneault (prisoner)&quot;]</td></tr></tbody></table></div>"
      ],
      "text/latex": [
       "\\begin{tabular}{r|c}\n",
       "\t& Escapees\\\\\n",
       "\t\\hline\n",
       "\t& Array…\\\\\n",
       "\t\\hline\n",
       "\t1 & [\"Joel David Kaplan\", \"Carlos Antonio Contreras Castro\"] \\\\\n",
       "\t2 & [\"JB O'Hagan\", \"Seamus Twomey\", \"Kevin Mallon\"] \\\\\n",
       "\t3 & [\"Garrett Brock Trapnell\", \"Martin Joseph McNally\", \"James Kenneth Johnson\"] \\\\\n",
       "\t4 & [\"Gérard Dupré\", \"Daniel Beaumont\"] \\\\\n",
       "\t5 & [\"Marina Paquet (hijacker)\", \"Giles Arseneault (prisoner)\"] \\\\\n",
       "\\end{tabular}\n"
      ],
      "text/plain": [
       "\u001b[1m5×1 DataFrame\u001b[0m\n",
       "\u001b[1m Row \u001b[0m│\u001b[1m Escapees                          \u001b[0m\n",
       "\u001b[1m     \u001b[0m│\u001b[90m Array…                            \u001b[0m\n",
       "─────┼───────────────────────────────────\n",
       "   1 │ SubString{String}[\"Joel David Ka…\n",
       "   2 │ SubString{String}[\"JB O'Hagan\", …\n",
       "   3 │ SubString{String}[\"Garrett Brock…\n",
       "   4 │ SubString{String}[\"Gérard Dupré\"…\n",
       "   5 │ SubString{String}[\"Marina Paquet…"
      ]
     },
     "execution_count": 15,
     "metadata": {},
     "output_type": "execute_result"
    }
   ],
   "source": [
    "function extractnames(string)\n",
    "    # match a sequence of anything except for commas and '-'\n",
    "    # any match also optionally ends with either a newline or a word boundary\n",
    "    matches = collect(eachmatch(r\"(?<name>[^,—]+)[\\n,\\b]?\", string))\n",
    "    [match[\"name\"] for match = matches]\n",
    "end\n",
    "\n",
    "new_escapees = transform(h_escapes, :Escapees => ByRow(x -> extractnames(x)) => :Escapees)[!, [6]]\n",
    "new_escapees = select(new_escapees, :Escapees => ByRow(x -> isempty(x) ? missing : x) => :Escapees)\n",
    "h_escapes.Escapees = new_escapees[!, \"Escapees\"]\n",
    "\n",
    "first(h_escapes[!, [:Escapees]], 5)"
   ]
  },
  {
   "cell_type": "markdown",
   "id": "89fe8acb",
   "metadata": {},
   "source": [
    "One escapee name was not extracted properly — \"José Carlos dos Reis Encina, a.k.a. \"Escadinha\". We received two names instead of one.\n",
    "\n",
    "Aside from that, some escapees are grouped together. We decided to rename them as separate escapees identified by the group name and a number, instead of finding their actual names.\n",
    "\n",
    "An example:\n",
    "\n",
    "> Four members of the Manuel Rodriguez Patriotic Front --> MRPF 1, MRPF 2, MRPF 3, MRPF 4"
   ]
  },
  {
   "cell_type": "code",
   "execution_count": 16,
   "id": "b79473d3",
   "metadata": {
    "scrolled": true
   },
   "outputs": [
    {
     "data": {
      "text/html": [
       "<div class=\"data-frame\"><p>20 rows × 6 columns</p><table class=\"data-frame\"><thead><tr><th></th><th>Country</th><th>Year</th><th>Escapee(s)</th><th>Prison name</th><th>Succeeded</th><th>Escapees</th></tr><tr><th></th><th title=\"String\">String</th><th title=\"Int64\">Int64</th><th title=\"String\">String</th><th title=\"String\">String</th><th title=\"String\">String</th><th title=\"Vector{SubString{String}}\">Array…</th></tr></thead><tbody><tr><th>1</th><td>Mexico</td><td>1971</td><td>,Joel David Kaplan,Carlos Antonio Contreras Castro</td><td>Santa Martha Acatitla\\n</td><td>Yes\\n</td><td>[&quot;Joel David Kaplan&quot;, &quot;Carlos Antonio Contreras Castro&quot;]</td></tr><tr><th>2</th><td>Ireland</td><td>1973</td><td>,JB O&apos;Hagan,Seamus Twomey,Kevin Mallon</td><td>Mountjoy Jail</td><td>Yes\\n</td><td>[&quot;JB O&apos;Hagan&quot;, &quot;Seamus Twomey&quot;, &quot;Kevin Mallon&quot;]</td></tr><tr><th>3</th><td>United States</td><td>1978</td><td>,Garrett Brock Trapnell,Martin Joseph McNally,James Kenneth Johnson</td><td>United States Penitentiary, Marion</td><td>No\\n</td><td>[&quot;Garrett Brock Trapnell&quot;, &quot;Martin Joseph McNally&quot;, &quot;James Kenneth Johnson&quot;]</td></tr><tr><th>4</th><td>France</td><td>1981</td><td>,Gérard Dupré,Daniel Beaumont</td><td>Fleury-Mérogis, Essonne, Ile de France\\n</td><td>Yes\\n</td><td>[&quot;Gérard Dupré&quot;, &quot;Daniel Beaumont&quot;]</td></tr><tr><th>5</th><td>Canada</td><td>1981</td><td>,Marina Paquet (hijacker),Giles Arseneault (prisoner)</td><td>Orsainville Prison, Quebec City\\n</td><td>No\\n</td><td>[&quot;Marina Paquet (hijacker)&quot;, &quot;Giles Arseneault (prisoner)&quot;]</td></tr><tr><th>6</th><td>Australia</td><td>1983</td><td>,David McMillan</td><td>Pentridge (HM Prison)</td><td>No\\n</td><td>[&quot;David McMillan&quot;]</td></tr><tr><th>7</th><td>United States</td><td>1985</td><td>,James Rodney Leonard,William Douglas Ballew,Jesse Glenn Smith</td><td>Perry Correctional Institution, Pelzer, South Carolina</td><td>Yes\\n</td><td>[&quot;James Rodney Leonard&quot;, &quot;William Douglas Ballew&quot;, &quot;Jesse Glenn Smith&quot;]</td></tr><tr><th>8</th><td>Brazil</td><td>1985</td><td>,José Carlos dos Reis Encina, a.k.a. &quot;Escadinha&quot;</td><td>Cândido Mendes penitentiary, Ilha Grande, Rio de Janeiro</td><td>Yes\\n</td><td>[&quot;José Carlos dos Reis Encina&quot;]</td></tr><tr><th>9</th><td>France</td><td>1986</td><td>,Michel Vaujour</td><td>Prison de la Santé</td><td>Yes\\n</td><td>[&quot;Michel Vaujour&quot;]</td></tr><tr><th>10</th><td>United States</td><td>1986</td><td>,Samantha Lopez</td><td>Federal Correctional Institution, Dublin</td><td>Yes\\n</td><td>[&quot;Samantha Lopez&quot;]</td></tr><tr><th>11</th><td>Italy</td><td>1986</td><td>,André Bellaïche,Gianluigi Esposito,Luciano  Cipollari</td><td>Prigione di Rebibbia, Roma</td><td>Yes\\n</td><td>[&quot;André Bellaïche&quot;, &quot;Gianluigi Esposito&quot;, &quot;Luciano  Cipollari&quot;]</td></tr><tr><th>12</th><td>United Kingdom</td><td>1987</td><td>,Sydney Draper,John Kendall</td><td>Gartree (HM Prison)</td><td>Yes\\n</td><td>[&quot;Sydney Draper&quot;, &quot;John Kendall&quot;]</td></tr><tr><th>13</th><td>United States</td><td>1988</td><td>,Mahoney Danny ,Francis Mitchell,Randy Lackey</td><td>Santa Fe prison</td><td>Yes\\n</td><td>[&quot;Mahoney Danny &quot;, &quot;Francis Mitchell&quot;, &quot;Randy Lackey&quot;]</td></tr><tr><th>14</th><td>United States</td><td>1989</td><td>,Ben Kramer</td><td>Federal Holding Facility, Miami, FL\\n</td><td>No\\n</td><td>[&quot;Ben Kramer&quot;]</td></tr><tr><th>15</th><td>United States</td><td>1989</td><td>,Ralph Brown,Freddie Gonzales</td><td>Arkansas Valley Correctional Facility\\n</td><td>Yes\\n</td><td>[&quot;Ralph Brown&quot;, &quot;Freddie Gonzales&quot;]</td></tr><tr><th>16</th><td>Canada</td><td>1990</td><td>,Robert Ford,David Thomas</td><td>Kent Penitentiary, British Columbia\\n</td><td>Yes\\n</td><td>[&quot;Robert Ford&quot;, &quot;David Thomas&quot;]</td></tr><tr><th>17</th><td>Puerto Rico</td><td>1991</td><td>,William Lane</td><td>Rio Piedras State Penitentiary, Puerto Rico\\n</td><td>Yes\\n</td><td>[&quot;William Lane&quot;]</td></tr><tr><th>18</th><td>France</td><td>1992</td><td>,—</td><td>Lyon Prison\\n</td><td>Yes\\n</td><td>[&quot;1992_Lyon_1&quot;, &quot;1992_Lyon_2&quot;, &quot;1992_Lyon_3&quot;]</td></tr><tr><th>19</th><td>France</td><td>1992</td><td>,—</td><td>Touraine Central Prison, Tours</td><td>No\\n</td><td>[&quot;1992_Touraine_1&quot;, &quot;1992_Touraine_2&quot;, &quot;1992_Touraine_3&quot;, &quot;1992_Touraine_4&quot;]</td></tr><tr><th>20</th><td>France</td><td>1993</td><td>,Michel Vaujour</td><td>Touraine Central Prison, Tours</td><td>No\\n</td><td>[&quot;Michel Vaujour&quot;]</td></tr></tbody></table></div>"
      ],
      "text/latex": [
       "\\begin{tabular}{r|cccccc}\n",
       "\t& Country & Year & Escapee(s) & Prison name & Succeeded & Escapees\\\\\n",
       "\t\\hline\n",
       "\t& String & Int64 & String & String & String & Array…\\\\\n",
       "\t\\hline\n",
       "\t1 & Mexico & 1971 & ,Joel David Kaplan,Carlos Antonio Contreras Castro & Santa Martha Acatitla\\textbackslash{}n & Yes\\textbackslash{}n & [\"Joel David Kaplan\", \"Carlos Antonio Contreras Castro\"] \\\\\n",
       "\t2 & Ireland & 1973 & ,JB O'Hagan,Seamus Twomey,Kevin Mallon & Mountjoy Jail & Yes\\textbackslash{}n & [\"JB O'Hagan\", \"Seamus Twomey\", \"Kevin Mallon\"] \\\\\n",
       "\t3 & United States & 1978 & ,Garrett Brock Trapnell,Martin Joseph McNally,James Kenneth Johnson & United States Penitentiary, Marion & No\\textbackslash{}n & [\"Garrett Brock Trapnell\", \"Martin Joseph McNally\", \"James Kenneth Johnson\"] \\\\\n",
       "\t4 & France & 1981 & ,Gérard Dupré,Daniel Beaumont & Fleury-Mérogis, Essonne, Ile de France\\textbackslash{}n & Yes\\textbackslash{}n & [\"Gérard Dupré\", \"Daniel Beaumont\"] \\\\\n",
       "\t5 & Canada & 1981 & ,Marina Paquet (hijacker),Giles Arseneault (prisoner) & Orsainville Prison, Quebec City\\textbackslash{}n & No\\textbackslash{}n & [\"Marina Paquet (hijacker)\", \"Giles Arseneault (prisoner)\"] \\\\\n",
       "\t6 & Australia & 1983 & ,David McMillan & Pentridge (HM Prison) & No\\textbackslash{}n & [\"David McMillan\"] \\\\\n",
       "\t7 & United States & 1985 & ,James Rodney Leonard,William Douglas Ballew,Jesse Glenn Smith & Perry Correctional Institution, Pelzer, South Carolina & Yes\\textbackslash{}n & [\"James Rodney Leonard\", \"William Douglas Ballew\", \"Jesse Glenn Smith\"] \\\\\n",
       "\t8 & Brazil & 1985 & ,José Carlos dos Reis Encina, a.k.a. \"Escadinha\" & Cândido Mendes penitentiary, Ilha Grande, Rio de Janeiro & Yes\\textbackslash{}n & [\"José Carlos dos Reis Encina\"] \\\\\n",
       "\t9 & France & 1986 & ,Michel Vaujour & Prison de la Santé & Yes\\textbackslash{}n & [\"Michel Vaujour\"] \\\\\n",
       "\t10 & United States & 1986 & ,Samantha Lopez & Federal Correctional Institution, Dublin & Yes\\textbackslash{}n & [\"Samantha Lopez\"] \\\\\n",
       "\t11 & Italy & 1986 & ,André Bellaïche,Gianluigi Esposito,Luciano  Cipollari & Prigione di Rebibbia, Roma & Yes\\textbackslash{}n & [\"André Bellaïche\", \"Gianluigi Esposito\", \"Luciano  Cipollari\"] \\\\\n",
       "\t12 & United Kingdom & 1987 & ,Sydney Draper,John Kendall & Gartree (HM Prison) & Yes\\textbackslash{}n & [\"Sydney Draper\", \"John Kendall\"] \\\\\n",
       "\t13 & United States & 1988 & ,Mahoney Danny ,Francis Mitchell,Randy Lackey & Santa Fe prison & Yes\\textbackslash{}n & [\"Mahoney Danny \", \"Francis Mitchell\", \"Randy Lackey\"] \\\\\n",
       "\t14 & United States & 1989 & ,Ben Kramer & Federal Holding Facility, Miami, FL\\textbackslash{}n & No\\textbackslash{}n & [\"Ben Kramer\"] \\\\\n",
       "\t15 & United States & 1989 & ,Ralph Brown,Freddie Gonzales & Arkansas Valley Correctional Facility\\textbackslash{}n & Yes\\textbackslash{}n & [\"Ralph Brown\", \"Freddie Gonzales\"] \\\\\n",
       "\t16 & Canada & 1990 & ,Robert Ford,David Thomas & Kent Penitentiary, British Columbia\\textbackslash{}n & Yes\\textbackslash{}n & [\"Robert Ford\", \"David Thomas\"] \\\\\n",
       "\t17 & Puerto Rico & 1991 & ,William Lane & Rio Piedras State Penitentiary, Puerto Rico\\textbackslash{}n & Yes\\textbackslash{}n & [\"William Lane\"] \\\\\n",
       "\t18 & France & 1992 & ,— & Lyon Prison\\textbackslash{}n & Yes\\textbackslash{}n & [\"1992\\_Lyon\\_1\", \"1992\\_Lyon\\_2\", \"1992\\_Lyon\\_3\"] \\\\\n",
       "\t19 & France & 1992 & ,— & Touraine Central Prison, Tours & No\\textbackslash{}n & [\"1992\\_Touraine\\_1\", \"1992\\_Touraine\\_2\", \"1992\\_Touraine\\_3\", \"1992\\_Touraine\\_4\"] \\\\\n",
       "\t20 & France & 1993 & ,Michel Vaujour & Touraine Central Prison, Tours & No\\textbackslash{}n & [\"Michel Vaujour\"] \\\\\n",
       "\\end{tabular}\n"
      ],
      "text/plain": [
       "\u001b[1m20×6 DataFrame\u001b[0m\n",
       "\u001b[1m Row \u001b[0m│\u001b[1m Country        \u001b[0m\u001b[1m Year  \u001b[0m\u001b[1m Escapee(s)                        \u001b[0m\u001b[1m Prison name                       \u001b[0m\u001b[1m Succeeded \u001b[0m\u001b[1m Escapees                          \u001b[0m\n",
       "\u001b[1m     \u001b[0m│\u001b[90m String         \u001b[0m\u001b[90m Int64 \u001b[0m\u001b[90m String                            \u001b[0m\u001b[90m String                            \u001b[0m\u001b[90m String    \u001b[0m\u001b[90m Array…                            \u001b[0m\n",
       "─────┼───────────────────────────────────────────────────────────────────────────────────────────────────────────────────────────────────────────\n",
       "   1 │ Mexico           1971  ,Joel David Kaplan,Carlos Antoni…  Santa Martha Acatitla\\n            Yes\\n      SubString{String}[\"Joel David Ka…\n",
       "   2 │ Ireland          1973  ,JB O'Hagan,Seamus Twomey,Kevin …  Mountjoy Jail                      Yes\\n      SubString{String}[\"JB O'Hagan\", …\n",
       "   3 │ United States    1978  ,Garrett Brock Trapnell,Martin J…  United States Penitentiary, Mari…  No\\n       SubString{String}[\"Garrett Brock…\n",
       "   4 │ France           1981  ,Gérard Dupré,Daniel Beaumont      Fleury-Mérogis, Essonne, Ile de …  Yes\\n      SubString{String}[\"Gérard Dupré\"…\n",
       "   5 │ Canada           1981  ,Marina Paquet (hijacker),Giles …  Orsainville Prison, Quebec City\\n  No\\n       SubString{String}[\"Marina Paquet…\n",
       "   6 │ Australia        1983  ,David McMillan                    Pentridge (HM Prison)              No\\n       SubString{String}[\"David McMilla…\n",
       "   7 │ United States    1985  ,James Rodney Leonard,William Do…  Perry Correctional Institution, …  Yes\\n      SubString{String}[\"James Rodney …\n",
       "   8 │ Brazil           1985  ,José Carlos dos Reis Encina, a.…  Cândido Mendes penitentiary, Ilh…  Yes\\n      SubString{String}[\"José Carlos d…\n",
       "   9 │ France           1986  ,Michel Vaujour                    Prison de la Santé                 Yes\\n      SubString{String}[\"Michel Vaujou…\n",
       "  10 │ United States    1986  ,Samantha Lopez                    Federal Correctional Institution…  Yes\\n      SubString{String}[\"Samantha Lope…\n",
       "  11 │ Italy            1986  ,André Bellaïche,Gianluigi Espos…  Prigione di Rebibbia, Roma         Yes\\n      SubString{String}[\"André Bellaïc…\n",
       "  12 │ United Kingdom   1987  ,Sydney Draper,John Kendall        Gartree (HM Prison)                Yes\\n      SubString{String}[\"Sydney Draper…\n",
       "  13 │ United States    1988  ,Mahoney Danny ,Francis Mitchell…  Santa Fe prison                    Yes\\n      SubString{String}[\"Mahoney Danny…\n",
       "  14 │ United States    1989  ,Ben Kramer                        Federal Holding Facility, Miami,…  No\\n       SubString{String}[\"Ben Kramer\"]\n",
       "  15 │ United States    1989  ,Ralph Brown,Freddie Gonzales      Arkansas Valley Correctional Fac…  Yes\\n      SubString{String}[\"Ralph Brown\",…\n",
       "  16 │ Canada           1990  ,Robert Ford,David Thomas          Kent Penitentiary, British Colum…  Yes\\n      SubString{String}[\"Robert Ford\",…\n",
       "  17 │ Puerto Rico      1991  ,William Lane                      Rio Piedras State Penitentiary, …  Yes\\n      SubString{String}[\"William Lane\"]\n",
       "  18 │ France           1992  ,—                                 Lyon Prison\\n                      Yes\\n      SubString{String}[\"1992_Lyon_1\",…\n",
       "  19 │ France           1992  ,—                                 Touraine Central Prison, Tours     No\\n       SubString{String}[\"1992_Touraine…\n",
       "  20 │ France           1993  ,Michel Vaujour                    Touraine Central Prison, Tours     No\\n       SubString{String}[\"Michel Vaujou…"
      ]
     },
     "execution_count": 16,
     "metadata": {},
     "output_type": "execute_result"
    }
   ],
   "source": [
    "# h_escapes = h_escapes[:, Not(\"Escapee(s)\")]\n",
    "\n",
    "# some values are a bit wrong and since there are not that many of them, we can just fix them manually\n",
    "# index 8: \"\"\"José Carlos dos Reis Encina, a.k.a. \"Escadinha\" \"\"\"\n",
    "# index 21: Four members of the Manuel Rodriguez Patriotic Front\n",
    "# index 39: \"Ashraf  Sekkaki\", \" plus three other criminals\"\n",
    "\n",
    "h_escapes[8, :Escapees] = [\"José Carlos dos Reis Encina\"]\n",
    "h_escapes[21, :Escapees] = [\"MRPF 1\", \"MRPF 2\", \"MRPF 3\", \"MRPF 4\"]\n",
    "h_escapes[40, :Escapees] = [\"Ashraf  Sekkaki\", \"Criminal 1\", \"Criminal 2\", \"Criminal 3\"]\n",
    "\n",
    "first(h_escapes, 20)"
   ]
  },
  {
   "cell_type": "code",
   "execution_count": 17,
   "id": "11f03741",
   "metadata": {},
   "outputs": [
    {
     "data": {
      "text/html": [
       "<div class=\"data-frame\"><p>5 rows × 5 columns</p><table class=\"data-frame\"><thead><tr><th></th><th>Country</th><th>Year</th><th>Prison name</th><th>Succeeded</th><th>Escapees</th></tr><tr><th></th><th title=\"String\">String</th><th title=\"Int64\">Int64</th><th title=\"String\">String</th><th title=\"String\">String</th><th title=\"Vector{SubString{String}}\">Array…</th></tr></thead><tbody><tr><th>1</th><td>Mexico</td><td>1971</td><td>Santa Martha Acatitla\\n</td><td>Yes\\n</td><td>[&quot;Joel David Kaplan&quot;, &quot;Carlos Antonio Contreras Castro&quot;]</td></tr><tr><th>2</th><td>Ireland</td><td>1973</td><td>Mountjoy Jail</td><td>Yes\\n</td><td>[&quot;JB O&apos;Hagan&quot;, &quot;Seamus Twomey&quot;, &quot;Kevin Mallon&quot;]</td></tr><tr><th>3</th><td>United States</td><td>1978</td><td>United States Penitentiary, Marion</td><td>No\\n</td><td>[&quot;Garrett Brock Trapnell&quot;, &quot;Martin Joseph McNally&quot;, &quot;James Kenneth Johnson&quot;]</td></tr><tr><th>4</th><td>France</td><td>1981</td><td>Fleury-Mérogis, Essonne, Ile de France\\n</td><td>Yes\\n</td><td>[&quot;Gérard Dupré&quot;, &quot;Daniel Beaumont&quot;]</td></tr><tr><th>5</th><td>Canada</td><td>1981</td><td>Orsainville Prison, Quebec City\\n</td><td>No\\n</td><td>[&quot;Marina Paquet (hijacker)&quot;, &quot;Giles Arseneault (prisoner)&quot;]</td></tr></tbody></table></div>"
      ],
      "text/latex": [
       "\\begin{tabular}{r|ccccc}\n",
       "\t& Country & Year & Prison name & Succeeded & Escapees\\\\\n",
       "\t\\hline\n",
       "\t& String & Int64 & String & String & Array…\\\\\n",
       "\t\\hline\n",
       "\t1 & Mexico & 1971 & Santa Martha Acatitla\\textbackslash{}n & Yes\\textbackslash{}n & [\"Joel David Kaplan\", \"Carlos Antonio Contreras Castro\"] \\\\\n",
       "\t2 & Ireland & 1973 & Mountjoy Jail & Yes\\textbackslash{}n & [\"JB O'Hagan\", \"Seamus Twomey\", \"Kevin Mallon\"] \\\\\n",
       "\t3 & United States & 1978 & United States Penitentiary, Marion & No\\textbackslash{}n & [\"Garrett Brock Trapnell\", \"Martin Joseph McNally\", \"James Kenneth Johnson\"] \\\\\n",
       "\t4 & France & 1981 & Fleury-Mérogis, Essonne, Ile de France\\textbackslash{}n & Yes\\textbackslash{}n & [\"Gérard Dupré\", \"Daniel Beaumont\"] \\\\\n",
       "\t5 & Canada & 1981 & Orsainville Prison, Quebec City\\textbackslash{}n & No\\textbackslash{}n & [\"Marina Paquet (hijacker)\", \"Giles Arseneault (prisoner)\"] \\\\\n",
       "\\end{tabular}\n"
      ],
      "text/plain": [
       "\u001b[1m5×5 DataFrame\u001b[0m\n",
       "\u001b[1m Row \u001b[0m│\u001b[1m Country       \u001b[0m\u001b[1m Year  \u001b[0m\u001b[1m Prison name                       \u001b[0m\u001b[1m Succeeded \u001b[0m\u001b[1m Escapees                          \u001b[0m\n",
       "\u001b[1m     \u001b[0m│\u001b[90m String        \u001b[0m\u001b[90m Int64 \u001b[0m\u001b[90m String                            \u001b[0m\u001b[90m String    \u001b[0m\u001b[90m Array…                            \u001b[0m\n",
       "─────┼───────────────────────────────────────────────────────────────────────────────────────────────────────\n",
       "   1 │ Mexico          1971  Santa Martha Acatitla\\n            Yes\\n      SubString{String}[\"Joel David Ka…\n",
       "   2 │ Ireland         1973  Mountjoy Jail                      Yes\\n      SubString{String}[\"JB O'Hagan\", …\n",
       "   3 │ United States   1978  United States Penitentiary, Mari…  No\\n       SubString{String}[\"Garrett Brock…\n",
       "   4 │ France          1981  Fleury-Mérogis, Essonne, Ile de …  Yes\\n      SubString{String}[\"Gérard Dupré\"…\n",
       "   5 │ Canada          1981  Orsainville Prison, Quebec City\\n  No\\n       SubString{String}[\"Marina Paquet…"
      ]
     },
     "execution_count": 17,
     "metadata": {},
     "output_type": "execute_result"
    }
   ],
   "source": [
    "# finish dropping the redundant column Escapee(s)\n",
    "h_escapes = h_escapes[!, Not(\"Escapee(s)\")]\n",
    "first(h_escapes, 5)"
   ]
  },
  {
   "cell_type": "markdown",
   "id": "11abbcd2",
   "metadata": {},
   "source": [
    "## Prison name"
   ]
  },
  {
   "cell_type": "markdown",
   "id": "0468682d",
   "metadata": {},
   "source": [
    "Some prison name has an extra newline at the end. We should remove that."
   ]
  },
  {
   "cell_type": "code",
   "execution_count": 18,
   "id": "11a4fea4",
   "metadata": {},
   "outputs": [
    {
     "data": {
      "text/html": [
       "<div class=\"data-frame\"><p>48 rows × 1 columns</p><table class=\"data-frame\"><thead><tr><th></th><th>Prison name</th></tr><tr><th></th><th title=\"SubString{String}\">SubStrin…</th></tr></thead><tbody><tr><th>1</th><td>Santa Martha Acatitla</td></tr><tr><th>2</th><td>Mountjoy Jail</td></tr><tr><th>3</th><td>United States Penitentiary, Marion</td></tr><tr><th>4</th><td>Fleury-Mérogis, Essonne, Ile de France</td></tr><tr><th>5</th><td>Orsainville Prison, Quebec City</td></tr><tr><th>6</th><td>Pentridge (HM Prison)</td></tr><tr><th>7</th><td>Perry Correctional Institution, Pelzer, South Carolina</td></tr><tr><th>8</th><td>Cândido Mendes penitentiary, Ilha Grande, Rio de Janeiro</td></tr><tr><th>9</th><td>Prison de la Santé</td></tr><tr><th>10</th><td>Federal Correctional Institution, Dublin</td></tr><tr><th>11</th><td>Prigione di Rebibbia, Roma</td></tr><tr><th>12</th><td>Gartree (HM Prison)</td></tr><tr><th>13</th><td>Santa Fe prison</td></tr><tr><th>14</th><td>Federal Holding Facility, Miami, FL</td></tr><tr><th>15</th><td>Arkansas Valley Correctional Facility</td></tr><tr><th>16</th><td>Kent Penitentiary, British Columbia</td></tr><tr><th>17</th><td>Rio Piedras State Penitentiary, Puerto Rico</td></tr><tr><th>18</th><td>Lyon Prison</td></tr><tr><th>19</th><td>Touraine Central Prison, Tours</td></tr><tr><th>20</th><td>Touraine Central Prison, Tours</td></tr><tr><th>21</th><td>High Security Prison, Santiago</td></tr><tr><th>22</th><td>De Geerhorst jail</td></tr><tr><th>23</th><td>Metropolitan Remand and Reception Centre</td></tr><tr><th>24</th><td>Martin Treatment Center for Sexually Violent Predators, Martin County Florida</td></tr><tr><th>25</th><td>Lyon prison</td></tr><tr><th>26</th><td>Luynes prison</td></tr><tr><th>27</th><td>Draguignan prison</td></tr><tr><th>28</th><td>Fresnes prison</td></tr><tr><th>29</th><td>Parada Neto Penitentiary</td></tr><tr><th>30</th><td>Las Cucharas prison, Puerto Rico</td></tr><tr><th>&vellip;</th><td>&vellip;</td></tr></tbody></table></div>"
      ],
      "text/latex": [
       "\\begin{tabular}{r|c}\n",
       "\t& Prison name\\\\\n",
       "\t\\hline\n",
       "\t& SubStrin…\\\\\n",
       "\t\\hline\n",
       "\t1 & Santa Martha Acatitla \\\\\n",
       "\t2 & Mountjoy Jail \\\\\n",
       "\t3 & United States Penitentiary, Marion \\\\\n",
       "\t4 & Fleury-Mérogis, Essonne, Ile de France \\\\\n",
       "\t5 & Orsainville Prison, Quebec City \\\\\n",
       "\t6 & Pentridge (HM Prison) \\\\\n",
       "\t7 & Perry Correctional Institution, Pelzer, South Carolina \\\\\n",
       "\t8 & Cândido Mendes penitentiary, Ilha Grande, Rio de Janeiro \\\\\n",
       "\t9 & Prison de la Santé \\\\\n",
       "\t10 & Federal Correctional Institution, Dublin \\\\\n",
       "\t11 & Prigione di Rebibbia, Roma \\\\\n",
       "\t12 & Gartree (HM Prison) \\\\\n",
       "\t13 & Santa Fe prison \\\\\n",
       "\t14 & Federal Holding Facility, Miami, FL \\\\\n",
       "\t15 & Arkansas Valley Correctional Facility \\\\\n",
       "\t16 & Kent Penitentiary, British Columbia \\\\\n",
       "\t17 & Rio Piedras State Penitentiary, Puerto Rico \\\\\n",
       "\t18 & Lyon Prison \\\\\n",
       "\t19 & Touraine Central Prison, Tours \\\\\n",
       "\t20 & Touraine Central Prison, Tours \\\\\n",
       "\t21 & High Security Prison, Santiago \\\\\n",
       "\t22 & De Geerhorst jail \\\\\n",
       "\t23 & Metropolitan Remand and Reception Centre \\\\\n",
       "\t24 & Martin Treatment Center for Sexually Violent Predators, Martin County Florida \\\\\n",
       "\t25 & Lyon prison \\\\\n",
       "\t26 & Luynes prison \\\\\n",
       "\t27 & Draguignan prison \\\\\n",
       "\t28 & Fresnes prison \\\\\n",
       "\t29 & Parada Neto Penitentiary \\\\\n",
       "\t30 & Las Cucharas prison, Puerto Rico \\\\\n",
       "\t$\\dots$ & $\\dots$ \\\\\n",
       "\\end{tabular}\n"
      ],
      "text/plain": [
       "\u001b[1m48×1 DataFrame\u001b[0m\n",
       "\u001b[1m Row \u001b[0m│\u001b[1m Prison name                       \u001b[0m\n",
       "\u001b[1m     \u001b[0m│\u001b[90m SubString…                        \u001b[0m\n",
       "─────┼───────────────────────────────────\n",
       "   1 │ Santa Martha Acatitla\n",
       "   2 │ Mountjoy Jail\n",
       "   3 │ United States Penitentiary, Mari…\n",
       "   4 │ Fleury-Mérogis, Essonne, Ile de …\n",
       "   5 │ Orsainville Prison, Quebec City\n",
       "   6 │ Pentridge (HM Prison)\n",
       "   7 │ Perry Correctional Institution, …\n",
       "   8 │ Cândido Mendes penitentiary, Ilh…\n",
       "   9 │ Prison de la Santé\n",
       "  10 │ Federal Correctional Institution…\n",
       "  11 │ Prigione di Rebibbia, Roma\n",
       "  ⋮  │                 ⋮\n",
       "  39 │ Domenjod Prison, Réunion\n",
       "  40 │ Bruges\n",
       "  41 │ HM Prison Isle of Wight, Isle of…\n",
       "  42 │ Sheksna, Penal colony N17\n",
       "  43 │ Trikala Prison, Trikala\n",
       "  44 │ Saint-Jérôme Detention Facility,…\n",
       "  45 │ Orsainville Detention Facility, …\n",
       "  46 │ Thiva\n",
       "  47 │ Réau, near Paris\n",
       "  48 │ Forest prison, Brussels\n",
       "\u001b[36m                          27 rows omitted\u001b[0m"
      ]
     },
     "execution_count": 18,
     "metadata": {},
     "output_type": "execute_result"
    }
   ],
   "source": [
    "# strip newlines\n",
    "h_escapes[!, [\"Prison name\"]] = select(h_escapes, \"Prison name\" => ByRow(x -> chomp(x)) => \"Prison name\")"
   ]
  },
  {
   "cell_type": "markdown",
   "id": "b7947a99",
   "metadata": {},
   "source": [
    "### Succeeded\n",
    "\n",
    "The \"Yes\" and \"No\" are a little bit tedious to analyse compared to booleans. Converting them is our next step."
   ]
  },
  {
   "cell_type": "code",
   "execution_count": 19,
   "id": "e32c6f7e",
   "metadata": {},
   "outputs": [
    {
     "data": {
      "text/html": [
       "<div class=\"data-frame\"><p>10 rows × 1 columns</p><table class=\"data-frame\"><thead><tr><th></th><th>Succeeded</th></tr><tr><th></th><th title=\"Bool\">Bool</th></tr></thead><tbody><tr><th>1</th><td>1</td></tr><tr><th>2</th><td>1</td></tr><tr><th>3</th><td>0</td></tr><tr><th>4</th><td>1</td></tr><tr><th>5</th><td>0</td></tr><tr><th>6</th><td>0</td></tr><tr><th>7</th><td>1</td></tr><tr><th>8</th><td>1</td></tr><tr><th>9</th><td>1</td></tr><tr><th>10</th><td>1</td></tr></tbody></table></div>"
      ],
      "text/latex": [
       "\\begin{tabular}{r|c}\n",
       "\t& Succeeded\\\\\n",
       "\t\\hline\n",
       "\t& Bool\\\\\n",
       "\t\\hline\n",
       "\t1 & 1 \\\\\n",
       "\t2 & 1 \\\\\n",
       "\t3 & 0 \\\\\n",
       "\t4 & 1 \\\\\n",
       "\t5 & 0 \\\\\n",
       "\t6 & 0 \\\\\n",
       "\t7 & 1 \\\\\n",
       "\t8 & 1 \\\\\n",
       "\t9 & 1 \\\\\n",
       "\t10 & 1 \\\\\n",
       "\\end{tabular}\n"
      ],
      "text/plain": [
       "\u001b[1m10×1 DataFrame\u001b[0m\n",
       "\u001b[1m Row \u001b[0m│\u001b[1m Succeeded \u001b[0m\n",
       "\u001b[1m     \u001b[0m│\u001b[90m Bool      \u001b[0m\n",
       "─────┼───────────\n",
       "   1 │      true\n",
       "   2 │      true\n",
       "   3 │     false\n",
       "   4 │      true\n",
       "   5 │     false\n",
       "   6 │     false\n",
       "   7 │      true\n",
       "   8 │      true\n",
       "   9 │      true\n",
       "  10 │      true"
      ]
     },
     "execution_count": 19,
     "metadata": {},
     "output_type": "execute_result"
    }
   ],
   "source": [
    "# convert the Succeeded column from a String into a Bool column\n",
    "h_escapes[!, [:Succeeded]] = select(h_escapes, :Succeeded => ByRow(x -> x == \"Yes\\n\" ? true : false) => :Succeeded)\n",
    "\n",
    "first(h_escapes[!, [:Succeeded]], 10)"
   ]
  },
  {
   "cell_type": "markdown",
   "id": "baaa473f",
   "metadata": {},
   "source": [
    "### Result of data cleaning\n",
    "\n"
   ]
  },
  {
   "cell_type": "markdown",
   "id": "cfddf6dd",
   "metadata": {},
   "source": [
    "The final data will be a dataframe listing helicopter escape attempts worldwide. The columns and their descriptions are as follows:\n",
    "\n",
    "| Column Name |                           Description                          |Data Type       | \n",
    "|-------------|:--------------------------------------------------------------:|:--------------:|\n",
    "| Country     | The name of the country the escape attempt happened            |String          | \n",
    "| Year        | The year the escape attempt happened                           |Integer         | \n",
    "| Prison name | The name of the prison the escapees were trying to escape from |String          | \n",
    "| Succeeded   | Whether the escapees successfully escaped from the prison      |Boolean         | \n",
    "| Escapees    | The name of all escapees involved in the escape attempt        |Array of String | \n"
   ]
  },
  {
   "cell_type": "markdown",
   "id": "22f1f403",
   "metadata": {},
   "source": [
    "## Analysis\n",
    "\n",
    "### Attempts Per Year\n",
    "\n",
    "This is not the main goal of our project, but it helps to provide an overview on how attempt numbers change throughout the recorded years."
   ]
  },
  {
   "cell_type": "code",
   "execution_count": 20,
   "id": "cb0304f1",
   "metadata": {},
   "outputs": [
    {
     "data": {
      "text/plain": [
       "10-element Vector{Tuple{Int64, Int64}}:\n",
       " (1971, 0)\n",
       " (1972, 0)\n",
       " (1973, 0)\n",
       " (1974, 0)\n",
       " (1975, 0)\n",
       " (1976, 0)\n",
       " (1977, 0)\n",
       " (1978, 0)\n",
       " (1979, 0)\n",
       " (1980, 0)"
      ]
     },
     "execution_count": 20,
     "metadata": {},
     "output_type": "execute_result"
    }
   ],
   "source": [
    "# find min and max values of the Year column\n",
    "min_year = minimum(h_escapes[!, :Year])\n",
    "max_year = maximum(h_escapes[!, :Year])\n",
    "\n",
    "# create a list of tuples with year as the first value and 0 as the second\n",
    "attempts_per_year = Tuple{Int64, Int64}[]\n",
    "for y in range(min_year, max_year)\n",
    "    push!(attempts_per_year, (y,0))\n",
    "end\n",
    "\n",
    "first(attempts_per_year, 10)"
   ]
  },
  {
   "cell_type": "code",
   "execution_count": 21,
   "id": "b9acf837",
   "metadata": {},
   "outputs": [
    {
     "data": {
      "text/plain": [
       "10-element Vector{Tuple{Int64, Int64}}:\n",
       " (1971, 1)\n",
       " (1972, 0)\n",
       " (1973, 1)\n",
       " (1974, 0)\n",
       " (1975, 0)\n",
       " (1976, 0)\n",
       " (1977, 0)\n",
       " (1978, 1)\n",
       " (1979, 0)\n",
       " (1980, 0)"
      ]
     },
     "execution_count": 21,
     "metadata": {},
     "output_type": "execute_result"
    }
   ],
   "source": [
    "# we'll map the year with the corresponding number of attempts\n",
    "for row in eachrow(h_escapes)\n",
    "    attempts_size = size(attempts_per_year)[1]\n",
    "    for idx in range(1, attempts_size)\n",
    "        num_attempts = attempts_per_year[idx][2]\n",
    "        year = attempts_per_year[idx][1]\n",
    "        # the second element in row is the year value\n",
    "        if row[2] == year\n",
    "            incr_attempts = num_attempts + 1\n",
    "            attempts_per_year[idx] = (year, incr_attempts) \n",
    "        end\n",
    "    end\n",
    "end\n",
    "\n",
    "first(attempts_per_year, 10)"
   ]
  },
  {
   "cell_type": "code",
   "execution_count": null,
   "id": "30c06a45",
   "metadata": {
    "scrolled": false
   },
   "outputs": [],
   "source": [
    "\n",
    "logocolors = Colors.JULIA_LOGO_COLORS\n",
    "\n",
    "color_attempts_py = []\n",
    "\n",
    "for tuple in attempts_per_year\n",
    "   attempts = tuple[2]\n",
    "    if attempts == 3\n",
    "        push!(color_attempts_py, logocolors.red)\n",
    "    elseif attempts == 2\n",
    "        push!(color_attempts_py, logocolors.blue)\n",
    "    else\n",
    "        push!(color_attempts_py, logocolors.green)\n",
    "    end\n",
    "    \n",
    "end\n",
    "cs1 = ColorScheme(range(colorant\"red\", colorant\"green\", length=5))\n",
    "# plot a horizontal barplot for attempts_per_year\n",
    "\n",
    "PLT.bar(attempts_per_year, \n",
    "        label         = nothing, \n",
    "        yticks        = 1970:2020, \n",
    "        xticks        = 0:3,\n",
    "        orientation   = :horizontal, \n",
    "        size          = (800,800), \n",
    "        xlabel        = \"Number of Attempts\",\n",
    "        ylabel        = \"Year\",\n",
    "        fillcolors    = color_attempts_py,\n",
    "        linecolor     = :transparent,\n",
    "        grid          = false,\n",
    "        xlim          = (0,3),\n",
    "        title         = \"Year 1986, 2001, 2007, and 2009 have the highest helicopter escape attempts\",      \n",
    "        titlefontsize = 11,\n",
    ")\n",
    "\n",
    "PLT.plot!([1,2,3], seriestype=\"vline\", c=:black, alpha=0.1, label = nothing, )\n"
   ]
  },
  {
   "cell_type": "markdown",
   "id": "eaa3dadc",
   "metadata": {},
   "source": [
    "### Number of Attempts Per Country\n",
    "\n",
    "To have a greater impact in preventing helicopter escapes, we decided to focus on identifying the three countries with the most helicopter escape attempts. A high number of attempts doesn't necessarily tell us that the country's prison is insecure, because it's possible for a prison to be very secure but the criminals it holds are more daring than those in other countries. But, it could also be a hint that the criminals were able to see a flaw in the security, thus they wanted to take advantage of that."
   ]
  },
  {
   "cell_type": "code",
   "execution_count": null,
   "id": "4c99dca7",
   "metadata": {
    "scrolled": true
   },
   "outputs": [],
   "source": [
    "# create a frequency table for attempts per country\n",
    "attempts_country_table = freqtable(h_escapes[!, [:Country]], :Country)\n",
    "\n",
    "# sort by attempts number and descending\n",
    "sort(attempts_country_table, rev=true)"
   ]
  },
  {
   "cell_type": "markdown",
   "id": "82224d4e",
   "metadata": {},
   "source": [
    "France has the highest helicopter escape attempts at 15. The United State has the second highest number at 7 which is half of France. Belgium, Canada, and Greece are tie for the third highest number at 4 each which is half of the United States and quarter of France.\n",
    "\n",
    "Knowing that France and USA have many attempts, we can investigate if the attempts happened at the same prison. If some prisons have more attempts than others, we can specifically focus on them instead."
   ]
  },
  {
   "cell_type": "code",
   "execution_count": null,
   "id": "1575f797",
   "metadata": {
    "scrolled": true
   },
   "outputs": [],
   "source": [
    "france_escapes = filter( x -> x[:Country] == \"France\", h_escapes)\n",
    "\n",
    "# create a frequency table for attempts per country\n",
    "france_prison_table = freqtable(france_escapes[!, [\"Prison name\"]], \"Prison name\")"
   ]
  },
  {
   "cell_type": "markdown",
   "id": "035c7753",
   "metadata": {},
   "source": [
    "Lyon Prison, Luynes Prison, and Touraine Central Prison have 2 attempts each. We should note those prisons because they could be less secure in preventing helicopter escape attempts than the rest."
   ]
  },
  {
   "cell_type": "code",
   "execution_count": null,
   "id": "ee8d63e7",
   "metadata": {},
   "outputs": [],
   "source": [
    "usa_escapes = filter( x -> x[:Country] == \"United States\", h_escapes)\n",
    "\n",
    "# create a frequency table for attempts per country\n",
    "usa_prison_table = freqtable(usa_escapes[!, [\"Prison name\"]], \"Prison name\")"
   ]
  },
  {
   "cell_type": "markdown",
   "id": "0ba4b88e",
   "metadata": {},
   "source": [
    "The USA has an even spread with all prisons only having 1 attempt each."
   ]
  },
  {
   "cell_type": "markdown",
   "id": "2df7bf35",
   "metadata": {},
   "source": [
    "### Attempts Success Chance per Country"
   ]
  },
  {
   "cell_type": "markdown",
   "id": "e31b9078",
   "metadata": {},
   "source": [
    "Even if helicopter escape attempts are undesirable, successful ones will be more so. Prisoners who successfuly escaped introduce significant danger to the public, unlike those who failed who'll still be in prison. The result of this analysis should be given more attention than the previous one.\n",
    "\n",
    "Similar to the number of attempts, we'll need to calculate the successful attempts per country based on the available data, followed by finding the success chance."
   ]
  },
  {
   "cell_type": "code",
   "execution_count": null,
   "id": "f7a13513",
   "metadata": {
    "scrolled": true
   },
   "outputs": [],
   "source": [
    "# create a dictionary \n",
    "attempts_country_dict = SB.countmap(h_escapes[!, :Country])\n",
    "\n",
    "# create a new dataframe based on the attempts per country frequency table\n",
    "# this is required for country-based analysis\n",
    "attempts_country_df = DataFrame(\"Country\" => [k for k=keys(attempts_country_dict)],\n",
    "          \"Attempts\" => [v for v=values(attempts_country_dict)])\n"
   ]
  },
  {
   "cell_type": "code",
   "execution_count": null,
   "id": "629488d1",
   "metadata": {
    "scrolled": true
   },
   "outputs": [],
   "source": [
    "# A function that creates a dataframe containing the attempts, successful attempts and success chance for a variable/column\n",
    "# It:\n",
    "# 1. groups the passed df argument by group_col, apply a function to calculate both the attempts and successful attempts\n",
    "# 2. creates a success chance column based on successful attempts and attempts\n",
    "# 3. sorts by success chance and returns the sorted dataframe\n",
    "function create_attempts_df(df, group_col) \n",
    "    attempts_df = combine(groupby(h_escapes, group_col), \n",
    "                    group_col => (y -> size(y, 1)) => :Attempts, \n",
    "                    :Succeeded => count => :SuccessfulAttempts)\n",
    "    attempts_df[!, :SuccessChance] = attempts_df.SuccessfulAttempts ./ attempts_df.Attempts .* 100\n",
    "    attempts_df_sorted = sort(attempts_country_df, :SuccessChance, rev=true)\n",
    "    \n",
    "    attempts_df_sorted\n",
    "end\n",
    "\n",
    "attempts_country_df = create_attempts_df(h_escapes, :Country)"
   ]
  },
  {
   "cell_type": "markdown",
   "id": "5ffb961c",
   "metadata": {},
   "source": [
    "Some of the countries only have a single attempt, and it's unlikely that a single attempt's success chance  representative of the prison's security i.e. will the success chance hold in future attempts? \n",
    "\n",
    "For the purpose of this project, we'll focus on countries with a more representatitive success chance by only analysing those with at least 3 attempts."
   ]
  },
  {
   "cell_type": "code",
   "execution_count": null,
   "id": "a425c274",
   "metadata": {
    "scrolled": true
   },
   "outputs": [],
   "source": [
    "filter(row -> row.Attempts > 2, attempts_country_df)"
   ]
  },
  {
   "cell_type": "markdown",
   "id": "101d1726",
   "metadata": {},
   "source": [
    "It turns out that the United States and Canada are tie for the highest helicopter escape success chance at 75%. France is a close second at approximately 73%. This is an important finding especially when we look at the results for France and the United States. Not only do they have high number of attempts, most of those attempts are more likely to succeed than fail. Our priority should be to investigate those two countries further in a different project. We should also consider looking into the other 3 countries especially Canada once we've investigated France and the United States.\n"
   ]
  },
  {
   "cell_type": "code",
   "execution_count": null,
   "id": "96936ff1",
   "metadata": {},
   "outputs": [],
   "source": []
  },
  {
   "cell_type": "code",
   "execution_count": null,
   "id": "430fdf52",
   "metadata": {},
   "outputs": [],
   "source": [
    "# we can use the size of the Escapees array to get the number of escapees per attempt\n",
    "num_escapees = select(h_escapes, :Escapees => ByRow(array -> typeof(array) == Missing ? array : size(array,1)) => :NumEscapees)\n",
    "h_escapes.NumEscapees = num_escapees[!, :NumEscapees]\n",
    "first(h_escapes, 10)"
   ]
  },
  {
   "cell_type": "code",
   "execution_count": null,
   "id": "ff48a02a",
   "metadata": {},
   "outputs": [],
   "source": [
    "num_escapees_df = combine(\n",
    "                            groupby(h_escapes, :NumEscapees), \n",
    "                            :NumEscapees => (num -> size(num, 1)) => :Attempts, \n",
    "                            :Succeeded => count => :SuccessfulAttempts\n",
    "                         )\n",
    "\n",
    "num_escapees_df[!, :SuccessChance] = num_escapees_df.SuccessfulAttempts ./ num_escapees_df.Attempts .* 100\n",
    "\n",
    "PLT.bar(num_escapees_df[:, :NumEscapees], num_escapees_df[:, :SuccessChance],  label = nothing)"
   ]
  },
  {
   "cell_type": "code",
   "execution_count": null,
   "id": "331efb49",
   "metadata": {},
   "outputs": [],
   "source": [
    "# to see the exact success chance\n",
    "sort(num_escapees_df, :SuccessChance, rev=true)"
   ]
  },
  {
   "cell_type": "code",
   "execution_count": null,
   "id": "a6053a8f",
   "metadata": {},
   "outputs": [],
   "source": [
    "escapees_arr = String[]\n",
    "for escapees in skipmissing(h_escapes[:, :Escapees])\n",
    "    # we'll have to remove the leading whitespace in the inner loop before pushing the value in\n",
    "    for escapee in escapees\n",
    "       push!(escapees_arr, strip(escapee)) \n",
    "    end\n",
    "end\n",
    "sort(freqtable(escapees_arr), rev=true)"
   ]
  },
  {
   "cell_type": "code",
   "execution_count": null,
   "id": "b95c5437",
   "metadata": {},
   "outputs": [],
   "source": [
    "#= power of love analysis\n",
    " each row's PowerOfLove value is 1 if it involves any help from a lover (e.g. partner, lover, wife, husband, etc); relationship by blood is not included in the definition\n",
    "\n",
    " the values are assigned manually; considering the limited amount of data, it is still a feasible operation\n",
    " \n",
    " 9 michel vaujour - wife piloted helicopter\n",
    " 46 greece roupa  - mistress organised escape\n",
    " 24 usa whitsett \n",
    " 5 canada marina paquet\n",
    " 10 samantha lopez usa\n",
    " 23 australia john killick\n",
    " 48 kristel a - \n",
    "=#\n",
    "\n",
    "powerof❤️ = [false for n=1:48]\n",
    "\n",
    "for saved in [9, 46, 24, 5, 10, 23, 48]\n",
    "   powerof❤️[saved] = true \n",
    "end\n",
    "h_escapes.PowerOf❤️ = powerof❤️\n",
    "filter(r -> r.PowerOf❤️ == true, h_escapes)"
   ]
  },
  {
   "cell_type": "code",
   "execution_count": null,
   "id": "36263e8d",
   "metadata": {},
   "outputs": [],
   "source": [
    "# repeat similar code for showing success change\n",
    "# considering how many times the following code is repeated, we should turn it into a function later\n",
    "powerof❤️_df = combine(\n",
    "                            groupby(h_escapes, :PowerOf❤️), \n",
    "                                               :PowerOf❤️ => (num -> size(num, 1)) => :Attempts, \n",
    "                                               :Succeeded => count => :SuccessfulAttempts)\n",
    "\n",
    "powerof❤️_df[!, :SuccessChance] = powerof❤️_df.SuccessfulAttempts ./ powerof❤️_df.Attempts\n",
    "\n",
    "PLT.bar(powerof❤️_df[:, :PowerOf❤️], powerof❤️_df[:, :SuccessChance], xticks= ([0.0:1.0;], [\"No\", \"Yes\"]), xlabel=\"Power of ❤️?\", ylabel=\"Success Chance (%)\", title=\"Does ❤️ help you escape by helicopter better?\",  label = nothing, fillcolor=[\"royalblue\", \"hotpink\"])"
   ]
  },
  {
   "cell_type": "code",
   "execution_count": null,
   "id": "43cf514a",
   "metadata": {
    "scrolled": true
   },
   "outputs": [],
   "source": [
    "powerof❤️_df"
   ]
  },
  {
   "cell_type": "markdown",
   "id": "8a201dcf",
   "metadata": {},
   "source": [
    "### Iterations\n",
    "\n",
    "180922 - Dataquest suggestions\n",
    "150922 - Initial dataquest requirements"
   ]
  },
  {
   "cell_type": "code",
   "execution_count": null,
   "id": "70185896",
   "metadata": {},
   "outputs": [],
   "source": [
    "# # Archive\n",
    "\n",
    "# # next, let's prepare the original dataframe for analysing number of escapees and how that affects success chance\n",
    "# # we'll start by examining the escapees column\n",
    "# first(h_escapes[!, \"Escapee(s)\"], 20)\n",
    "\n",
    "# function extractnames(string)\n",
    "#     matches = collect(eachmatch(r\"(?<name>[^,—]+)[\\n,\\b]?\", string))\n",
    "#     [match[\"name\"] for match = matches]\n",
    "# end\n",
    "\n",
    "# extractnames(\",José Carlos dos Reis Encina, a.k.a. \\\"Escadinha\\\"\")\n",
    "\n",
    "\n",
    "# # for text in h_escapes[!, \"Escapee(s)\"]\n",
    "# #    println(text) \n",
    "# # end\n",
    "# # h_escapes[!, [\"Escapee(s)\"]] = \n",
    "# new_escapees = transform(h_escapes, \"Escapee(s)\" => ByRow(x -> extractnames(x)) => \"Escapees\")[!, [6]]\n",
    "# new_escapees = select(new_escapees, :Escapees => ByRow(x -> isempty(x) ? missing : x) => :Escapees)\n",
    "# h_escapes.Escapees = new_escapees[!, \"Escapees\"]\n",
    "\n",
    "\n"
   ]
  },
  {
   "cell_type": "code",
   "execution_count": null,
   "id": "c7b4585b",
   "metadata": {},
   "outputs": [],
   "source": [
    "# h_escapes = h_escapes[:, Not(\"Escapee(s)\")]\n",
    "\n",
    "# some values are a bit wrong and since there are not that many of them, we can just fix them manually\n",
    "# index 8: \"\"\"José Carlos dos Reis Encina, a.k.a. \"Escadinha\" \"\"\"\n",
    "# index 21: Four members of the Manuel Rodriguez Patriotic Front\n",
    "# index 39: \"Ashraf  Sekkaki\", \" plus three other criminals\"\n",
    "\n",
    "# h_escapes[8, :Escapees] = [\"José Carlos dos Reis Encina\"]\n",
    "# h_escapes[21, :Escapees] = [\"MRPF 1\", \"MRPF 2\", \"MRPF 3\", \"MRPF 4\"]\n",
    "# h_escapes[39, :Escapees] = [\"Ashraf  Sekkaki\", \"Criminal 1\", \"Criminal 2\", \"Criminal 3\"]"
   ]
  },
  {
   "cell_type": "code",
   "execution_count": null,
   "id": "23bf90e7",
   "metadata": {},
   "outputs": [],
   "source": [
    "# # the original data need to be modified further for additional analyses\n",
    "# # first, we'll convert the Succeeded column from a String into a Bool column\n",
    "# h_escapes[!, [:Succeeded]] = select(h_escapes, :Succeeded => ByRow(x -> x == \"Yes\\n\" ? true : false) => :Succeeded)"
   ]
  }
 ],
 "metadata": {
  "@webio": {
   "lastCommId": "b0ea831512c24ed3a744e4877ed5daf7",
   "lastKernelId": "892b8c52-46ac-48df-bfff-769eaa11b300"
  },
  "kernelspec": {
   "display_name": "Julia 1.8.1",
   "language": "julia",
   "name": "julia-1.8"
  },
  "language_info": {
   "file_extension": ".jl",
   "mimetype": "application/julia",
   "name": "julia",
   "version": "1.8.1"
  }
 },
 "nbformat": 4,
 "nbformat_minor": 5
}
